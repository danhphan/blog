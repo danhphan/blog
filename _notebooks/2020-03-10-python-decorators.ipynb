{
 "cells": [
  {
   "cell_type": "code",
   "execution_count": 1,
   "source": [
    "# default_exp python_decorators"
   ],
   "outputs": [],
   "metadata": {}
  },
  {
   "cell_type": "markdown",
   "source": [
    "# Python decorators introduction\n",
    "\n",
    "> Some examples on how to use decorator in Python.\n",
    "\n",
    "- toc: true \n",
    "- badges: true\n",
    "- comments: true\n",
    "- categories: [jupyter, discrete choice, statsmodels]"
   ],
   "metadata": {}
  },
  {
   "cell_type": "code",
   "execution_count": 2,
   "source": [
    "#hide\n",
    "from nbdev.showdoc import *"
   ],
   "outputs": [],
   "metadata": {}
  },
  {
   "cell_type": "code",
   "execution_count": 3,
   "source": [
    "#export\n",
    "import functools\n",
    "import logging\n",
    "import random\n",
    "import time\n",
    "from collections import defaultdict"
   ],
   "outputs": [],
   "metadata": {}
  },
  {
   "cell_type": "markdown",
   "source": [
    "### Functions are first class objects"
   ],
   "metadata": {}
  },
  {
   "cell_type": "code",
   "execution_count": 4,
   "source": [
    "#export\n",
    "# Function as a parameter\n",
    "def hello(name, logger):\n",
    "    logger(f\"Hello {name}\")\n",
    "    \n",
    "hello(\"world\", logger=print)"
   ],
   "outputs": [
    {
     "output_type": "stream",
     "name": "stdout",
     "text": [
      "Hello world\n"
     ]
    }
   ],
   "metadata": {}
  },
  {
   "cell_type": "code",
   "execution_count": 5,
   "source": [
    "hello(\"First log\",logger=logging.warning)"
   ],
   "outputs": [
    {
     "output_type": "stream",
     "name": "stderr",
     "text": [
      "WARNING:root:Hello First log\n"
     ]
    }
   ],
   "metadata": {}
  },
  {
   "cell_type": "code",
   "execution_count": 6,
   "source": [
    "hello(\"Second log\",logger=logging.info)"
   ],
   "outputs": [],
   "metadata": {}
  },
  {
   "cell_type": "code",
   "execution_count": 7,
   "source": [
    "with open(\"hello.txt\", mode=\"w\") as file:\n",
    "    hello(\"Files\", logger=file.write)\n",
    "!cat hello.txt"
   ],
   "outputs": [
    {
     "output_type": "stream",
     "name": "stdout",
     "text": [
      "Hello Files"
     ]
    }
   ],
   "metadata": {}
  },
  {
   "cell_type": "code",
   "execution_count": 8,
   "source": [
    "def reversed_print(text):\n",
    "    print(text[::-1].capitalize())\n",
    "\n",
    "reversed_print(\"Hi there\")"
   ],
   "outputs": [
    {
     "output_type": "stream",
     "name": "stdout",
     "text": [
      "Ereht ih\n"
     ]
    }
   ],
   "metadata": {}
  },
  {
   "cell_type": "code",
   "execution_count": 9,
   "source": [
    "hello(\"Danh\", logger=reversed_print)"
   ],
   "outputs": [
    {
     "output_type": "stream",
     "name": "stdout",
     "text": [
      "Hnad olleh\n"
     ]
    }
   ],
   "metadata": {}
  },
  {
   "cell_type": "code",
   "execution_count": 10,
   "source": [
    "hello(\"world\", logger=print)"
   ],
   "outputs": [
    {
     "output_type": "stream",
     "name": "stdout",
     "text": [
      "Hello world\n"
     ]
    }
   ],
   "metadata": {}
  },
  {
   "cell_type": "markdown",
   "source": [
    "### Inner functions"
   ],
   "metadata": {}
  },
  {
   "cell_type": "code",
   "execution_count": 11,
   "source": [
    "\n",
    "def outer():\n",
    "    print(\"Hi from the outer\")\n",
    "    y = 2020\n",
    "    def inner():\n",
    "        print(\"Hello from the inner\")\n",
    "        print(f\"This year is {y}\")\n",
    "    inner()\n",
    "    return inner"
   ],
   "outputs": [],
   "metadata": {}
  },
  {
   "cell_type": "code",
   "execution_count": 12,
   "source": [
    "outer()"
   ],
   "outputs": [
    {
     "output_type": "stream",
     "name": "stdout",
     "text": [
      "Hi from the outer\n",
      "Hello from the inner\n",
      "This year is 2020\n"
     ]
    },
    {
     "output_type": "execute_result",
     "data": {
      "text/plain": [
       "<function __main__.outer.<locals>.inner()>"
      ]
     },
     "metadata": {},
     "execution_count": 12
    }
   ],
   "metadata": {}
  },
  {
   "cell_type": "code",
   "execution_count": 13,
   "source": [
    "inside = outer()\n",
    "inside"
   ],
   "outputs": [
    {
     "output_type": "stream",
     "name": "stdout",
     "text": [
      "Hi from the outer\n",
      "Hello from the inner\n",
      "This year is 2020\n"
     ]
    },
    {
     "output_type": "execute_result",
     "data": {
      "text/plain": [
       "<function __main__.outer.<locals>.inner()>"
      ]
     },
     "metadata": {},
     "execution_count": 13
    }
   ],
   "metadata": {}
  },
  {
   "cell_type": "code",
   "execution_count": 14,
   "source": [
    "inside()"
   ],
   "outputs": [
    {
     "output_type": "stream",
     "name": "stdout",
     "text": [
      "Hello from the inner\n",
      "This year is 2020\n"
     ]
    }
   ],
   "metadata": {}
  },
  {
   "cell_type": "markdown",
   "source": [
    "#### Manipulate functions"
   ],
   "metadata": {}
  },
  {
   "cell_type": "code",
   "execution_count": 15,
   "source": [
    "def hi(func):\n",
    "    print(f\"Hello {func.__name__}\")\n",
    "hi(outer)"
   ],
   "outputs": [
    {
     "output_type": "stream",
     "name": "stdout",
     "text": [
      "Hello outer\n"
     ]
    }
   ],
   "metadata": {}
  },
  {
   "cell_type": "code",
   "execution_count": 16,
   "source": [
    "inside"
   ],
   "outputs": [
    {
     "output_type": "execute_result",
     "data": {
      "text/plain": [
       "<function __main__.outer.<locals>.inner()>"
      ]
     },
     "metadata": {},
     "execution_count": 16
    }
   ],
   "metadata": {}
  },
  {
   "cell_type": "code",
   "execution_count": 17,
   "source": [
    "hi(inside)"
   ],
   "outputs": [
    {
     "output_type": "stream",
     "name": "stdout",
     "text": [
      "Hello inner\n"
     ]
    }
   ],
   "metadata": {}
  },
  {
   "cell_type": "code",
   "execution_count": 18,
   "source": [
    "def hi(func):\n",
    "    print(f\"Hello {func.__name__}\")\n",
    "    return func"
   ],
   "outputs": [],
   "metadata": {}
  },
  {
   "cell_type": "code",
   "execution_count": 19,
   "source": [
    "hi(outer)()"
   ],
   "outputs": [
    {
     "output_type": "stream",
     "name": "stdout",
     "text": [
      "Hello outer\n",
      "Hi from the outer\n",
      "Hello from the inner\n",
      "This year is 2020\n"
     ]
    },
    {
     "output_type": "execute_result",
     "data": {
      "text/plain": [
       "<function __main__.outer.<locals>.inner()>"
      ]
     },
     "metadata": {},
     "execution_count": 19
    }
   ],
   "metadata": {}
  },
  {
   "cell_type": "code",
   "execution_count": 20,
   "source": [
    "new_outer = hi(outer)"
   ],
   "outputs": [
    {
     "output_type": "stream",
     "name": "stdout",
     "text": [
      "Hello outer\n"
     ]
    }
   ],
   "metadata": {}
  },
  {
   "cell_type": "code",
   "execution_count": 21,
   "source": [
    "new_outer is outer"
   ],
   "outputs": [
    {
     "output_type": "execute_result",
     "data": {
      "text/plain": [
       "True"
      ]
     },
     "metadata": {},
     "execution_count": 21
    }
   ],
   "metadata": {}
  },
  {
   "cell_type": "code",
   "execution_count": 22,
   "source": [
    "def wrapper(func):\n",
    "    def _wrapper():\n",
    "        print(f\"Before {func.__name__}\")\n",
    "        func()\n",
    "        print(f\"After {func.__name__}\")\n",
    "    return _wrapper\n",
    "\n",
    "wrapper(outer)"
   ],
   "outputs": [
    {
     "output_type": "execute_result",
     "data": {
      "text/plain": [
       "<function __main__.wrapper.<locals>._wrapper()>"
      ]
     },
     "metadata": {},
     "execution_count": 22
    }
   ],
   "metadata": {}
  },
  {
   "cell_type": "code",
   "execution_count": 23,
   "source": [
    "outer()"
   ],
   "outputs": [
    {
     "output_type": "stream",
     "name": "stdout",
     "text": [
      "Hi from the outer\n",
      "Hello from the inner\n",
      "This year is 2020\n"
     ]
    },
    {
     "output_type": "execute_result",
     "data": {
      "text/plain": [
       "<function __main__.outer.<locals>.inner()>"
      ]
     },
     "metadata": {},
     "execution_count": 23
    }
   ],
   "metadata": {}
  },
  {
   "cell_type": "code",
   "execution_count": 24,
   "source": [
    "new_outer = wrapper(outer)\n"
   ],
   "outputs": [],
   "metadata": {}
  },
  {
   "cell_type": "code",
   "execution_count": 25,
   "source": [
    "new_outer()"
   ],
   "outputs": [
    {
     "output_type": "stream",
     "name": "stdout",
     "text": [
      "Before outer\n",
      "Hi from the outer\n",
      "Hello from the inner\n",
      "This year is 2020\n",
      "After outer\n"
     ]
    }
   ],
   "metadata": {}
  },
  {
   "cell_type": "code",
   "execution_count": 26,
   "source": [
    "outer = wrapper(outer)"
   ],
   "outputs": [],
   "metadata": {}
  },
  {
   "cell_type": "code",
   "execution_count": 27,
   "source": [
    "outer"
   ],
   "outputs": [
    {
     "output_type": "execute_result",
     "data": {
      "text/plain": [
       "<function __main__.wrapper.<locals>._wrapper()>"
      ]
     },
     "metadata": {},
     "execution_count": 27
    }
   ],
   "metadata": {}
  },
  {
   "cell_type": "code",
   "execution_count": 28,
   "source": [
    "outer()"
   ],
   "outputs": [
    {
     "output_type": "stream",
     "name": "stdout",
     "text": [
      "Before outer\n",
      "Hi from the outer\n",
      "Hello from the inner\n",
      "This year is 2020\n",
      "After outer\n"
     ]
    }
   ],
   "metadata": {}
  },
  {
   "cell_type": "markdown",
   "source": [
    "#### Sugar syntax"
   ],
   "metadata": {}
  },
  {
   "cell_type": "code",
   "execution_count": 29,
   "source": [
    "# Same as: outer2 = wrapper(outer2)\n",
    "@wrapper\n",
    "def outer2():\n",
    "    print(\"Hi from the outer\")\n",
    "    y = 2020\n",
    "    def inner():\n",
    "        print(\"Hello from the inner\")\n",
    "        print(f\"This year is {y}\")\n",
    "    inner()\n",
    "    return inner"
   ],
   "outputs": [],
   "metadata": {}
  },
  {
   "cell_type": "code",
   "execution_count": 30,
   "source": [
    "outer2()"
   ],
   "outputs": [
    {
     "output_type": "stream",
     "name": "stdout",
     "text": [
      "Before outer2\n",
      "Hi from the outer\n",
      "Hello from the inner\n",
      "This year is 2020\n",
      "After outer2\n"
     ]
    }
   ],
   "metadata": {}
  },
  {
   "cell_type": "code",
   "execution_count": 31,
   "source": [
    "@wrapper\n",
    "def dice_roll():\n",
    "    return random.randint(1,6)"
   ],
   "outputs": [],
   "metadata": {}
  },
  {
   "cell_type": "code",
   "execution_count": 32,
   "source": [
    "dice_roll()"
   ],
   "outputs": [
    {
     "output_type": "stream",
     "name": "stdout",
     "text": [
      "Before dice_roll\n",
      "After dice_roll\n"
     ]
    }
   ],
   "metadata": {}
  },
  {
   "cell_type": "code",
   "execution_count": 33,
   "source": [
    "dice_roll.__name__"
   ],
   "outputs": [
    {
     "output_type": "execute_result",
     "data": {
      "text/plain": [
       "'_wrapper'"
      ]
     },
     "metadata": {},
     "execution_count": 33
    }
   ],
   "metadata": {}
  },
  {
   "cell_type": "code",
   "execution_count": 34,
   "source": [
    "def wrapper(func):\n",
    "    def _wrapper(*args, **kwargs):\n",
    "        print(f\"Before {func.__name__}\")\n",
    "        func(*args, **kwargs)\n",
    "        print(f\"After {func.__name__}\")\n",
    "    return _wrapper\n",
    "\n",
    "@wrapper\n",
    "def hello(name):\n",
    "    print(f\"Hello {name}\")\n",
    "\n",
    "hello(\"world\")"
   ],
   "outputs": [
    {
     "output_type": "stream",
     "name": "stdout",
     "text": [
      "Before hello\n",
      "Hello world\n",
      "After hello\n"
     ]
    }
   ],
   "metadata": {}
  },
  {
   "cell_type": "code",
   "execution_count": 35,
   "source": [
    "def wrapper(func):\n",
    "    @functools.wraps(func)\n",
    "    def _wrapper(*args, **kwargs):\n",
    "        print(f\"Before {func.__name__}\")\n",
    "        value = func(*args, **kwargs)\n",
    "        print(f\"After {func.__name__}\")\n",
    "        return value\n",
    "#    _wrapper.__name__ = func.__name__\n",
    "    return _wrapper\n",
    "\n",
    "@wrapper\n",
    "def dice_roll():\n",
    "    \"\"\" Roll a 6-sided dice\"\"\"\n",
    "    return random.randint(1,6)\n",
    "\n",
    "dice_roll()"
   ],
   "outputs": [
    {
     "output_type": "stream",
     "name": "stdout",
     "text": [
      "Before dice_roll\n",
      "After dice_roll\n"
     ]
    },
    {
     "output_type": "execute_result",
     "data": {
      "text/plain": [
       "3"
      ]
     },
     "metadata": {},
     "execution_count": 35
    }
   ],
   "metadata": {}
  },
  {
   "cell_type": "code",
   "execution_count": 36,
   "source": [
    "dice_roll.__name__"
   ],
   "outputs": [
    {
     "output_type": "execute_result",
     "data": {
      "text/plain": [
       "'dice_roll'"
      ]
     },
     "metadata": {},
     "execution_count": 36
    }
   ],
   "metadata": {}
  },
  {
   "cell_type": "markdown",
   "source": [
    "### Task 1: Time counter"
   ],
   "metadata": {}
  },
  {
   "cell_type": "code",
   "execution_count": 37,
   "source": [
    "#export\n",
    "def wrapper(func):    \n",
    "    @functools.wraps(func)\n",
    "    def _wrapper(*args, **kwargs):\n",
    "        # Before func\n",
    "        value = func(*args, **kwargs)\n",
    "        # After func\n",
    "        return value\n",
    "    return _wrapper"
   ],
   "outputs": [],
   "metadata": {}
  },
  {
   "cell_type": "code",
   "execution_count": 38,
   "source": [
    "#export\n",
    "def timer(func):\n",
    "    @functools.wraps(func)\n",
    "    def _timer(*args, **kwargs):\n",
    "        tic = time.perf_counter()\n",
    "        value = func(*args, **kwargs)\n",
    "        toc = time.perf_counter()\n",
    "        print(f\"Elapsed time: {toc-tic:.2f} seconds\")\n",
    "        return value\n",
    "    return _timer\n",
    "\n",
    "\n",
    "@timer\n",
    "def waste_time(number):\n",
    "    total = 0\n",
    "    for num in range(number):\n",
    "        total += sum(n for n in range(num))\n",
    "    return total"
   ],
   "outputs": [],
   "metadata": {}
  },
  {
   "cell_type": "code",
   "execution_count": 39,
   "source": [
    "# Test\n",
    "waste_time(300)"
   ],
   "outputs": [
    {
     "output_type": "stream",
     "name": "stdout",
     "text": [
      "Elapsed time: 0.00 seconds\n"
     ]
    },
    {
     "output_type": "execute_result",
     "data": {
      "text/plain": [
       "4455100"
      ]
     },
     "metadata": {},
     "execution_count": 39
    }
   ],
   "metadata": {}
  },
  {
   "cell_type": "code",
   "execution_count": 40,
   "source": [
    "waste_time(3000)"
   ],
   "outputs": [
    {
     "output_type": "stream",
     "name": "stdout",
     "text": [
      "Elapsed time: 0.15 seconds\n"
     ]
    },
    {
     "output_type": "execute_result",
     "data": {
      "text/plain": [
       "4495501000"
      ]
     },
     "metadata": {},
     "execution_count": 40
    }
   ],
   "metadata": {}
  },
  {
   "cell_type": "markdown",
   "source": [
    "### Task 2: trace"
   ],
   "metadata": {}
  },
  {
   "cell_type": "code",
   "execution_count": 41,
   "source": [
    "#export\n",
    "\n",
    "def get_params(*args, **kwargs):\n",
    "    ars = [repr(a) for a in args]\n",
    "    kws = [f\"{k}={repr(v)}\" for k,v in kwargs.items()]\n",
    "    return ', '.join(ars + kws)\n",
    "\n",
    "def trace(func):\n",
    "    \"\"\"Show the trace of function calls\"\"\"\n",
    "    name = func.__name__\n",
    "    @functools.wraps(func)\n",
    "    def _trace(*args, **kwargs):\n",
    "        print(f\"Calling {name}({get_params(*args,**kwargs)})\")\n",
    "        value = func(*args, **kwargs)\n",
    "        print(f\"{name} returned {value}\")\n",
    "        return value\n",
    "    return _trace\n",
    "\n",
    "GREETINGS = [\"ABC\", \"EHLLO\", \"NO!!!\"]\n",
    "\n",
    "@trace\n",
    "def greet(name, greeting=\"Hello\"):\n",
    "    return f\"{greeting} {name}\"\n",
    "\n",
    "\n",
    "@trace\n",
    "@timer\n",
    "def random_greet(name=\"Emily\"):\n",
    "    greeting = random.choice(GREETINGS)\n",
    "    return greet(name, greeting=greeting)\n",
    "\n",
    "@trace\n",
    "def greet_many(number):\n",
    "    return [random_greet() for _ in range(number)]\n"
   ],
   "outputs": [],
   "metadata": {}
  },
  {
   "cell_type": "code",
   "execution_count": 42,
   "source": [
    "greet(\"world\")"
   ],
   "outputs": [
    {
     "output_type": "stream",
     "name": "stdout",
     "text": [
      "Calling greet('world')\n",
      "greet returned Hello world\n"
     ]
    },
    {
     "output_type": "execute_result",
     "data": {
      "text/plain": [
       "'Hello world'"
      ]
     },
     "metadata": {},
     "execution_count": 42
    }
   ],
   "metadata": {}
  },
  {
   "cell_type": "code",
   "execution_count": 43,
   "source": [
    "greet(name=\"world\", greeting=\"def\")"
   ],
   "outputs": [
    {
     "output_type": "stream",
     "name": "stdout",
     "text": [
      "Calling greet(name='world', greeting='def')\n",
      "greet returned def world\n"
     ]
    },
    {
     "output_type": "execute_result",
     "data": {
      "text/plain": [
       "'def world'"
      ]
     },
     "metadata": {},
     "execution_count": 43
    }
   ],
   "metadata": {}
  },
  {
   "cell_type": "code",
   "execution_count": 44,
   "source": [
    "random_greet()"
   ],
   "outputs": [
    {
     "output_type": "stream",
     "name": "stdout",
     "text": [
      "Calling random_greet()\n",
      "Calling greet('Emily', greeting='EHLLO')\n",
      "greet returned EHLLO Emily\n",
      "Elapsed time: 0.00 seconds\n",
      "random_greet returned EHLLO Emily\n"
     ]
    },
    {
     "output_type": "execute_result",
     "data": {
      "text/plain": [
       "'EHLLO Emily'"
      ]
     },
     "metadata": {},
     "execution_count": 44
    }
   ],
   "metadata": {}
  },
  {
   "cell_type": "code",
   "execution_count": 45,
   "source": [
    "greet_many(3)"
   ],
   "outputs": [
    {
     "output_type": "stream",
     "name": "stdout",
     "text": [
      "Calling greet_many(3)\n",
      "Calling random_greet()\n",
      "Calling greet('Emily', greeting='EHLLO')\n",
      "greet returned EHLLO Emily\n",
      "Elapsed time: 0.00 seconds\n",
      "random_greet returned EHLLO Emily\n",
      "Calling random_greet()\n",
      "Calling greet('Emily', greeting='ABC')\n",
      "greet returned ABC Emily\n",
      "Elapsed time: 0.00 seconds\n",
      "random_greet returned ABC Emily\n",
      "Calling random_greet()\n",
      "Calling greet('Emily', greeting='ABC')\n",
      "greet returned ABC Emily\n",
      "Elapsed time: 0.00 seconds\n",
      "random_greet returned ABC Emily\n",
      "greet_many returned ['EHLLO Emily', 'ABC Emily', 'ABC Emily']\n"
     ]
    },
    {
     "output_type": "execute_result",
     "data": {
      "text/plain": [
       "['EHLLO Emily', 'ABC Emily', 'ABC Emily']"
      ]
     },
     "metadata": {},
     "execution_count": 45
    }
   ],
   "metadata": {}
  },
  {
   "cell_type": "code",
   "execution_count": 46,
   "source": [
    "random_greet.__name__"
   ],
   "outputs": [
    {
     "output_type": "execute_result",
     "data": {
      "text/plain": [
       "'random_greet'"
      ]
     },
     "metadata": {},
     "execution_count": 46
    }
   ],
   "metadata": {}
  },
  {
   "cell_type": "markdown",
   "source": [
    "### TASK 3: Register"
   ],
   "metadata": {}
  },
  {
   "cell_type": "code",
   "execution_count": 47,
   "source": [
    "#export\n",
    "REGISTERED = {}\n",
    "\n",
    "def register(func):\n",
    "    name = func.__name__\n",
    "    if name not in REGISTERED: REGISTERED[name] = func\n",
    "    return func\n",
    "\n",
    "@register\n",
    "def true_or_false(text):\n",
    "    tf_values = {\n",
    "        True: {\"true\", \"on\", \"yes\", \"1\"},\n",
    "        False: {\"false\", \"off\", \"no\", \"0\"}\n",
    "    }\n",
    "    for tf, values in tf_values.items():\n",
    "        if text.lower() in values:\n",
    "            return tf\n",
    "\n",
    "@register\n",
    "def reversed(text):\n",
    "    return text[::-1].capitalize()\n",
    "\n",
    "@register\n",
    "def robber_language(text):\n",
    "    consonants = \"bcdfghlmnpqrstvwxyz\"\n",
    "    return \"\".join(\n",
    "        f\"{c}o{c.lower()}\" if c.lower() in consonants else c\n",
    "        for c in text\n",
    "    )\n",
    "\n",
    "# text = input(\"Please input a text:\")\n",
    "\n",
    "# while True:\n",
    "#     print(f\"Parsers: {', '.join(REGISTERED)}\")\n",
    "#     parser = input(\"Choose a parser: \")\n",
    "#     if parser in REGISTERED: break\n",
    "\n",
    "\n",
    "# parser_func = REGISTERED[parser]\n",
    "# print(parser_func(text))\n",
    "# parser, text, REGISTERED[parser]"
   ],
   "outputs": [],
   "metadata": {}
  },
  {
   "cell_type": "code",
   "execution_count": 48,
   "source": [
    "REGISTERED['robber_language'](\"decorator\")"
   ],
   "outputs": [
    {
     "output_type": "execute_result",
     "data": {
      "text/plain": [
       "'dodecocororatotoror'"
      ]
     },
     "metadata": {},
     "execution_count": 48
    }
   ],
   "metadata": {}
  },
  {
   "cell_type": "code",
   "execution_count": 49,
   "source": [
    "words = ['map', 'mid', 'acb', 'gqre', 'hello', 'anh', 'minh']\n",
    "ls = {}\n",
    "\n",
    "for w in words:\n",
    "    if w[0] not in ls.keys(): ls[w[0]] = [w]\n",
    "    else: ls[w[0]].append(w)\n",
    "ls"
   ],
   "outputs": [
    {
     "output_type": "execute_result",
     "data": {
      "text/plain": [
       "{'m': ['map', 'mid', 'minh'],\n",
       " 'a': ['acb', 'anh'],\n",
       " 'g': ['gqre'],\n",
       " 'h': ['hello']}"
      ]
     },
     "metadata": {},
     "execution_count": 49
    }
   ],
   "metadata": {}
  },
  {
   "cell_type": "code",
   "execution_count": 50,
   "source": [
    "ls2 = {}\n",
    "for w in words:\n",
    "    ls2.setdefault(w[0],[]).append(w)"
   ],
   "outputs": [],
   "metadata": {}
  },
  {
   "cell_type": "code",
   "execution_count": 51,
   "source": [
    "def test_eq(x,y):\n",
    "        assert x == y"
   ],
   "outputs": [],
   "metadata": {}
  },
  {
   "cell_type": "code",
   "execution_count": 52,
   "source": [
    "test_eq(ls2, ls)"
   ],
   "outputs": [],
   "metadata": {}
  },
  {
   "cell_type": "code",
   "execution_count": 53,
   "source": [
    "def get_second(w): return w[1] if len(w) > 1 else w\n"
   ],
   "outputs": [],
   "metadata": {}
  },
  {
   "cell_type": "code",
   "execution_count": 54,
   "source": [
    "ls3 = {}\n",
    "for w in words:\n",
    "    ls3.setdefault(get_second(w),[]).append(w)"
   ],
   "outputs": [],
   "metadata": {}
  },
  {
   "cell_type": "code",
   "execution_count": 55,
   "source": [
    "a = '1'\n",
    "hash(a)"
   ],
   "outputs": [
    {
     "output_type": "execute_result",
     "data": {
      "text/plain": [
       "2508636743907904454"
      ]
     },
     "metadata": {},
     "execution_count": 55
    }
   ],
   "metadata": {}
  },
  {
   "cell_type": "code",
   "execution_count": 56,
   "source": [
    "hash(tuple(set(dir(dict))))"
   ],
   "outputs": [
    {
     "output_type": "execute_result",
     "data": {
      "text/plain": [
       "4942437628418865655"
      ]
     },
     "metadata": {},
     "execution_count": 56
    }
   ],
   "metadata": {}
  },
  {
   "cell_type": "code",
   "execution_count": 57,
   "source": [
    "\n",
    "def get_dict1(words):\n",
    "    ls2 = {}\n",
    "    for w in words:\n",
    "        ls2.setdefault(w[0],[]).append(w)\n",
    "    return ls2\n",
    "\n",
    "def get_dict2(words):\n",
    "    ls4 = defaultdict(list)\n",
    "    for w in words:\n",
    "        ls4[w[0]].append(w)\n",
    "    return ls4\n",
    "\n",
    "test_eq(get_dict1(words),get_dict2(words))"
   ],
   "outputs": [],
   "metadata": {}
  },
  {
   "cell_type": "code",
   "execution_count": 58,
   "source": [
    "%timeit get_dict1(words)"
   ],
   "outputs": [
    {
     "output_type": "stream",
     "name": "stdout",
     "text": [
      "858 ns ± 6.07 ns per loop (mean ± std. dev. of 7 runs, 1000000 loops each)\n"
     ]
    }
   ],
   "metadata": {}
  },
  {
   "cell_type": "code",
   "execution_count": 59,
   "source": [
    "%timeit get_dict2(words)"
   ],
   "outputs": [
    {
     "output_type": "stream",
     "name": "stdout",
     "text": [
      "1.07 µs ± 12 ns per loop (mean ± std. dev. of 7 runs, 1000000 loops each)\n"
     ]
    }
   ],
   "metadata": {}
  },
  {
   "cell_type": "code",
   "execution_count": 60,
   "source": [
    "count = defaultdict(lambda : 4)\n",
    "type(count)"
   ],
   "outputs": [
    {
     "output_type": "execute_result",
     "data": {
      "text/plain": [
       "collections.defaultdict"
      ]
     },
     "metadata": {},
     "execution_count": 60
    }
   ],
   "metadata": {}
  },
  {
   "cell_type": "code",
   "execution_count": 61,
   "source": [
    "count[2] = 23"
   ],
   "outputs": [],
   "metadata": {}
  },
  {
   "cell_type": "code",
   "execution_count": 62,
   "source": [
    "count[3], count"
   ],
   "outputs": [
    {
     "output_type": "execute_result",
     "data": {
      "text/plain": [
       "(4, defaultdict(<function __main__.<lambda>()>, {2: 23, 3: 4}))"
      ]
     },
     "metadata": {},
     "execution_count": 62
    }
   ],
   "metadata": {}
  },
  {
   "cell_type": "markdown",
   "source": [
    "### Reference: \n",
    "Geir Arne Hjelle - Introduction to Decorators: Power Up Your Python Code. Link: https://www.youtube.com/watch?v=T8CQwGIsrx4"
   ],
   "metadata": {}
  }
 ],
 "metadata": {
  "kernelspec": {
   "name": "python3",
   "display_name": "Python 3.8.5 64-bit ('.ml': pyenv)"
  },
  "language_info": {
   "codemirror_mode": {
    "name": "ipython",
    "version": 3
   },
   "file_extension": ".py",
   "mimetype": "text/x-python",
   "name": "python",
   "nbconvert_exporter": "python",
   "pygments_lexer": "ipython3",
   "version": "3.8.5"
  },
  "interpreter": {
   "hash": "47c1052489b2d1867410f973bee6b35b738b1713bae068853f9f327e2db2e637"
  }
 },
 "nbformat": 4,
 "nbformat_minor": 2
}