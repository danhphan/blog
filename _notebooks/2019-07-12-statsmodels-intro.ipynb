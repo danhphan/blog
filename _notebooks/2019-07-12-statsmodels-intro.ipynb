{
 "cells": [
  {
   "cell_type": "code",
   "execution_count": 1,
   "metadata": {},
   "outputs": [],
   "source": [
    "# default_exp statsmodels_intro"
   ]
  },
  {
   "cell_type": "markdown",
   "metadata": {},
   "source": [
    "# Statsmodels introduction\n",
    "\n",
    "> Introducing different discrete choice models using statsmodels."
   ]
  },
  {
   "cell_type": "code",
   "execution_count": 2,
   "metadata": {},
   "outputs": [],
   "source": [
    "#hide\n",
    "from nbdev.showdoc import *"
   ]
  },
  {
   "cell_type": "markdown",
   "metadata": {},
   "source": [
    "### Start model introduction"
   ]
  },
  {
   "cell_type": "markdown",
   "metadata": {
    "heading_collapsed": true
   },
   "source": [
    "#### Loading modules and functions"
   ]
  },
  {
   "cell_type": "code",
   "execution_count": 26,
   "metadata": {
    "hidden": true
   },
   "outputs": [],
   "source": [
    "import numpy as np\n",
    "import statsmodels.api as sm\n",
    "import pandas as pd\n",
    "import patsy"
   ]
  },
  {
   "cell_type": "markdown",
   "metadata": {
    "heading_collapsed": true
   },
   "source": [
    "#### Loading data"
   ]
  },
  {
   "cell_type": "code",
   "execution_count": 27,
   "metadata": {
    "hidden": true
   },
   "outputs": [
    {
     "data": {
      "text/plain": [
       "(statsmodels.datasets.utils.Dataset, pandas.core.frame.DataFrame)"
      ]
     },
     "execution_count": 27,
     "metadata": {},
     "output_type": "execute_result"
    }
   ],
   "source": [
    "df = sm.datasets.get_rdataset(\"Guerry\", \"HistData\")\n",
    "type(df), type(df.data)"
   ]
  },
  {
   "cell_type": "code",
   "execution_count": 28,
   "metadata": {
    "hidden": true
   },
   "outputs": [
    {
     "data": {
      "text/html": [
       "<div>\n",
       "<style scoped>\n",
       "    .dataframe tbody tr th:only-of-type {\n",
       "        vertical-align: middle;\n",
       "    }\n",
       "\n",
       "    .dataframe tbody tr th {\n",
       "        vertical-align: top;\n",
       "    }\n",
       "\n",
       "    .dataframe thead th {\n",
       "        text-align: right;\n",
       "    }\n",
       "</style>\n",
       "<table border=\"1\" class=\"dataframe\">\n",
       "  <thead>\n",
       "    <tr style=\"text-align: right;\">\n",
       "      <th></th>\n",
       "      <th>dept</th>\n",
       "      <th>Region</th>\n",
       "      <th>Department</th>\n",
       "      <th>Crime_pers</th>\n",
       "      <th>Crime_prop</th>\n",
       "      <th>Literacy</th>\n",
       "      <th>Donations</th>\n",
       "      <th>Infants</th>\n",
       "      <th>Suicides</th>\n",
       "      <th>MainCity</th>\n",
       "      <th>...</th>\n",
       "      <th>Crime_parents</th>\n",
       "      <th>Infanticide</th>\n",
       "      <th>Donation_clergy</th>\n",
       "      <th>Lottery</th>\n",
       "      <th>Desertion</th>\n",
       "      <th>Instruction</th>\n",
       "      <th>Prostitutes</th>\n",
       "      <th>Distance</th>\n",
       "      <th>Area</th>\n",
       "      <th>Pop1831</th>\n",
       "    </tr>\n",
       "  </thead>\n",
       "  <tbody>\n",
       "    <tr>\n",
       "      <th>0</th>\n",
       "      <td>1</td>\n",
       "      <td>E</td>\n",
       "      <td>Ain</td>\n",
       "      <td>28870</td>\n",
       "      <td>15890</td>\n",
       "      <td>37</td>\n",
       "      <td>5098</td>\n",
       "      <td>33120</td>\n",
       "      <td>35039</td>\n",
       "      <td>2:Med</td>\n",
       "      <td>...</td>\n",
       "      <td>71</td>\n",
       "      <td>60</td>\n",
       "      <td>69</td>\n",
       "      <td>41</td>\n",
       "      <td>55</td>\n",
       "      <td>46</td>\n",
       "      <td>13</td>\n",
       "      <td>218.372</td>\n",
       "      <td>5762</td>\n",
       "      <td>346.03</td>\n",
       "    </tr>\n",
       "    <tr>\n",
       "      <th>1</th>\n",
       "      <td>2</td>\n",
       "      <td>N</td>\n",
       "      <td>Aisne</td>\n",
       "      <td>26226</td>\n",
       "      <td>5521</td>\n",
       "      <td>51</td>\n",
       "      <td>8901</td>\n",
       "      <td>14572</td>\n",
       "      <td>12831</td>\n",
       "      <td>2:Med</td>\n",
       "      <td>...</td>\n",
       "      <td>4</td>\n",
       "      <td>82</td>\n",
       "      <td>36</td>\n",
       "      <td>38</td>\n",
       "      <td>82</td>\n",
       "      <td>24</td>\n",
       "      <td>327</td>\n",
       "      <td>65.945</td>\n",
       "      <td>7369</td>\n",
       "      <td>513.00</td>\n",
       "    </tr>\n",
       "    <tr>\n",
       "      <th>2</th>\n",
       "      <td>3</td>\n",
       "      <td>C</td>\n",
       "      <td>Allier</td>\n",
       "      <td>26747</td>\n",
       "      <td>7925</td>\n",
       "      <td>13</td>\n",
       "      <td>10973</td>\n",
       "      <td>17044</td>\n",
       "      <td>114121</td>\n",
       "      <td>2:Med</td>\n",
       "      <td>...</td>\n",
       "      <td>46</td>\n",
       "      <td>42</td>\n",
       "      <td>76</td>\n",
       "      <td>66</td>\n",
       "      <td>16</td>\n",
       "      <td>85</td>\n",
       "      <td>34</td>\n",
       "      <td>161.927</td>\n",
       "      <td>7340</td>\n",
       "      <td>298.26</td>\n",
       "    </tr>\n",
       "    <tr>\n",
       "      <th>3</th>\n",
       "      <td>4</td>\n",
       "      <td>E</td>\n",
       "      <td>Basses-Alpes</td>\n",
       "      <td>12935</td>\n",
       "      <td>7289</td>\n",
       "      <td>46</td>\n",
       "      <td>2733</td>\n",
       "      <td>23018</td>\n",
       "      <td>14238</td>\n",
       "      <td>1:Sm</td>\n",
       "      <td>...</td>\n",
       "      <td>70</td>\n",
       "      <td>12</td>\n",
       "      <td>37</td>\n",
       "      <td>80</td>\n",
       "      <td>32</td>\n",
       "      <td>29</td>\n",
       "      <td>2</td>\n",
       "      <td>351.399</td>\n",
       "      <td>6925</td>\n",
       "      <td>155.90</td>\n",
       "    </tr>\n",
       "    <tr>\n",
       "      <th>4</th>\n",
       "      <td>5</td>\n",
       "      <td>E</td>\n",
       "      <td>Hautes-Alpes</td>\n",
       "      <td>17488</td>\n",
       "      <td>8174</td>\n",
       "      <td>69</td>\n",
       "      <td>6962</td>\n",
       "      <td>23076</td>\n",
       "      <td>16171</td>\n",
       "      <td>1:Sm</td>\n",
       "      <td>...</td>\n",
       "      <td>22</td>\n",
       "      <td>23</td>\n",
       "      <td>64</td>\n",
       "      <td>79</td>\n",
       "      <td>35</td>\n",
       "      <td>7</td>\n",
       "      <td>1</td>\n",
       "      <td>320.280</td>\n",
       "      <td>5549</td>\n",
       "      <td>129.10</td>\n",
       "    </tr>\n",
       "  </tbody>\n",
       "</table>\n",
       "<p>5 rows × 23 columns</p>\n",
       "</div>"
      ],
      "text/plain": [
       "   dept Region    Department  Crime_pers  Crime_prop  Literacy  Donations  \\\n",
       "0     1      E           Ain       28870       15890        37       5098   \n",
       "1     2      N         Aisne       26226        5521        51       8901   \n",
       "2     3      C        Allier       26747        7925        13      10973   \n",
       "3     4      E  Basses-Alpes       12935        7289        46       2733   \n",
       "4     5      E  Hautes-Alpes       17488        8174        69       6962   \n",
       "\n",
       "   Infants  Suicides MainCity  ...  Crime_parents  Infanticide  \\\n",
       "0    33120     35039    2:Med  ...             71           60   \n",
       "1    14572     12831    2:Med  ...              4           82   \n",
       "2    17044    114121    2:Med  ...             46           42   \n",
       "3    23018     14238     1:Sm  ...             70           12   \n",
       "4    23076     16171     1:Sm  ...             22           23   \n",
       "\n",
       "   Donation_clergy  Lottery  Desertion  Instruction  Prostitutes  Distance  \\\n",
       "0               69       41         55           46           13   218.372   \n",
       "1               36       38         82           24          327    65.945   \n",
       "2               76       66         16           85           34   161.927   \n",
       "3               37       80         32           29            2   351.399   \n",
       "4               64       79         35            7            1   320.280   \n",
       "\n",
       "   Area  Pop1831  \n",
       "0  5762   346.03  \n",
       "1  7369   513.00  \n",
       "2  7340   298.26  \n",
       "3  6925   155.90  \n",
       "4  5549   129.10  \n",
       "\n",
       "[5 rows x 23 columns]"
      ]
     },
     "execution_count": 28,
     "metadata": {},
     "output_type": "execute_result"
    }
   ],
   "source": [
    "df = df.data\n",
    "df.head()"
   ]
  },
  {
   "cell_type": "code",
   "execution_count": 29,
   "metadata": {
    "hidden": true
   },
   "outputs": [
    {
     "data": {
      "text/plain": [
       "(86, 5)"
      ]
     },
     "execution_count": 29,
     "metadata": {},
     "output_type": "execute_result"
    }
   ],
   "source": [
    "vars = ['Department', 'Lottery', 'Literacy', 'Wealth', 'Region']\n",
    "df = df[vars]\n",
    "df.shape"
   ]
  },
  {
   "cell_type": "code",
   "execution_count": 30,
   "metadata": {
    "hidden": true
   },
   "outputs": [
    {
     "data": {
      "text/html": [
       "<div>\n",
       "<style scoped>\n",
       "    .dataframe tbody tr th:only-of-type {\n",
       "        vertical-align: middle;\n",
       "    }\n",
       "\n",
       "    .dataframe tbody tr th {\n",
       "        vertical-align: top;\n",
       "    }\n",
       "\n",
       "    .dataframe thead th {\n",
       "        text-align: right;\n",
       "    }\n",
       "</style>\n",
       "<table border=\"1\" class=\"dataframe\">\n",
       "  <thead>\n",
       "    <tr style=\"text-align: right;\">\n",
       "      <th></th>\n",
       "      <th>Department</th>\n",
       "      <th>Lottery</th>\n",
       "      <th>Literacy</th>\n",
       "      <th>Wealth</th>\n",
       "      <th>Region</th>\n",
       "    </tr>\n",
       "  </thead>\n",
       "  <tbody>\n",
       "    <tr>\n",
       "      <th>81</th>\n",
       "      <td>Vienne</td>\n",
       "      <td>40</td>\n",
       "      <td>25</td>\n",
       "      <td>68</td>\n",
       "      <td>W</td>\n",
       "    </tr>\n",
       "    <tr>\n",
       "      <th>82</th>\n",
       "      <td>Haute-Vienne</td>\n",
       "      <td>55</td>\n",
       "      <td>13</td>\n",
       "      <td>67</td>\n",
       "      <td>C</td>\n",
       "    </tr>\n",
       "    <tr>\n",
       "      <th>83</th>\n",
       "      <td>Vosges</td>\n",
       "      <td>14</td>\n",
       "      <td>62</td>\n",
       "      <td>82</td>\n",
       "      <td>E</td>\n",
       "    </tr>\n",
       "    <tr>\n",
       "      <th>84</th>\n",
       "      <td>Yonne</td>\n",
       "      <td>51</td>\n",
       "      <td>47</td>\n",
       "      <td>30</td>\n",
       "      <td>C</td>\n",
       "    </tr>\n",
       "    <tr>\n",
       "      <th>85</th>\n",
       "      <td>Corse</td>\n",
       "      <td>83</td>\n",
       "      <td>49</td>\n",
       "      <td>37</td>\n",
       "      <td>NaN</td>\n",
       "    </tr>\n",
       "  </tbody>\n",
       "</table>\n",
       "</div>"
      ],
      "text/plain": [
       "      Department  Lottery  Literacy  Wealth Region\n",
       "81        Vienne       40        25      68      W\n",
       "82  Haute-Vienne       55        13      67      C\n",
       "83        Vosges       14        62      82      E\n",
       "84         Yonne       51        47      30      C\n",
       "85         Corse       83        49      37    NaN"
      ]
     },
     "execution_count": 30,
     "metadata": {},
     "output_type": "execute_result"
    }
   ],
   "source": [
    "df[-5:]"
   ]
  },
  {
   "cell_type": "code",
   "execution_count": 31,
   "metadata": {
    "hidden": true
   },
   "outputs": [
    {
     "data": {
      "text/plain": [
       "Department    0\n",
       "Lottery       0\n",
       "Literacy      0\n",
       "Wealth        0\n",
       "Region        1\n",
       "dtype: int64"
      ]
     },
     "execution_count": 31,
     "metadata": {},
     "output_type": "execute_result"
    }
   ],
   "source": [
    "df.isna().sum()"
   ]
  },
  {
   "cell_type": "code",
   "execution_count": 32,
   "metadata": {
    "hidden": true
   },
   "outputs": [
    {
     "data": {
      "text/plain": [
       "((85, 5),\n",
       " Department    object\n",
       " Lottery        int64\n",
       " Literacy       int64\n",
       " Wealth         int64\n",
       " Region        object\n",
       " dtype: object)"
      ]
     },
     "execution_count": 32,
     "metadata": {},
     "output_type": "execute_result"
    }
   ],
   "source": [
    "df = df.dropna()\n",
    "df.shape, df.dtypes"
   ]
  },
  {
   "cell_type": "code",
   "execution_count": 33,
   "metadata": {
    "hidden": true
   },
   "outputs": [
    {
     "data": {
      "text/plain": [
       "C    17\n",
       "E    17\n",
       "N    17\n",
       "W    17\n",
       "S    17\n",
       "Name: Region, dtype: int64"
      ]
     },
     "execution_count": 33,
     "metadata": {},
     "output_type": "execute_result"
    }
   ],
   "source": [
    "df['Region'].value_counts()"
   ]
  },
  {
   "cell_type": "markdown",
   "metadata": {
    "heading_collapsed": true
   },
   "source": [
    "#### Designed matrices and model"
   ]
  },
  {
   "cell_type": "code",
   "execution_count": 34,
   "metadata": {
    "hidden": true
   },
   "outputs": [
    {
     "data": {
      "text/plain": [
       "(   Lottery\n",
       " 0     41.0\n",
       " 1     38.0\n",
       " 2     66.0,\n",
       "    Intercept  Region[T.E]  Region[T.N]  Region[T.S]  Region[T.W]  Literacy  \\\n",
       " 0        1.0          1.0          0.0          0.0          0.0      37.0   \n",
       " 1        1.0          0.0          1.0          0.0          0.0      51.0   \n",
       " 2        1.0          0.0          0.0          0.0          0.0      13.0   \n",
       " \n",
       "    Wealth  \n",
       " 0    73.0  \n",
       " 1    22.0  \n",
       " 2    61.0  )"
      ]
     },
     "execution_count": 34,
     "metadata": {},
     "output_type": "execute_result"
    }
   ],
   "source": [
    "# Prepare data\n",
    "y, X = patsy.dmatrices('Lottery ~ Literacy + Wealth + Region', data=df, return_type='dataframe')\n",
    "y[:3], X[:3]"
   ]
  },
  {
   "cell_type": "code",
   "execution_count": 40,
   "metadata": {
    "hidden": true
   },
   "outputs": [],
   "source": [
    "mod = sm.OLS(y, X)    # Describe model\n",
    "res = mod.fit()\n"
   ]
  },
  {
   "cell_type": "markdown",
   "metadata": {
    "heading_collapsed": true
   },
   "source": [
    "#### Results"
   ]
  },
  {
   "cell_type": "code",
   "execution_count": null,
   "metadata": {
    "hidden": true
   },
   "outputs": [],
   "source": [
    "res.summary()"
   ]
  },
  {
   "cell_type": "code",
   "execution_count": 36,
   "metadata": {
    "hidden": true
   },
   "outputs": [
    {
     "data": {
      "text/plain": [
       "Intercept      38.651655\n",
       "Region[T.E]   -15.427785\n",
       "Region[T.N]   -10.016961\n",
       "Region[T.S]    -4.548257\n",
       "Region[T.W]   -10.091276\n",
       "Literacy       -0.185819\n",
       "Wealth          0.451475\n",
       "dtype: float64"
      ]
     },
     "execution_count": 36,
     "metadata": {},
     "output_type": "execute_result"
    }
   ],
   "source": [
    "res.params"
   ]
  },
  {
   "cell_type": "code",
   "execution_count": 37,
   "metadata": {
    "hidden": true
   },
   "outputs": [
    {
     "data": {
      "text/plain": [
       "0.3379508691928822"
      ]
     },
     "execution_count": 37,
     "metadata": {},
     "output_type": "execute_result"
    }
   ],
   "source": [
    "res.rsquared"
   ]
  },
  {
   "cell_type": "code",
   "execution_count": 38,
   "metadata": {
    "hidden": true
   },
   "outputs": [
    {
     "data": {
      "text/plain": [
       "(0.847233997615691, 0.6997965543621644)"
      ]
     },
     "execution_count": 38,
     "metadata": {},
     "output_type": "execute_result"
    }
   ],
   "source": [
    "sm.stats.linear_rainbow(res)"
   ]
  },
  {
   "cell_type": "code",
   "execution_count": 39,
   "metadata": {
    "hidden": true
   },
   "outputs": [
    {
     "data": {
      "image/png": "[encoded data removed]",
      "text/plain": [
       "<Figure size 432x288 with 1 Axes>"
      ]
     },
     "execution_count": 39,
     "metadata": {},
     "output_type": "execute_result"
    },
    {
     "data": {
      "image/png": "[encoded data removed]",
      "text/plain": [
       "<Figure size 432x288 with 1 Axes>"
      ]
     },
     "metadata": {
      "needs_background": "light"
     },
     "output_type": "display_data"
    }
   ],
   "source": [
    "sm.graphics.plot_partregress('Lottery', 'Wealth', ['Region', 'Literacy'],\n",
    "   ....:                              data=df, obs_labels=False)"
   ]
  },
  {
   "cell_type": "markdown",
   "metadata": {},
   "source": [
    "### Discrete choice basic with statsmodels"
   ]
  },
  {
   "cell_type": "code",
   "execution_count": 41,
   "metadata": {},
   "outputs": [],
   "source": [
    "import numpy as np\n",
    "import statsmodels.api as sm"
   ]
  },
  {
   "cell_type": "code",
   "execution_count": 43,
   "metadata": {},
   "outputs": [
    {
     "name": "stdout",
     "output_type": "stream",
     "text": [
      "[[ 2.66 20.    0.    1.  ]\n",
      " [ 2.89 22.    0.    1.  ]\n",
      " [ 3.28 24.    0.    1.  ]\n",
      " [ 2.92 12.    0.    1.  ]\n",
      " [ 4.   21.    0.    1.  ]]\n",
      "[0. 0. 0. 0. 1.]\n"
     ]
    }
   ],
   "source": [
    "# Load data\n",
    "spector_data = sm.datasets.spector.load(as_pandas=False)\n",
    "spector_data.exog = sm.add_constant(spector_data.exog, prepend=False)\n",
    "print(spector_data.exog[:5,:])\n",
    "print(spector_data.endog[:5])"
   ]
  },
  {
   "cell_type": "code",
   "execution_count": 54,
   "metadata": {},
   "outputs": [
    {
     "data": {
      "text/plain": [
       "(    GPA  TUCE  PSI  GRADE\n",
       " 0  2.66  20.0  0.0    0.0\n",
       " 1  2.89  22.0  0.0    0.0\n",
       " 2  3.28  24.0  0.0    0.0\n",
       " 3  2.92  12.0  0.0    0.0\n",
       " 4  4.00  21.0  0.0    1.0,\n",
       " pandas.core.frame.DataFrame)"
      ]
     },
     "execution_count": 54,
     "metadata": {},
     "output_type": "execute_result"
    }
   ],
   "source": [
    "# Get pandas data frame\n",
    "df = sm.datasets.spector.load(as_pandas=True).data\n",
    "df[:5], type(df)"
   ]
  },
  {
   "cell_type": "markdown",
   "metadata": {},
   "source": [
    "#### Linear Probability Model (OLS)"
   ]
  },
  {
   "cell_type": "code",
   "execution_count": 57,
   "metadata": {
    "scrolled": true
   },
   "outputs": [
    {
     "name": "stdout",
     "output_type": "stream",
     "text": [
      "Parameters:  [ 0.46385168  0.01049512  0.37855479 -1.49801712]\n"
     ]
    }
   ],
   "source": [
    "lpm_mod = sm.OLS(spector_data.endog, spector_data.exog)\n",
    "lpm_res = lpm_mod.fit()\n",
    "print('Parameters: ', lpm_res.params[:-1])"
   ]
  },
  {
   "cell_type": "code",
   "execution_count": 58,
   "metadata": {},
   "outputs": [
    {
     "data": {
      "text/plain": [
       "array([0.46385168, 0.01049512, 0.37855479])"
      ]
     },
     "execution_count": 58,
     "metadata": {},
     "output_type": "execute_result"
    }
   ],
   "source": [
    "# Option 2: using pandas\n",
    "y, X = patsy.dmatrices('GRADE ~ GPA + TUCE + PSI', df)\n",
    "lpm2 = sm.OLS(y, X)\n",
    "res2 = lpm2.fit()\n",
    "res2.params[1:]"
   ]
  },
  {
   "cell_type": "code",
   "execution_count": 66,
   "metadata": {},
   "outputs": [],
   "source": [
    "def test_eq(pred, targ):\n",
    "    diff = np.sum(pred - targ)\n",
    "    assert diff < 1e-10"
   ]
  },
  {
   "cell_type": "code",
   "execution_count": 67,
   "metadata": {},
   "outputs": [],
   "source": [
    "test_eq(lpm_res.params[:-1], res2.params[1:])"
   ]
  },
  {
   "cell_type": "markdown",
   "metadata": {},
   "source": [
    "#### Logit Model"
   ]
  },
  {
   "cell_type": "code",
   "execution_count": 46,
   "metadata": {},
   "outputs": [
    {
     "name": "stdout",
     "output_type": "stream",
     "text": [
      "Parameters:  [  2.82611259   0.09515766   2.37868766 -13.02134686]\n"
     ]
    }
   ],
   "source": [
    "logit_mod = sm.Logit(spector_data.endog, spector_data.exog)\n",
    "logit_res = logit_mod.fit(disp=0)\n",
    "print('Parameters: ', logit_res.params)"
   ]
  },
  {
   "cell_type": "code",
   "execution_count": 69,
   "metadata": {},
   "outputs": [
    {
     "name": "stdout",
     "output_type": "stream",
     "text": [
      "Optimization terminated successfully.\n",
      "         Current function value: 0.402801\n",
      "         Iterations 7\n"
     ]
    },
    {
     "data": {
      "text/plain": [
       "array([-13.02134686,   2.82611259,   0.09515766,   2.37868766])"
      ]
     },
     "execution_count": 69,
     "metadata": {},
     "output_type": "execute_result"
    }
   ],
   "source": [
    "# Option 2: using pandas\n",
    "logit2 = sm.Logit(y,X)\n",
    "res2   = logit2.fit()\n",
    "res2.params"
   ]
  },
  {
   "cell_type": "code",
   "execution_count": 70,
   "metadata": {},
   "outputs": [],
   "source": [
    "test_eq(logit_res.params[:-1], res2.params[1:])"
   ]
  },
  {
   "cell_type": "code",
   "execution_count": 104,
   "metadata": {},
   "outputs": [],
   "source": [
    "# Option 3: direct pandas\n",
    "# logit3 = sm.Logit('GRADE ~ GPA + TUCE + PSI', df)"
   ]
  },
  {
   "cell_type": "code",
   "execution_count": 71,
   "metadata": {},
   "outputs": [
    {
     "data": {
      "text/html": [
       "<table class=\"simpletable\">\n",
       "<caption>Logit Marginal Effects</caption>\n",
       "<tr>\n",
       "  <th>Dep. Variable:</th>  <td>GRADE</td> \n",
       "</tr>\n",
       "<tr>\n",
       "  <th>Method:</th>         <td>dydx</td>  \n",
       "</tr>\n",
       "<tr>\n",
       "  <th>At:</th>            <td>overall</td>\n",
       "</tr>\n",
       "</table>\n",
       "<table class=\"simpletable\">\n",
       "<tr>\n",
       "    <th></th>      <th>dy/dx</th>    <th>std err</th>      <th>z</th>      <th>P>|z|</th>  <th>[0.025</th>    <th>0.975]</th>  \n",
       "</tr>\n",
       "<tr>\n",
       "  <th>GPA</th>  <td>    0.3626</td> <td>    0.109</td> <td>    3.313</td> <td> 0.001</td> <td>    0.148</td> <td>    0.577</td>\n",
       "</tr>\n",
       "<tr>\n",
       "  <th>TUCE</th> <td>    0.0122</td> <td>    0.018</td> <td>    0.686</td> <td> 0.493</td> <td>   -0.023</td> <td>    0.047</td>\n",
       "</tr>\n",
       "<tr>\n",
       "  <th>PSI</th>  <td>    0.3052</td> <td>    0.092</td> <td>    3.304</td> <td> 0.001</td> <td>    0.124</td> <td>    0.486</td>\n",
       "</tr>\n",
       "</table>"
      ],
      "text/plain": [
       "<class 'statsmodels.iolib.summary.Summary'>\n",
       "\"\"\"\n",
       "        Logit Marginal Effects       \n",
       "=====================================\n",
       "Dep. Variable:                  GRADE\n",
       "Method:                          dydx\n",
       "At:                           overall\n",
       "==============================================================================\n",
       "                dy/dx    std err          z      P>|z|      [0.025      0.975]\n",
       "------------------------------------------------------------------------------\n",
       "GPA            0.3626      0.109      3.313      0.001       0.148       0.577\n",
       "TUCE           0.0122      0.018      0.686      0.493      -0.023       0.047\n",
       "PSI            0.3052      0.092      3.304      0.001       0.124       0.486\n",
       "==============================================================================\n",
       "\"\"\""
      ]
     },
     "execution_count": 71,
     "metadata": {},
     "output_type": "execute_result"
    }
   ],
   "source": [
    "# Marginal effects\n",
    "marg = res2.get_margeff()\n",
    "marg.summary()"
   ]
  },
  {
   "cell_type": "markdown",
   "metadata": {
    "heading_collapsed": true
   },
   "source": [
    "#### Probit Model"
   ]
  },
  {
   "cell_type": "code",
   "execution_count": 74,
   "metadata": {
    "hidden": true
   },
   "outputs": [
    {
     "name": "stdout",
     "output_type": "stream",
     "text": [
      "Optimization terminated successfully.\n",
      "         Current function value: 0.400588\n",
      "         Iterations 6\n",
      "Parameters:  [ 1.62581004  0.05172895  1.42633234 -7.45231965]\n",
      "Marginal effects: \n",
      "       Probit Marginal Effects       \n",
      "=====================================\n",
      "Dep. Variable:                      y\n",
      "Method:                          dydx\n",
      "At:                           overall\n",
      "==============================================================================\n",
      "                dy/dx    std err          z      P>|z|      [0.025      0.975]\n",
      "------------------------------------------------------------------------------\n",
      "x1             0.3608      0.113      3.182      0.001       0.139       0.583\n",
      "x2             0.0115      0.018      0.624      0.533      -0.025       0.048\n",
      "x3             0.3165      0.090      3.508      0.000       0.140       0.493\n",
      "==============================================================================\n"
     ]
    }
   ],
   "source": [
    "probit_mod = sm.Probit(spector_data.endog, spector_data.exog)\n",
    "probit_res = probit_mod.fit()\n",
    "probit_margeff = probit_res.get_margeff()\n",
    "print('Parameters: ', probit_res.params)\n",
    "print('Marginal effects: ')\n",
    "print(probit_margeff.summary())"
   ]
  },
  {
   "cell_type": "markdown",
   "metadata": {},
   "source": [
    "#### Multinomial Logit"
   ]
  },
  {
   "cell_type": "code",
   "execution_count": 83,
   "metadata": {},
   "outputs": [
    {
     "name": "stdout",
     "output_type": "stream",
     "text": [
      "[[-2.30258509  7.         36.          3.          1.        ]\n",
      " [ 5.24755025  3.         20.          4.          1.        ]\n",
      " [ 3.43720782  2.         24.          6.          1.        ]\n",
      " [ 4.4200447   3.         28.          6.          1.        ]\n",
      " [ 6.46162441  5.         68.          6.          1.        ]]\n",
      "[6. 1. 1. 1. 0.]\n"
     ]
    }
   ],
   "source": [
    "# Load data\n",
    "anes_data = sm.datasets.anes96.load(as_pandas=False)\n",
    "anes_exog = anes_data.exog\n",
    "anes_exog = sm.add_constant(anes_exog, prepend=False)\n",
    "print(anes_data.exog[:5,:])\n",
    "print(anes_data.endog[:5])"
   ]
  },
  {
   "cell_type": "code",
   "execution_count": 84,
   "metadata": {},
   "outputs": [
    {
     "name": "stdout",
     "output_type": "stream",
     "text": [
      "Optimization terminated successfully.\n",
      "         Current function value: 1.548647\n",
      "         Iterations 7\n",
      "[[-1.15359746e-02 -8.87506530e-02 -1.05966699e-01 -9.15567017e-02\n",
      "  -9.32846040e-02 -1.40880692e-01]\n",
      " [ 2.97714352e-01  3.91668642e-01  5.73450508e-01  1.27877179e+00\n",
      "   1.34696165e+00  2.07008014e+00]\n",
      " [-2.49449954e-02 -2.28978371e-02 -1.48512069e-02 -8.68134503e-03\n",
      "  -1.79040689e-02 -9.43264870e-03]\n",
      " [ 8.24914421e-02  1.81042758e-01 -7.15241904e-03  1.99827955e-01\n",
      "   2.16938850e-01  3.21925702e-01]\n",
      " [ 5.19655317e-03  4.78739761e-02  5.75751595e-02  8.44983753e-02\n",
      "   8.09584122e-02  1.08894083e-01]\n",
      " [-3.73401677e-01 -2.25091318e+00 -3.66558353e+00 -7.61384309e+00\n",
      "  -7.06047825e+00 -1.21057509e+01]]\n"
     ]
    }
   ],
   "source": [
    "# Fit MNL model\n",
    "mlogit_mod = sm.MNLogit(anes_data.endog, anes_exog)\n",
    "mlogit_res = mlogit_mod.fit()\n",
    "print(mlogit_res.params)"
   ]
  },
  {
   "cell_type": "code",
   "execution_count": 87,
   "metadata": {
    "scrolled": true
   },
   "outputs": [
    {
     "data": {
      "text/html": [
       "<table class=\"simpletable\">\n",
       "<caption>MNLogit Regression Results</caption>\n",
       "<tr>\n",
       "  <th>Dep. Variable:</th>           <td>y</td>        <th>  No. Observations:  </th>   <td>   944</td>  \n",
       "</tr>\n",
       "<tr>\n",
       "  <th>Model:</th>                <td>MNLogit</td>     <th>  Df Residuals:      </th>   <td>   908</td>  \n",
       "</tr>\n",
       "<tr>\n",
       "  <th>Method:</th>                 <td>MLE</td>       <th>  Df Model:          </th>   <td>    30</td>  \n",
       "</tr>\n",
       "<tr>\n",
       "  <th>Date:</th>            <td>Sat, 02 Jan 2021</td> <th>  Pseudo R-squ.:     </th>   <td>0.1648</td>  \n",
       "</tr>\n",
       "<tr>\n",
       "  <th>Time:</th>                <td>14:48:17</td>     <th>  Log-Likelihood:    </th>  <td> -1461.9</td> \n",
       "</tr>\n",
       "<tr>\n",
       "  <th>converged:</th>             <td>True</td>       <th>  LL-Null:           </th>  <td> -1750.3</td> \n",
       "</tr>\n",
       "<tr>\n",
       "  <th>Covariance Type:</th>     <td>nonrobust</td>    <th>  LLR p-value:       </th> <td>1.822e-102</td>\n",
       "</tr>\n",
       "</table>\n",
       "<table class=\"simpletable\">\n",
       "<tr>\n",
       "   <th>y=1</th>     <th>coef</th>     <th>std err</th>      <th>z</th>      <th>P>|z|</th>  <th>[0.025</th>    <th>0.975]</th>  \n",
       "</tr>\n",
       "<tr>\n",
       "  <th>x1</th>    <td>   -0.0115</td> <td>    0.034</td> <td>   -0.336</td> <td> 0.736</td> <td>   -0.079</td> <td>    0.056</td>\n",
       "</tr>\n",
       "<tr>\n",
       "  <th>x2</th>    <td>    0.2977</td> <td>    0.094</td> <td>    3.180</td> <td> 0.001</td> <td>    0.114</td> <td>    0.481</td>\n",
       "</tr>\n",
       "<tr>\n",
       "  <th>x3</th>    <td>   -0.0249</td> <td>    0.007</td> <td>   -3.823</td> <td> 0.000</td> <td>   -0.038</td> <td>   -0.012</td>\n",
       "</tr>\n",
       "<tr>\n",
       "  <th>x4</th>    <td>    0.0825</td> <td>    0.074</td> <td>    1.121</td> <td> 0.262</td> <td>   -0.062</td> <td>    0.227</td>\n",
       "</tr>\n",
       "<tr>\n",
       "  <th>x5</th>    <td>    0.0052</td> <td>    0.018</td> <td>    0.295</td> <td> 0.768</td> <td>   -0.029</td> <td>    0.040</td>\n",
       "</tr>\n",
       "<tr>\n",
       "  <th>const</th> <td>   -0.3734</td> <td>    0.630</td> <td>   -0.593</td> <td> 0.553</td> <td>   -1.608</td> <td>    0.861</td>\n",
       "</tr>\n",
       "<tr>\n",
       "   <th>y=2</th>     <th>coef</th>     <th>std err</th>      <th>z</th>      <th>P>|z|</th>  <th>[0.025</th>    <th>0.975]</th>  \n",
       "</tr>\n",
       "<tr>\n",
       "  <th>x1</th>    <td>   -0.0888</td> <td>    0.039</td> <td>   -2.266</td> <td> 0.023</td> <td>   -0.166</td> <td>   -0.012</td>\n",
       "</tr>\n",
       "<tr>\n",
       "  <th>x2</th>    <td>    0.3917</td> <td>    0.108</td> <td>    3.619</td> <td> 0.000</td> <td>    0.180</td> <td>    0.604</td>\n",
       "</tr>\n",
       "<tr>\n",
       "  <th>x3</th>    <td>   -0.0229</td> <td>    0.008</td> <td>   -2.893</td> <td> 0.004</td> <td>   -0.038</td> <td>   -0.007</td>\n",
       "</tr>\n",
       "<tr>\n",
       "  <th>x4</th>    <td>    0.1810</td> <td>    0.085</td> <td>    2.123</td> <td> 0.034</td> <td>    0.014</td> <td>    0.348</td>\n",
       "</tr>\n",
       "<tr>\n",
       "  <th>x5</th>    <td>    0.0479</td> <td>    0.022</td> <td>    2.149</td> <td> 0.032</td> <td>    0.004</td> <td>    0.092</td>\n",
       "</tr>\n",
       "<tr>\n",
       "  <th>const</th> <td>   -2.2509</td> <td>    0.763</td> <td>   -2.949</td> <td> 0.003</td> <td>   -3.747</td> <td>   -0.755</td>\n",
       "</tr>\n",
       "<tr>\n",
       "   <th>y=3</th>     <th>coef</th>     <th>std err</th>      <th>z</th>      <th>P>|z|</th>  <th>[0.025</th>    <th>0.975]</th>  \n",
       "</tr>\n",
       "<tr>\n",
       "  <th>x1</th>    <td>   -0.1060</td> <td>    0.057</td> <td>   -1.858</td> <td> 0.063</td> <td>   -0.218</td> <td>    0.006</td>\n",
       "</tr>\n",
       "<tr>\n",
       "  <th>x2</th>    <td>    0.5735</td> <td>    0.159</td> <td>    3.617</td> <td> 0.000</td> <td>    0.263</td> <td>    0.884</td>\n",
       "</tr>\n",
       "<tr>\n",
       "  <th>x3</th>    <td>   -0.0149</td> <td>    0.011</td> <td>   -1.311</td> <td> 0.190</td> <td>   -0.037</td> <td>    0.007</td>\n",
       "</tr>\n",
       "<tr>\n",
       "  <th>x4</th>    <td>   -0.0072</td> <td>    0.126</td> <td>   -0.057</td> <td> 0.955</td> <td>   -0.255</td> <td>    0.240</td>\n",
       "</tr>\n",
       "<tr>\n",
       "  <th>x5</th>    <td>    0.0576</td> <td>    0.034</td> <td>    1.713</td> <td> 0.087</td> <td>   -0.008</td> <td>    0.123</td>\n",
       "</tr>\n",
       "<tr>\n",
       "  <th>const</th> <td>   -3.6656</td> <td>    1.157</td> <td>   -3.169</td> <td> 0.002</td> <td>   -5.932</td> <td>   -1.399</td>\n",
       "</tr>\n",
       "<tr>\n",
       "   <th>y=4</th>     <th>coef</th>     <th>std err</th>      <th>z</th>      <th>P>|z|</th>  <th>[0.025</th>    <th>0.975]</th>  \n",
       "</tr>\n",
       "<tr>\n",
       "  <th>x1</th>    <td>   -0.0916</td> <td>    0.044</td> <td>   -2.091</td> <td> 0.037</td> <td>   -0.177</td> <td>   -0.006</td>\n",
       "</tr>\n",
       "<tr>\n",
       "  <th>x2</th>    <td>    1.2788</td> <td>    0.129</td> <td>    9.921</td> <td> 0.000</td> <td>    1.026</td> <td>    1.531</td>\n",
       "</tr>\n",
       "<tr>\n",
       "  <th>x3</th>    <td>   -0.0087</td> <td>    0.008</td> <td>   -1.031</td> <td> 0.302</td> <td>   -0.025</td> <td>    0.008</td>\n",
       "</tr>\n",
       "<tr>\n",
       "  <th>x4</th>    <td>    0.1998</td> <td>    0.094</td> <td>    2.123</td> <td> 0.034</td> <td>    0.015</td> <td>    0.384</td>\n",
       "</tr>\n",
       "<tr>\n",
       "  <th>x5</th>    <td>    0.0845</td> <td>    0.026</td> <td>    3.226</td> <td> 0.001</td> <td>    0.033</td> <td>    0.136</td>\n",
       "</tr>\n",
       "<tr>\n",
       "  <th>const</th> <td>   -7.6138</td> <td>    0.958</td> <td>   -7.951</td> <td> 0.000</td> <td>   -9.491</td> <td>   -5.737</td>\n",
       "</tr>\n",
       "<tr>\n",
       "   <th>y=5</th>     <th>coef</th>     <th>std err</th>      <th>z</th>      <th>P>|z|</th>  <th>[0.025</th>    <th>0.975]</th>  \n",
       "</tr>\n",
       "<tr>\n",
       "  <th>x1</th>    <td>   -0.0933</td> <td>    0.039</td> <td>   -2.371</td> <td> 0.018</td> <td>   -0.170</td> <td>   -0.016</td>\n",
       "</tr>\n",
       "<tr>\n",
       "  <th>x2</th>    <td>    1.3470</td> <td>    0.117</td> <td>   11.494</td> <td> 0.000</td> <td>    1.117</td> <td>    1.577</td>\n",
       "</tr>\n",
       "<tr>\n",
       "  <th>x3</th>    <td>   -0.0179</td> <td>    0.008</td> <td>   -2.352</td> <td> 0.019</td> <td>   -0.033</td> <td>   -0.003</td>\n",
       "</tr>\n",
       "<tr>\n",
       "  <th>x4</th>    <td>    0.2169</td> <td>    0.085</td> <td>    2.552</td> <td> 0.011</td> <td>    0.050</td> <td>    0.384</td>\n",
       "</tr>\n",
       "<tr>\n",
       "  <th>x5</th>    <td>    0.0810</td> <td>    0.023</td> <td>    3.524</td> <td> 0.000</td> <td>    0.036</td> <td>    0.126</td>\n",
       "</tr>\n",
       "<tr>\n",
       "  <th>const</th> <td>   -7.0605</td> <td>    0.844</td> <td>   -8.362</td> <td> 0.000</td> <td>   -8.715</td> <td>   -5.406</td>\n",
       "</tr>\n",
       "<tr>\n",
       "   <th>y=6</th>     <th>coef</th>     <th>std err</th>      <th>z</th>      <th>P>|z|</th>  <th>[0.025</th>    <th>0.975]</th>  \n",
       "</tr>\n",
       "<tr>\n",
       "  <th>x1</th>    <td>   -0.1409</td> <td>    0.042</td> <td>   -3.343</td> <td> 0.001</td> <td>   -0.223</td> <td>   -0.058</td>\n",
       "</tr>\n",
       "<tr>\n",
       "  <th>x2</th>    <td>    2.0701</td> <td>    0.143</td> <td>   14.435</td> <td> 0.000</td> <td>    1.789</td> <td>    2.351</td>\n",
       "</tr>\n",
       "<tr>\n",
       "  <th>x3</th>    <td>   -0.0094</td> <td>    0.008</td> <td>   -1.160</td> <td> 0.246</td> <td>   -0.025</td> <td>    0.007</td>\n",
       "</tr>\n",
       "<tr>\n",
       "  <th>x4</th>    <td>    0.3219</td> <td>    0.091</td> <td>    3.534</td> <td> 0.000</td> <td>    0.143</td> <td>    0.500</td>\n",
       "</tr>\n",
       "<tr>\n",
       "  <th>x5</th>    <td>    0.1089</td> <td>    0.025</td> <td>    4.304</td> <td> 0.000</td> <td>    0.059</td> <td>    0.158</td>\n",
       "</tr>\n",
       "<tr>\n",
       "  <th>const</th> <td>  -12.1058</td> <td>    1.060</td> <td>  -11.421</td> <td> 0.000</td> <td>  -14.183</td> <td>  -10.028</td>\n",
       "</tr>\n",
       "</table>"
      ],
      "text/plain": [
       "<class 'statsmodels.iolib.summary.Summary'>\n",
       "\"\"\"\n",
       "                          MNLogit Regression Results                          \n",
       "==============================================================================\n",
       "Dep. Variable:                      y   No. Observations:                  944\n",
       "Model:                        MNLogit   Df Residuals:                      908\n",
       "Method:                           MLE   Df Model:                           30\n",
       "Date:                Sat, 02 Jan 2021   Pseudo R-squ.:                  0.1648\n",
       "Time:                        14:48:17   Log-Likelihood:                -1461.9\n",
       "converged:                       True   LL-Null:                       -1750.3\n",
       "Covariance Type:            nonrobust   LLR p-value:                1.822e-102\n",
       "==============================================================================\n",
       "       y=1       coef    std err          z      P>|z|      [0.025      0.975]\n",
       "------------------------------------------------------------------------------\n",
       "x1            -0.0115      0.034     -0.336      0.736      -0.079       0.056\n",
       "x2             0.2977      0.094      3.180      0.001       0.114       0.481\n",
       "x3            -0.0249      0.007     -3.823      0.000      -0.038      -0.012\n",
       "x4             0.0825      0.074      1.121      0.262      -0.062       0.227\n",
       "x5             0.0052      0.018      0.295      0.768      -0.029       0.040\n",
       "const         -0.3734      0.630     -0.593      0.553      -1.608       0.861\n",
       "------------------------------------------------------------------------------\n",
       "       y=2       coef    std err          z      P>|z|      [0.025      0.975]\n",
       "------------------------------------------------------------------------------\n",
       "x1            -0.0888      0.039     -2.266      0.023      -0.166      -0.012\n",
       "x2             0.3917      0.108      3.619      0.000       0.180       0.604\n",
       "x3            -0.0229      0.008     -2.893      0.004      -0.038      -0.007\n",
       "x4             0.1810      0.085      2.123      0.034       0.014       0.348\n",
       "x5             0.0479      0.022      2.149      0.032       0.004       0.092\n",
       "const         -2.2509      0.763     -2.949      0.003      -3.747      -0.755\n",
       "------------------------------------------------------------------------------\n",
       "       y=3       coef    std err          z      P>|z|      [0.025      0.975]\n",
       "------------------------------------------------------------------------------\n",
       "x1            -0.1060      0.057     -1.858      0.063      -0.218       0.006\n",
       "x2             0.5735      0.159      3.617      0.000       0.263       0.884\n",
       "x3            -0.0149      0.011     -1.311      0.190      -0.037       0.007\n",
       "x4            -0.0072      0.126     -0.057      0.955      -0.255       0.240\n",
       "x5             0.0576      0.034      1.713      0.087      -0.008       0.123\n",
       "const         -3.6656      1.157     -3.169      0.002      -5.932      -1.399\n",
       "------------------------------------------------------------------------------\n",
       "       y=4       coef    std err          z      P>|z|      [0.025      0.975]\n",
       "------------------------------------------------------------------------------\n",
       "x1            -0.0916      0.044     -2.091      0.037      -0.177      -0.006\n",
       "x2             1.2788      0.129      9.921      0.000       1.026       1.531\n",
       "x3            -0.0087      0.008     -1.031      0.302      -0.025       0.008\n",
       "x4             0.1998      0.094      2.123      0.034       0.015       0.384\n",
       "x5             0.0845      0.026      3.226      0.001       0.033       0.136\n",
       "const         -7.6138      0.958     -7.951      0.000      -9.491      -5.737\n",
       "------------------------------------------------------------------------------\n",
       "       y=5       coef    std err          z      P>|z|      [0.025      0.975]\n",
       "------------------------------------------------------------------------------\n",
       "x1            -0.0933      0.039     -2.371      0.018      -0.170      -0.016\n",
       "x2             1.3470      0.117     11.494      0.000       1.117       1.577\n",
       "x3            -0.0179      0.008     -2.352      0.019      -0.033      -0.003\n",
       "x4             0.2169      0.085      2.552      0.011       0.050       0.384\n",
       "x5             0.0810      0.023      3.524      0.000       0.036       0.126\n",
       "const         -7.0605      0.844     -8.362      0.000      -8.715      -5.406\n",
       "------------------------------------------------------------------------------\n",
       "       y=6       coef    std err          z      P>|z|      [0.025      0.975]\n",
       "------------------------------------------------------------------------------\n",
       "x1            -0.1409      0.042     -3.343      0.001      -0.223      -0.058\n",
       "x2             2.0701      0.143     14.435      0.000       1.789       2.351\n",
       "x3            -0.0094      0.008     -1.160      0.246      -0.025       0.007\n",
       "x4             0.3219      0.091      3.534      0.000       0.143       0.500\n",
       "x5             0.1089      0.025      4.304      0.000       0.059       0.158\n",
       "const        -12.1058      1.060    -11.421      0.000     -14.183     -10.028\n",
       "==============================================================================\n",
       "\"\"\""
      ]
     },
     "execution_count": 87,
     "metadata": {},
     "output_type": "execute_result"
    }
   ],
   "source": [
    "mlogit_res.summary()"
   ]
  },
  {
   "cell_type": "markdown",
   "metadata": {},
   "source": [
    "### Logit model"
   ]
  },
  {
   "cell_type": "code",
   "execution_count": 102,
   "metadata": {},
   "outputs": [
    {
     "name": "stdout",
     "output_type": "stream",
     "text": [
      "Optimization terminated successfully.\n",
      "         Current function value: 0.545314\n",
      "         Iterations 6\n"
     ]
    }
   ],
   "source": [
    "affair_mod = logit(\"affair ~ occupation + educ + occupation_husb\"\n",
    "                   \"+ rate_marriage + age + yrs_married + children\"\n",
    "                   \" + religious\", dta).fit()"
   ]
  },
  {
   "cell_type": "code",
   "execution_count": 105,
   "metadata": {},
   "outputs": [
    {
     "data": {
      "text/html": [
       "<table class=\"simpletable\">\n",
       "<caption>Logit Regression Results</caption>\n",
       "<tr>\n",
       "  <th>Dep. Variable:</th>        <td>affair</td>      <th>  No. Observations:  </th>   <td>  6366</td>  \n",
       "</tr>\n",
       "<tr>\n",
       "  <th>Model:</th>                 <td>Logit</td>      <th>  Df Residuals:      </th>   <td>  6357</td>  \n",
       "</tr>\n",
       "<tr>\n",
       "  <th>Method:</th>                 <td>MLE</td>       <th>  Df Model:          </th>   <td>     8</td>  \n",
       "</tr>\n",
       "<tr>\n",
       "  <th>Date:</th>            <td>Sat, 02 Jan 2021</td> <th>  Pseudo R-squ.:     </th>   <td>0.1327</td>  \n",
       "</tr>\n",
       "<tr>\n",
       "  <th>Time:</th>                <td>15:31:23</td>     <th>  Log-Likelihood:    </th>  <td> -3471.5</td> \n",
       "</tr>\n",
       "<tr>\n",
       "  <th>converged:</th>             <td>True</td>       <th>  LL-Null:           </th>  <td> -4002.5</td> \n",
       "</tr>\n",
       "<tr>\n",
       "  <th>Covariance Type:</th>     <td>nonrobust</td>    <th>  LLR p-value:       </th> <td>5.807e-224</td>\n",
       "</tr>\n",
       "</table>\n",
       "<table class=\"simpletable\">\n",
       "<tr>\n",
       "         <td></td>            <th>coef</th>     <th>std err</th>      <th>z</th>      <th>P>|z|</th>  <th>[0.025</th>    <th>0.975]</th>  \n",
       "</tr>\n",
       "<tr>\n",
       "  <th>Intercept</th>       <td>    3.7257</td> <td>    0.299</td> <td>   12.470</td> <td> 0.000</td> <td>    3.140</td> <td>    4.311</td>\n",
       "</tr>\n",
       "<tr>\n",
       "  <th>occupation</th>      <td>    0.1602</td> <td>    0.034</td> <td>    4.717</td> <td> 0.000</td> <td>    0.094</td> <td>    0.227</td>\n",
       "</tr>\n",
       "<tr>\n",
       "  <th>educ</th>            <td>   -0.0392</td> <td>    0.015</td> <td>   -2.533</td> <td> 0.011</td> <td>   -0.070</td> <td>   -0.009</td>\n",
       "</tr>\n",
       "<tr>\n",
       "  <th>occupation_husb</th> <td>    0.0124</td> <td>    0.023</td> <td>    0.541</td> <td> 0.589</td> <td>   -0.033</td> <td>    0.057</td>\n",
       "</tr>\n",
       "<tr>\n",
       "  <th>rate_marriage</th>   <td>   -0.7161</td> <td>    0.031</td> <td>  -22.784</td> <td> 0.000</td> <td>   -0.778</td> <td>   -0.655</td>\n",
       "</tr>\n",
       "<tr>\n",
       "  <th>age</th>             <td>   -0.0605</td> <td>    0.010</td> <td>   -5.885</td> <td> 0.000</td> <td>   -0.081</td> <td>   -0.040</td>\n",
       "</tr>\n",
       "<tr>\n",
       "  <th>yrs_married</th>     <td>    0.1100</td> <td>    0.011</td> <td>   10.054</td> <td> 0.000</td> <td>    0.089</td> <td>    0.131</td>\n",
       "</tr>\n",
       "<tr>\n",
       "  <th>children</th>        <td>   -0.0042</td> <td>    0.032</td> <td>   -0.134</td> <td> 0.893</td> <td>   -0.066</td> <td>    0.058</td>\n",
       "</tr>\n",
       "<tr>\n",
       "  <th>religious</th>       <td>   -0.3752</td> <td>    0.035</td> <td>  -10.792</td> <td> 0.000</td> <td>   -0.443</td> <td>   -0.307</td>\n",
       "</tr>\n",
       "</table>"
      ],
      "text/plain": [
       "<class 'statsmodels.iolib.summary.Summary'>\n",
       "\"\"\"\n",
       "                           Logit Regression Results                           \n",
       "==============================================================================\n",
       "Dep. Variable:                 affair   No. Observations:                 6366\n",
       "Model:                          Logit   Df Residuals:                     6357\n",
       "Method:                           MLE   Df Model:                            8\n",
       "Date:                Sat, 02 Jan 2021   Pseudo R-squ.:                  0.1327\n",
       "Time:                        15:31:23   Log-Likelihood:                -3471.5\n",
       "converged:                       True   LL-Null:                       -4002.5\n",
       "Covariance Type:            nonrobust   LLR p-value:                5.807e-224\n",
       "===================================================================================\n",
       "                      coef    std err          z      P>|z|      [0.025      0.975]\n",
       "-----------------------------------------------------------------------------------\n",
       "Intercept           3.7257      0.299     12.470      0.000       3.140       4.311\n",
       "occupation          0.1602      0.034      4.717      0.000       0.094       0.227\n",
       "educ               -0.0392      0.015     -2.533      0.011      -0.070      -0.009\n",
       "occupation_husb     0.0124      0.023      0.541      0.589      -0.033       0.057\n",
       "rate_marriage      -0.7161      0.031    -22.784      0.000      -0.778      -0.655\n",
       "age                -0.0605      0.010     -5.885      0.000      -0.081      -0.040\n",
       "yrs_married         0.1100      0.011     10.054      0.000       0.089       0.131\n",
       "children           -0.0042      0.032     -0.134      0.893      -0.066       0.058\n",
       "religious          -0.3752      0.035    -10.792      0.000      -0.443      -0.307\n",
       "===================================================================================\n",
       "\"\"\""
      ]
     },
     "execution_count": 105,
     "metadata": {},
     "output_type": "execute_result"
    }
   ],
   "source": [
    "affair_mod.summary()"
   ]
  },
  {
   "cell_type": "code",
   "execution_count": 109,
   "metadata": {},
   "outputs": [
    {
     "data": {
      "text/plain": [
       "((6366, 10),\n",
       " 0.0    4313\n",
       " 1.0    2053\n",
       " Name: affair, dtype: int64)"
      ]
     },
     "execution_count": 109,
     "metadata": {},
     "output_type": "execute_result"
    }
   ],
   "source": [
    "dta.shape, dta.affair.value_counts()"
   ]
  },
  {
   "cell_type": "code",
   "execution_count": 113,
   "metadata": {},
   "outputs": [
    {
     "data": {
      "text/plain": [
       "(array([[3882.,  431.],\n",
       "        [1326.,  727.]]),\n",
       " 0.7240025133521835)"
      ]
     },
     "execution_count": 113,
     "metadata": {},
     "output_type": "execute_result"
    }
   ],
   "source": [
    "def acc(cfmtx):\n",
    "    return (cfmtx[0,0] + cfmtx[1,1])/np.sum(cfmtx)\n",
    "#How well are we predicting?\n",
    "affair_mod.pred_table(), acc(affair_mod.pred_table())"
   ]
  },
  {
   "cell_type": "code",
   "execution_count": 114,
   "metadata": {},
   "outputs": [
    {
     "data": {
      "text/html": [
       "<table class=\"simpletable\">\n",
       "<caption>Logit Marginal Effects</caption>\n",
       "<tr>\n",
       "  <th>Dep. Variable:</th> <td>affair</td> \n",
       "</tr>\n",
       "<tr>\n",
       "  <th>Method:</th>         <td>dydx</td>  \n",
       "</tr>\n",
       "<tr>\n",
       "  <th>At:</th>            <td>overall</td>\n",
       "</tr>\n",
       "</table>\n",
       "<table class=\"simpletable\">\n",
       "<tr>\n",
       "         <th></th>            <th>dy/dx</th>    <th>std err</th>      <th>z</th>      <th>P>|z|</th>  <th>[0.025</th>    <th>0.975]</th>  \n",
       "</tr>\n",
       "<tr>\n",
       "  <th>occupation</th>      <td>    0.0293</td> <td>    0.006</td> <td>    4.744</td> <td> 0.000</td> <td>    0.017</td> <td>    0.041</td>\n",
       "</tr>\n",
       "<tr>\n",
       "  <th>educ</th>            <td>   -0.0072</td> <td>    0.003</td> <td>   -2.538</td> <td> 0.011</td> <td>   -0.013</td> <td>   -0.002</td>\n",
       "</tr>\n",
       "<tr>\n",
       "  <th>occupation_husb</th> <td>    0.0023</td> <td>    0.004</td> <td>    0.541</td> <td> 0.589</td> <td>   -0.006</td> <td>    0.010</td>\n",
       "</tr>\n",
       "<tr>\n",
       "  <th>rate_marriage</th>   <td>   -0.1308</td> <td>    0.005</td> <td>  -26.891</td> <td> 0.000</td> <td>   -0.140</td> <td>   -0.121</td>\n",
       "</tr>\n",
       "<tr>\n",
       "  <th>age</th>             <td>   -0.0110</td> <td>    0.002</td> <td>   -5.937</td> <td> 0.000</td> <td>   -0.015</td> <td>   -0.007</td>\n",
       "</tr>\n",
       "<tr>\n",
       "  <th>yrs_married</th>     <td>    0.0201</td> <td>    0.002</td> <td>   10.327</td> <td> 0.000</td> <td>    0.016</td> <td>    0.024</td>\n",
       "</tr>\n",
       "<tr>\n",
       "  <th>children</th>        <td>   -0.0008</td> <td>    0.006</td> <td>   -0.134</td> <td> 0.893</td> <td>   -0.012</td> <td>    0.011</td>\n",
       "</tr>\n",
       "<tr>\n",
       "  <th>religious</th>       <td>   -0.0685</td> <td>    0.006</td> <td>  -11.119</td> <td> 0.000</td> <td>   -0.081</td> <td>   -0.056</td>\n",
       "</tr>\n",
       "</table>"
      ],
      "text/plain": [
       "<class 'statsmodels.iolib.summary.Summary'>\n",
       "\"\"\"\n",
       "        Logit Marginal Effects       \n",
       "=====================================\n",
       "Dep. Variable:                 affair\n",
       "Method:                          dydx\n",
       "At:                           overall\n",
       "===================================================================================\n",
       "                     dy/dx    std err          z      P>|z|      [0.025      0.975]\n",
       "-----------------------------------------------------------------------------------\n",
       "occupation          0.0293      0.006      4.744      0.000       0.017       0.041\n",
       "educ               -0.0072      0.003     -2.538      0.011      -0.013      -0.002\n",
       "occupation_husb     0.0023      0.004      0.541      0.589      -0.006       0.010\n",
       "rate_marriage      -0.1308      0.005    -26.891      0.000      -0.140      -0.121\n",
       "age                -0.0110      0.002     -5.937      0.000      -0.015      -0.007\n",
       "yrs_married         0.0201      0.002     10.327      0.000       0.016       0.024\n",
       "children           -0.0008      0.006     -0.134      0.893      -0.012       0.011\n",
       "religious          -0.0685      0.006    -11.119      0.000      -0.081      -0.056\n",
       "===================================================================================\n",
       "\"\"\""
      ]
     },
     "execution_count": 114,
     "metadata": {},
     "output_type": "execute_result"
    }
   ],
   "source": [
    "mfx = affair_mod.get_margeff()\n",
    "mfx.summary()"
   ]
  },
  {
   "cell_type": "markdown",
   "metadata": {},
   "source": [
    "#### Logit vs Probit"
   ]
  },
  {
   "cell_type": "code",
   "execution_count": 116,
   "metadata": {},
   "outputs": [
    {
     "data": {
      "image/png": "[encoded data removed]",
      "text/plain": [
       "<Figure size 864x576 with 1 Axes>"
      ]
     },
     "metadata": {
      "needs_background": "light"
     },
     "output_type": "display_data"
    }
   ],
   "source": [
    "fig = plt.figure(figsize=(12,8))\n",
    "ax = fig.add_subplot(111)\n",
    "support = np.linspace(-6, 6, 1000)\n",
    "ax.plot(support, stats.logistic.cdf(support), 'r-', label='Logistic')\n",
    "ax.plot(support, stats.norm.cdf(support), label='Probit')\n",
    "ax.legend();"
   ]
  },
  {
   "cell_type": "code",
   "execution_count": 117,
   "metadata": {},
   "outputs": [
    {
     "data": {
      "image/png": "[encoded data removed]",
      "text/plain": [
       "<Figure size 864x576 with 1 Axes>"
      ]
     },
     "metadata": {
      "needs_background": "light"
     },
     "output_type": "display_data"
    }
   ],
   "source": [
    "fig = plt.figure(figsize=(12,8))\n",
    "ax = fig.add_subplot(111)\n",
    "support = np.linspace(-6, 6, 1000)\n",
    "ax.plot(support, stats.logistic.pdf(support), 'r-', label='Logistic')\n",
    "ax.plot(support, stats.norm.pdf(support), label='Probit')\n",
    "ax.legend();"
   ]
  },
  {
   "cell_type": "code",
   "execution_count": null,
   "metadata": {},
   "outputs": [],
   "source": []
  }
 ],
 "metadata": {
  "kernelspec": {
   "display_name": "Python 3",
   "language": "python",
   "name": "python3"
  },
  "language_info": {
   "codemirror_mode": {
    "name": "ipython",
    "version": 3
   },
   "file_extension": ".py",
   "mimetype": "text/x-python",
   "name": "python",
   "nbconvert_exporter": "python",
   "pygments_lexer": "ipython3",
   "version": "3.8.5"
  }
 },
 "nbformat": 4,
 "nbformat_minor": 2
}
