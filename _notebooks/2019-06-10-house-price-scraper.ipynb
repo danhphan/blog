{
 "cells": [
  {
   "cell_type": "markdown",
   "metadata": {},
   "source": [
    "# Collecting Melbourne housing price by BeautifulSoup\n",
    "> In this tutorial we will scrap housing price in Melbourne.\n",
    "\n",
    "- toc: true \n",
    "- badges: true\n",
    "- comments: true\n",
    "- categories: [jupyter]\n",
    "- image: images/chart-preview.png"
   ]
  },
  {
   "cell_type": "markdown",
   "metadata": {},
   "source": [
    "In this tutorial we will scrap housing price in Melbourne from this web site: https://www.domain.com.au/auction-results/melbourne/"
   ]
  },
  {
   "cell_type": "markdown",
   "metadata": {},
   "source": [
    "#### Required python packages\n",
    "> We need urllib for connect to the website, and BeautifulSoup for parsing html sources.\n",
    "> After that, the data can be stored in a json file."
   ]
  },
  {
   "cell_type": "code",
   "execution_count": 28,
   "metadata": {},
   "outputs": [],
   "source": [
    "# Load python packages\n",
    "from urllib.request import urlopen\n",
    "from urllib.error import HTTPError\n",
    "from bs4 import BeautifulSoup\n",
    "import json\n",
    "import pandas as pd\n",
    "import matplotlib\n",
    "import matplotlib.pyplot as plt"
   ]
  },
  {
   "cell_type": "code",
   "execution_count": 17,
   "metadata": {},
   "outputs": [],
   "source": [
    "# Define functions for parsing and collecting data\n",
    "\n",
    "def getListings(url):\n",
    "    \"Get a list of auction results\"\n",
    "    try:\n",
    "        html = urlopen(url)\n",
    "    except HTTPError as e:\n",
    "        return None    \n",
    "    try:\n",
    "        # Parsing data\n",
    "        bs = BeautifulSoup(html.read(), 'html.parser')\n",
    "        articles = bs.findAll('article', {'class':'css-3xqrp1'})\n",
    "        for atc in articles:\n",
    "            for c in atc.children:\n",
    "                if c.name == 'header':\n",
    "                    suburb = c.h3.text\n",
    "                if c.name == 'ul':\n",
    "                    getListing(c, suburb)\n",
    "    except AttributeError as e:\n",
    "        return None\n",
    "    \n",
    "def getListing(tag, suburb=None):\n",
    "    \" Get a list in each suburb \"\n",
    "    ladd,lagen,htype,hInfo,soldInfo,price = tuple([\"Unknown\" for i in range(6)])\n",
    "    listing = list(tag.children)\n",
    "    ladd  = listing[0].text\n",
    "    if listing[1].name == 'li':\n",
    "        htype,hInfo = getHouseInfo(listing[1])\n",
    "    if listing[2].name == 'li':\n",
    "        soldInfo,price = getSoldInfo(listing[2])\n",
    "    if listing[3].name == 'li':\n",
    "        lagen = listing[3].text\n",
    "    listings.append( {'suburb':suburb, 'street':ladd, 'agent':lagen, 'type': htype, 'info': hInfo, \n",
    "                      'sold':soldInfo, 'price':price})\n",
    "    \n",
    "def getSoldInfo(tag):\n",
    "    sold = list(tag.children)\n",
    "    if len(sold) >= 2: return sold[0].text, sold[1].text\n",
    "    else: return sold[0].text, \"Unknown\"\n",
    "\n",
    "def getHouseInfo(tag):\n",
    "    house = list(tag.children)\n",
    "    if len(house) >= 2: return house[0].text, house[1].text\n",
    "    else: return house[0].text, \"Unknown\""
   ]
  },
  {
   "cell_type": "code",
   "execution_count": 18,
   "metadata": {},
   "outputs": [],
   "source": [
    "listings = [] # Store all listings\n",
    "url = \"https://www.domain.com.au/auction-results/melbourne/\"\n",
    "getListings(url)"
   ]
  },
  {
   "cell_type": "markdown",
   "metadata": {},
   "source": [
    "#### Check results"
   ]
  },
  {
   "cell_type": "code",
   "execution_count": 19,
   "metadata": {},
   "outputs": [
    {
     "data": {
      "text/plain": [
       "637"
      ]
     },
     "execution_count": 19,
     "metadata": {},
     "output_type": "execute_result"
    }
   ],
   "source": [
    "# Number of listings\n",
    "len(listings)"
   ]
  },
  {
   "cell_type": "code",
   "execution_count": 20,
   "metadata": {
    "scrolled": true
   },
   "outputs": [
    {
     "data": {
      "text/plain": [
       "[{'suburb': 'Abbotsford',\n",
       "  'street': '1/47 Nicholson St',\n",
       "  'agent': 'Biggin & Scott Richmond',\n",
       "  'type': 'Townhouse',\n",
       "  'info': '2 beds',\n",
       "  'sold': 'Sold prior to auction',\n",
       "  'price': '$1.12m'},\n",
       " {'suburb': 'Abbotsford',\n",
       "  'street': '12 Paterson St',\n",
       "  'agent': 'Biggin & Scott Richmond',\n",
       "  'type': 'House',\n",
       "  'info': '4 beds',\n",
       "  'sold': 'Sold',\n",
       "  'price': '$1.886m'},\n",
       " {'suburb': 'Abbotsford',\n",
       "  'street': '4 Turner St',\n",
       "  'agent': 'Jellis Craig Fitzroy',\n",
       "  'type': 'House',\n",
       "  'info': '3 beds',\n",
       "  'sold': 'Sold',\n",
       "  'price': 'Price withheld'},\n",
       " {'suburb': 'Airport West',\n",
       "  'street': '2/74 Fraser St',\n",
       "  'agent': 'Barry Plant Essendon',\n",
       "  'type': 'Unit',\n",
       "  'info': '3 beds',\n",
       "  'sold': 'Sold prior to auction',\n",
       "  'price': '$671.5k'}]"
      ]
     },
     "execution_count": 20,
     "metadata": {},
     "output_type": "execute_result"
    }
   ],
   "source": [
    "# Show first five listings\n",
    "listings[1:5]"
   ]
  },
  {
   "cell_type": "markdown",
   "metadata": {},
   "source": [
    "#### Store results"
   ]
  },
  {
   "cell_type": "code",
   "execution_count": 21,
   "metadata": {},
   "outputs": [],
   "source": [
    "# Store into a json file for further analysis\n",
    "with open('listings.json', 'w') as f:\n",
    "    json.dump(listings, f)"
   ]
  },
  {
   "cell_type": "code",
   "execution_count": 22,
   "metadata": {},
   "outputs": [],
   "source": [
    "df = pd.read_json('listings.json')"
   ]
  },
  {
   "cell_type": "code",
   "execution_count": 23,
   "metadata": {},
   "outputs": [
    {
     "data": {
      "text/plain": [
       "(637, 7)"
      ]
     },
     "execution_count": 23,
     "metadata": {},
     "output_type": "execute_result"
    }
   ],
   "source": [
    "df.shape"
   ]
  },
  {
   "cell_type": "code",
   "execution_count": 24,
   "metadata": {},
   "outputs": [
    {
     "data": {
      "text/html": [
       "<div>\n",
       "<style scoped>\n",
       "    .dataframe tbody tr th:only-of-type {\n",
       "        vertical-align: middle;\n",
       "    }\n",
       "\n",
       "    .dataframe tbody tr th {\n",
       "        vertical-align: top;\n",
       "    }\n",
       "\n",
       "    .dataframe thead th {\n",
       "        text-align: right;\n",
       "    }\n",
       "</style>\n",
       "<table border=\"1\" class=\"dataframe\">\n",
       "  <thead>\n",
       "    <tr style=\"text-align: right;\">\n",
       "      <th></th>\n",
       "      <th>suburb</th>\n",
       "      <th>street</th>\n",
       "      <th>agent</th>\n",
       "      <th>type</th>\n",
       "      <th>info</th>\n",
       "      <th>sold</th>\n",
       "      <th>price</th>\n",
       "    </tr>\n",
       "  </thead>\n",
       "  <tbody>\n",
       "    <tr>\n",
       "      <th>0</th>\n",
       "      <td>Abbotsford</td>\n",
       "      <td>34 Albert St</td>\n",
       "      <td>Unknown</td>\n",
       "      <td>Unknown</td>\n",
       "      <td>Unknown</td>\n",
       "      <td>House</td>\n",
       "      <td></td>\n",
       "    </tr>\n",
       "    <tr>\n",
       "      <th>1</th>\n",
       "      <td>Abbotsford</td>\n",
       "      <td>1/47 Nicholson St</td>\n",
       "      <td>Biggin &amp; Scott Richmond</td>\n",
       "      <td>Townhouse</td>\n",
       "      <td>2 beds</td>\n",
       "      <td>Sold prior to auction</td>\n",
       "      <td>$1.12m</td>\n",
       "    </tr>\n",
       "    <tr>\n",
       "      <th>2</th>\n",
       "      <td>Abbotsford</td>\n",
       "      <td>12 Paterson St</td>\n",
       "      <td>Biggin &amp; Scott Richmond</td>\n",
       "      <td>House</td>\n",
       "      <td>4 beds</td>\n",
       "      <td>Sold</td>\n",
       "      <td>$1.886m</td>\n",
       "    </tr>\n",
       "    <tr>\n",
       "      <th>3</th>\n",
       "      <td>Abbotsford</td>\n",
       "      <td>4 Turner St</td>\n",
       "      <td>Jellis Craig Fitzroy</td>\n",
       "      <td>House</td>\n",
       "      <td>3 beds</td>\n",
       "      <td>Sold</td>\n",
       "      <td>Price withheld</td>\n",
       "    </tr>\n",
       "    <tr>\n",
       "      <th>4</th>\n",
       "      <td>Airport West</td>\n",
       "      <td>2/74 Fraser St</td>\n",
       "      <td>Barry Plant Essendon</td>\n",
       "      <td>Unit</td>\n",
       "      <td>3 beds</td>\n",
       "      <td>Sold prior to auction</td>\n",
       "      <td>$671.5k</td>\n",
       "    </tr>\n",
       "  </tbody>\n",
       "</table>\n",
       "</div>"
      ],
      "text/plain": [
       "         suburb             street                    agent       type  \\\n",
       "0    Abbotsford       34 Albert St                  Unknown    Unknown   \n",
       "1    Abbotsford  1/47 Nicholson St  Biggin & Scott Richmond  Townhouse   \n",
       "2    Abbotsford     12 Paterson St  Biggin & Scott Richmond      House   \n",
       "3    Abbotsford        4 Turner St     Jellis Craig Fitzroy      House   \n",
       "4  Airport West     2/74 Fraser St     Barry Plant Essendon       Unit   \n",
       "\n",
       "      info                   sold           price  \n",
       "0  Unknown                  House                  \n",
       "1   2 beds  Sold prior to auction          $1.12m  \n",
       "2   4 beds                   Sold         $1.886m  \n",
       "3   3 beds                   Sold  Price withheld  \n",
       "4   3 beds  Sold prior to auction         $671.5k  "
      ]
     },
     "execution_count": 24,
     "metadata": {},
     "output_type": "execute_result"
    }
   ],
   "source": [
    "df.head()"
   ]
  },
  {
   "cell_type": "code",
   "execution_count": 30,
   "metadata": {},
   "outputs": [
    {
     "data": {
      "text/plain": [
       "<AxesSubplot:>"
      ]
     },
     "execution_count": 30,
     "metadata": {},
     "output_type": "execute_result"
    },
    {
     "data": {
      "image/png": "[encoded data removed]",
      "text/plain": [
       "<Figure size 432x288 with 1 Axes>"
      ]
     },
     "metadata": {
      "needs_background": "light"
     },
     "output_type": "display_data"
    }
   ],
   "source": [
    "df['type'].value_counts().plot(kind='bar')"
   ]
  },
  {
   "cell_type": "code",
   "execution_count": 32,
   "metadata": {},
   "outputs": [
    {
     "data": {
      "text/plain": [
       "<AxesSubplot:>"
      ]
     },
     "execution_count": 32,
     "metadata": {},
     "output_type": "execute_result"
    },
    {
     "data": {
      "image/png": "[encoded data removed]",
      "text/plain": [
       "<Figure size 432x288 with 1 Axes>"
      ]
     },
     "metadata": {
      "needs_background": "light"
     },
     "output_type": "display_data"
    }
   ],
   "source": [
    "df['info'].value_counts().plot(kind='bar')"
   ]
  },
  {
   "cell_type": "code",
   "execution_count": null,
   "metadata": {},
   "outputs": [],
   "source": []
  }
 ],
 "metadata": {
  "kernelspec": {
   "display_name": "Python 3",
   "language": "python",
   "name": "python3"
  },
  "language_info": {
   "codemirror_mode": {
    "name": "ipython",
    "version": 3
   },
   "file_extension": ".py",
   "mimetype": "text/x-python",
   "name": "python",
   "nbconvert_exporter": "python",
   "pygments_lexer": "ipython3",
   "version": "3.8.5"
  }
 },
 "nbformat": 4,
 "nbformat_minor": 4
}
