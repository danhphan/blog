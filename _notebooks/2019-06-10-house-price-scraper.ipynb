{
 "cells": [
  {
   "cell_type": "markdown",
   "metadata": {},
   "source": [
    "### Collecting Melbourne housing price by BeautifulSoup\n",
    "> In this tutorial we will scrap housing price in Melbourne from this web site: https://www.domain.com.au/auction-results/melbourne/"
   ]
  },
  {
   "cell_type": "markdown",
   "metadata": {},
   "source": [
    "#### Required python packages\n",
    "> We need urllib for connect to the website, and BeautifulSoup for parsing html sources.\n",
    "> After that, the data can be stored in a json file."
   ]
  },
  {
   "cell_type": "code",
   "execution_count": 10,
   "metadata": {},
   "outputs": [],
   "source": [
    "# Load python packages\n",
    "from urllib.request import urlopen\n",
    "from urllib.error import HTTPError\n",
    "from bs4 import BeautifulSoup\n",
    "import json"
   ]
  },
  {
   "cell_type": "code",
   "execution_count": 26,
   "metadata": {},
   "outputs": [],
   "source": [
    "# Define functions for parsing and collecting data\n",
    "\n",
    "def getListings(url):\n",
    "    \"Get a list of auction results\"\n",
    "    try:\n",
    "        html = urlopen(url)\n",
    "    except HTTPError as e:\n",
    "        return None    \n",
    "    try:\n",
    "        # Parsing data\n",
    "        bs = BeautifulSoup(html.read(), 'html.parser')\n",
    "        articles = bs.findAll('article', {'class':'css-3xqrp1'})\n",
    "        for atc in articles:\n",
    "            for c in atc.children:\n",
    "                if c.name == 'header':\n",
    "                    suburb = c.h3.text\n",
    "                if c.name == 'ul':\n",
    "                    getListing(c, suburb)\n",
    "    except AttributeError as e:\n",
    "        return None\n",
    "    \n",
    "def getListing(tag, suburb=None):\n",
    "    \" Get a list in each suburb \"\n",
    "    ladd,lagen,htype,hInfo,soldInfo,price = tuple([\"Unknown\" for i in range(6)])\n",
    "    listing = list(tag.children)\n",
    "    ladd  = listing[0].text\n",
    "    if listing[1].name == 'li':\n",
    "        htype,hInfo = getHouseInfo(listing[1])\n",
    "    if listing[2].name == 'li':\n",
    "        soldInfo,price = getSoldInfo(listing[2])\n",
    "    if listing[3].name == 'li':\n",
    "        lagen = listing[3].text\n",
    "    listings.append( {'suburb':suburb, 'street':ladd, 'agent':lagen, 'type': htype, 'info': hInfo, \n",
    "                      'sold':soldInfo, 'price':price})\n",
    "    \n",
    "def getSoldInfo(tag):\n",
    "    sold = list(tag.children)\n",
    "    if len(sold) >= 2: return sold[0].text, sold[1].text\n",
    "    else: return sold[0].text, \"Unknown\"\n",
    "\n",
    "def getHouseInfo(tag):\n",
    "    house = list(tag.children)\n",
    "    if len(house) >= 2: return house[0].text, house[1].text\n",
    "    else: return house[0].text, \"Unknown\""
   ]
  },
  {
   "cell_type": "code",
   "execution_count": 28,
   "metadata": {},
   "outputs": [],
   "source": [
    "listings = [] # Store all listings\n",
    "url = \"https://www.domain.com.au/auction-results/melbourne/\"\n",
    "getListings(url)"
   ]
  },
  {
   "cell_type": "markdown",
   "metadata": {},
   "source": [
    "#### Check results"
   ]
  },
  {
   "cell_type": "code",
   "execution_count": 32,
   "metadata": {},
   "outputs": [
    {
     "data": {
      "text/plain": [
       "637"
      ]
     },
     "execution_count": 32,
     "metadata": {},
     "output_type": "execute_result"
    }
   ],
   "source": [
    "# Number of listings\n",
    "len(listings)"
   ]
  },
  {
   "cell_type": "code",
   "execution_count": 33,
   "metadata": {
    "scrolled": true
   },
   "outputs": [
    {
     "data": {
      "text/plain": [
       "[{'suburb': 'Abbotsford',\n",
       "  'street': '1/47 Nicholson St',\n",
       "  'agent': 'Biggin & Scott Richmond',\n",
       "  'type': 'Townhouse',\n",
       "  'info': '2 beds',\n",
       "  'sold': 'Sold prior to auction',\n",
       "  'price': '$1.12m'},\n",
       " {'suburb': 'Abbotsford',\n",
       "  'street': '12 Paterson St',\n",
       "  'agent': 'Biggin & Scott Richmond',\n",
       "  'type': 'House',\n",
       "  'info': '4 beds',\n",
       "  'sold': 'Sold',\n",
       "  'price': '$1.886m'},\n",
       " {'suburb': 'Abbotsford',\n",
       "  'street': '4 Turner St',\n",
       "  'agent': 'Jellis Craig Fitzroy',\n",
       "  'type': 'House',\n",
       "  'info': '3 beds',\n",
       "  'sold': 'Sold',\n",
       "  'price': 'Price withheld'},\n",
       " {'suburb': 'Airport West',\n",
       "  'street': '2/74 Fraser St',\n",
       "  'agent': 'Barry Plant Essendon',\n",
       "  'type': 'Unit',\n",
       "  'info': '3 beds',\n",
       "  'sold': 'Sold prior to auction',\n",
       "  'price': '$671.5k'}]"
      ]
     },
     "execution_count": 33,
     "metadata": {},
     "output_type": "execute_result"
    }
   ],
   "source": [
    "# Show first five listings\n",
    "listings[1:5]"
   ]
  },
  {
   "cell_type": "markdown",
   "metadata": {},
   "source": [
    "#### Store results"
   ]
  },
  {
   "cell_type": "code",
   "execution_count": 16,
   "metadata": {},
   "outputs": [],
   "source": [
    "# Store into a json file for further analysis\n",
    "with open('data/listings.json', 'w') as f:\n",
    "    json.dump(listings, f)"
   ]
  },
  {
   "cell_type": "code",
   "execution_count": null,
   "metadata": {},
   "outputs": [],
   "source": []
  }
 ],
 "metadata": {
  "kernelspec": {
   "display_name": "Python 3",
   "language": "python",
   "name": "python3"
  },
  "language_info": {
   "codemirror_mode": {
    "name": "ipython",
    "version": 3
   },
   "file_extension": ".py",
   "mimetype": "text/x-python",
   "name": "python",
   "nbconvert_exporter": "python",
   "pygments_lexer": "ipython3",
   "version": "3.8.5"
  }
 },
 "nbformat": 4,
 "nbformat_minor": 4
}
