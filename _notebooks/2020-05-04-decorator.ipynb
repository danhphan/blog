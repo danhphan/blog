{
 "cells": [
  {
   "cell_type": "code",
   "execution_count": null,
   "metadata": {},
   "outputs": [],
   "source": [
    "# default_exp pydecorator"
   ]
  },
  {
   "cell_type": "markdown",
   "metadata": {},
   "source": [
    "# Python decorators\n",
    "\n",
    "> Some examples on how to use decorator in python."
   ]
  },
  {
   "cell_type": "markdown",
   "metadata": {},
   "source": [
    "Tutorial: Geir Arne Hjelle - Introduction to Decorators: Power Up Your Python Code. Link: https://www.youtube.com/watch?v=T8CQwGIsrx4"
   ]
  },
  {
   "cell_type": "code",
   "execution_count": null,
   "metadata": {},
   "outputs": [],
   "source": [
    "#hide\n",
    "from nbdev.showdoc import *"
   ]
  },
  {
   "cell_type": "code",
   "execution_count": null,
   "metadata": {},
   "outputs": [],
   "source": [
    "#export\n",
    "import functools\n",
    "import logging\n",
    "import random\n",
    "import time\n",
    "from collections import defaultdict"
   ]
  },
  {
   "cell_type": "markdown",
   "metadata": {},
   "source": [
    "### Functions are first class objects"
   ]
  },
  {
   "cell_type": "code",
   "execution_count": null,
   "metadata": {},
   "outputs": [
    {
     "name": "stdout",
     "output_type": "stream",
     "text": [
      "Hello world\n"
     ]
    }
   ],
   "source": [
    "#export\n",
    "# Function as a parameter\n",
    "def hello(name, logger):\n",
    "    logger(f\"Hello {name}\")\n",
    "    \n",
    "hello(\"world\", logger=print)"
   ]
  },
  {
   "cell_type": "code",
   "execution_count": null,
   "metadata": {},
   "outputs": [
    {
     "name": "stderr",
     "output_type": "stream",
     "text": [
      "WARNING:root:Hello First log\n"
     ]
    }
   ],
   "source": [
    "hello(\"First log\",logger=logging.warning)"
   ]
  },
  {
   "cell_type": "code",
   "execution_count": null,
   "metadata": {},
   "outputs": [],
   "source": [
    "hello(\"Second log\",logger=logging.info)"
   ]
  },
  {
   "cell_type": "code",
   "execution_count": null,
   "metadata": {},
   "outputs": [],
   "source": [
    "with open(\"hello.txt\", mode=\"w\") as file:\n",
    "    hello(\"Files\", logger=file.write)\n",
    "!cat hello.txt"
   ]
  },
  {
   "cell_type": "code",
   "execution_count": null,
   "metadata": {},
   "outputs": [
    {
     "name": "stdout",
     "output_type": "stream",
     "text": [
      "Ereht ih\n"
     ]
    }
   ],
   "source": [
    "def reversed_print(text):\n",
    "    print(text[::-1].capitalize())\n",
    "\n",
    "reversed_print(\"Hi there\")"
   ]
  },
  {
   "cell_type": "code",
   "execution_count": null,
   "metadata": {},
   "outputs": [
    {
     "name": "stdout",
     "output_type": "stream",
     "text": [
      "Hnad olleh\n"
     ]
    }
   ],
   "source": [
    "hello(\"Danh\", logger=reversed_print)"
   ]
  },
  {
   "cell_type": "code",
   "execution_count": null,
   "metadata": {},
   "outputs": [
    {
     "name": "stdout",
     "output_type": "stream",
     "text": [
      "Hello world\n"
     ]
    }
   ],
   "source": [
    "hello(\"world\", logger=print)"
   ]
  },
  {
   "cell_type": "markdown",
   "metadata": {},
   "source": [
    "### Inner functions"
   ]
  },
  {
   "cell_type": "code",
   "execution_count": null,
   "metadata": {},
   "outputs": [],
   "source": [
    "\n",
    "def outer():\n",
    "    print(\"Hi from the outer\")\n",
    "    y = 2020\n",
    "    def inner():\n",
    "        print(\"Hello from the inner\")\n",
    "        print(f\"This year is {y}\")\n",
    "    inner()\n",
    "    return inner"
   ]
  },
  {
   "cell_type": "code",
   "execution_count": null,
   "metadata": {},
   "outputs": [
    {
     "name": "stdout",
     "output_type": "stream",
     "text": [
      "Hi from the outer\n",
      "Hello from the inner\n",
      "This year is 2020\n"
     ]
    },
    {
     "data": {
      "text/plain": [
       "<function __main__.outer.<locals>.inner()>"
      ]
     },
     "execution_count": null,
     "metadata": {},
     "output_type": "execute_result"
    }
   ],
   "source": [
    "outer()"
   ]
  },
  {
   "cell_type": "code",
   "execution_count": null,
   "metadata": {},
   "outputs": [
    {
     "name": "stdout",
     "output_type": "stream",
     "text": [
      "Hi from the outer\n",
      "Hello from the inner\n",
      "This year is 2020\n"
     ]
    },
    {
     "data": {
      "text/plain": [
       "<function __main__.outer.<locals>.inner()>"
      ]
     },
     "execution_count": null,
     "metadata": {},
     "output_type": "execute_result"
    }
   ],
   "source": [
    "inside = outer()\n",
    "inside"
   ]
  },
  {
   "cell_type": "code",
   "execution_count": null,
   "metadata": {},
   "outputs": [
    {
     "name": "stdout",
     "output_type": "stream",
     "text": [
      "Hello from the inner\n",
      "This year is 2020\n"
     ]
    }
   ],
   "source": [
    "inside()"
   ]
  },
  {
   "cell_type": "markdown",
   "metadata": {},
   "source": [
    "#### Manipulate functions"
   ]
  },
  {
   "cell_type": "code",
   "execution_count": null,
   "metadata": {},
   "outputs": [
    {
     "name": "stdout",
     "output_type": "stream",
     "text": [
      "Hello outer\n"
     ]
    }
   ],
   "source": [
    "def hi(func):\n",
    "    print(f\"Hello {func.__name__}\")\n",
    "hi(outer)"
   ]
  },
  {
   "cell_type": "code",
   "execution_count": null,
   "metadata": {},
   "outputs": [
    {
     "data": {
      "text/plain": [
       "<function __main__.outer.<locals>.inner()>"
      ]
     },
     "execution_count": null,
     "metadata": {},
     "output_type": "execute_result"
    }
   ],
   "source": [
    "inside"
   ]
  },
  {
   "cell_type": "code",
   "execution_count": null,
   "metadata": {},
   "outputs": [
    {
     "name": "stdout",
     "output_type": "stream",
     "text": [
      "Hello inner\n"
     ]
    }
   ],
   "source": [
    "hi(inside)"
   ]
  },
  {
   "cell_type": "code",
   "execution_count": null,
   "metadata": {},
   "outputs": [],
   "source": [
    "def hi(func):\n",
    "    print(f\"Hello {func.__name__}\")\n",
    "    return func"
   ]
  },
  {
   "cell_type": "code",
   "execution_count": null,
   "metadata": {},
   "outputs": [
    {
     "name": "stdout",
     "output_type": "stream",
     "text": [
      "Hello outer\n",
      "Hi from the outer\n",
      "Hello from the inner\n",
      "This year is 2020\n"
     ]
    },
    {
     "data": {
      "text/plain": [
       "<function __main__.outer.<locals>.inner()>"
      ]
     },
     "execution_count": null,
     "metadata": {},
     "output_type": "execute_result"
    }
   ],
   "source": [
    "hi(outer)()"
   ]
  },
  {
   "cell_type": "code",
   "execution_count": null,
   "metadata": {},
   "outputs": [
    {
     "name": "stdout",
     "output_type": "stream",
     "text": [
      "Hello outer\n"
     ]
    }
   ],
   "source": [
    "new_outer = hi(outer)"
   ]
  },
  {
   "cell_type": "code",
   "execution_count": null,
   "metadata": {},
   "outputs": [
    {
     "data": {
      "text/plain": [
       "True"
      ]
     },
     "execution_count": null,
     "metadata": {},
     "output_type": "execute_result"
    }
   ],
   "source": [
    "new_outer is outer"
   ]
  },
  {
   "cell_type": "code",
   "execution_count": null,
   "metadata": {},
   "outputs": [
    {
     "data": {
      "text/plain": [
       "<function __main__.wrapper.<locals>._wrapper()>"
      ]
     },
     "execution_count": null,
     "metadata": {},
     "output_type": "execute_result"
    }
   ],
   "source": [
    "def wrapper(func):\n",
    "    def _wrapper():\n",
    "        print(f\"Before {func.__name__}\")\n",
    "        func()\n",
    "        print(f\"After {func.__name__}\")\n",
    "    return _wrapper\n",
    "\n",
    "wrapper(outer)"
   ]
  },
  {
   "cell_type": "code",
   "execution_count": null,
   "metadata": {},
   "outputs": [
    {
     "name": "stdout",
     "output_type": "stream",
     "text": [
      "Hi from the outer\n",
      "Hello from the inner\n",
      "This year is 2020\n"
     ]
    },
    {
     "data": {
      "text/plain": [
       "<function __main__.outer.<locals>.inner()>"
      ]
     },
     "execution_count": null,
     "metadata": {},
     "output_type": "execute_result"
    }
   ],
   "source": [
    "outer()"
   ]
  },
  {
   "cell_type": "code",
   "execution_count": null,
   "metadata": {},
   "outputs": [],
   "source": [
    "new_outer = wrapper(outer)\n"
   ]
  },
  {
   "cell_type": "code",
   "execution_count": null,
   "metadata": {},
   "outputs": [
    {
     "name": "stdout",
     "output_type": "stream",
     "text": [
      "Before outer\n",
      "Hi from the outer\n",
      "Hello from the inner\n",
      "This year is 2020\n",
      "After outer\n"
     ]
    }
   ],
   "source": [
    "new_outer()"
   ]
  },
  {
   "cell_type": "code",
   "execution_count": null,
   "metadata": {},
   "outputs": [],
   "source": [
    "outer = wrapper(outer)"
   ]
  },
  {
   "cell_type": "code",
   "execution_count": null,
   "metadata": {},
   "outputs": [
    {
     "data": {
      "text/plain": [
       "<function __main__.wrapper.<locals>._wrapper()>"
      ]
     },
     "execution_count": null,
     "metadata": {},
     "output_type": "execute_result"
    }
   ],
   "source": [
    "outer"
   ]
  },
  {
   "cell_type": "code",
   "execution_count": null,
   "metadata": {},
   "outputs": [
    {
     "name": "stdout",
     "output_type": "stream",
     "text": [
      "Before outer\n",
      "Hi from the outer\n",
      "Hello from the inner\n",
      "This year is 2020\n",
      "After outer\n"
     ]
    }
   ],
   "source": [
    "outer()"
   ]
  },
  {
   "cell_type": "markdown",
   "metadata": {},
   "source": [
    "#### Sugar syntax"
   ]
  },
  {
   "cell_type": "code",
   "execution_count": null,
   "metadata": {},
   "outputs": [],
   "source": [
    "# Same as: outer2 = wrapper(outer2)\n",
    "@wrapper\n",
    "def outer2():\n",
    "    print(\"Hi from the outer\")\n",
    "    y = 2020\n",
    "    def inner():\n",
    "        print(\"Hello from the inner\")\n",
    "        print(f\"This year is {y}\")\n",
    "    inner()\n",
    "    return inner"
   ]
  },
  {
   "cell_type": "code",
   "execution_count": null,
   "metadata": {},
   "outputs": [
    {
     "name": "stdout",
     "output_type": "stream",
     "text": [
      "Before outer2\n",
      "Hi from the outer\n",
      "Hello from the inner\n",
      "This year is 2020\n",
      "After outer2\n"
     ]
    }
   ],
   "source": [
    "outer2()"
   ]
  },
  {
   "cell_type": "code",
   "execution_count": null,
   "metadata": {},
   "outputs": [],
   "source": [
    "@wrapper\n",
    "def dice_roll():\n",
    "    return random.randint(1,6)"
   ]
  },
  {
   "cell_type": "code",
   "execution_count": null,
   "metadata": {},
   "outputs": [
    {
     "name": "stdout",
     "output_type": "stream",
     "text": [
      "Before dice_roll\n",
      "After dice_roll\n"
     ]
    }
   ],
   "source": [
    "dice_roll()"
   ]
  },
  {
   "cell_type": "code",
   "execution_count": null,
   "metadata": {},
   "outputs": [
    {
     "data": {
      "text/plain": [
       "'_wrapper'"
      ]
     },
     "execution_count": null,
     "metadata": {},
     "output_type": "execute_result"
    }
   ],
   "source": [
    "dice_roll.__name__"
   ]
  },
  {
   "cell_type": "code",
   "execution_count": null,
   "metadata": {},
   "outputs": [
    {
     "name": "stdout",
     "output_type": "stream",
     "text": [
      "Before hello\n",
      "Hello world\n",
      "After hello\n"
     ]
    }
   ],
   "source": [
    "def wrapper(func):\n",
    "    def _wrapper(*args, **kwargs):\n",
    "        print(f\"Before {func.__name__}\")\n",
    "        func(*args, **kwargs)\n",
    "        print(f\"After {func.__name__}\")\n",
    "    return _wrapper\n",
    "\n",
    "@wrapper\n",
    "def hello(name):\n",
    "    print(f\"Hello {name}\")\n",
    "\n",
    "hello(\"world\")"
   ]
  },
  {
   "cell_type": "code",
   "execution_count": null,
   "metadata": {},
   "outputs": [
    {
     "name": "stdout",
     "output_type": "stream",
     "text": [
      "Before dice_roll\n",
      "After dice_roll\n"
     ]
    },
    {
     "data": {
      "text/plain": [
       "4"
      ]
     },
     "execution_count": null,
     "metadata": {},
     "output_type": "execute_result"
    }
   ],
   "source": [
    "def wrapper(func):\n",
    "    @functools.wraps(func)\n",
    "    def _wrapper(*args, **kwargs):\n",
    "        print(f\"Before {func.__name__}\")\n",
    "        value = func(*args, **kwargs)\n",
    "        print(f\"After {func.__name__}\")\n",
    "        return value\n",
    "#    _wrapper.__name__ = func.__name__\n",
    "    return _wrapper\n",
    "\n",
    "@wrapper\n",
    "def dice_roll():\n",
    "    \"\"\" Roll a 6-sided dice\"\"\"\n",
    "    return random.randint(1,6)\n",
    "\n",
    "dice_roll()"
   ]
  },
  {
   "cell_type": "code",
   "execution_count": null,
   "metadata": {},
   "outputs": [
    {
     "data": {
      "text/plain": [
       "'dice_roll'"
      ]
     },
     "execution_count": null,
     "metadata": {},
     "output_type": "execute_result"
    }
   ],
   "source": [
    "dice_roll.__name__"
   ]
  },
  {
   "cell_type": "markdown",
   "metadata": {},
   "source": [
    "### Task 1: Time counter"
   ]
  },
  {
   "cell_type": "code",
   "execution_count": null,
   "metadata": {},
   "outputs": [],
   "source": [
    "#export\n",
    "def wrapper(func):    \n",
    "    @functools.wraps(func)\n",
    "    def _wrapper(*args, **kwargs):\n",
    "        # Before func\n",
    "        value = func(*args, **kwargs)\n",
    "        # After func\n",
    "        return value\n",
    "    return _wrapper"
   ]
  },
  {
   "cell_type": "code",
   "execution_count": null,
   "metadata": {},
   "outputs": [],
   "source": [
    "#export\n",
    "def timer(func):\n",
    "    @functools.wraps(func)\n",
    "    def _timer(*args, **kwargs):\n",
    "        tic = time.perf_counter()\n",
    "        value = func(*args, **kwargs)\n",
    "        toc = time.perf_counter()\n",
    "        print(f\"Elapsed time: {toc-tic:.2f} seconds\")\n",
    "        return value\n",
    "    return _timer\n",
    "\n",
    "\n",
    "@timer\n",
    "def waste_time(number):\n",
    "    total = 0\n",
    "    for num in range(number):\n",
    "        total += sum(n for n in range(num))\n",
    "    return total"
   ]
  },
  {
   "cell_type": "code",
   "execution_count": null,
   "metadata": {},
   "outputs": [
    {
     "name": "stdout",
     "output_type": "stream",
     "text": [
      "Elapsed time: 0.02 seconds\n"
     ]
    },
    {
     "data": {
      "text/plain": [
       "4455100"
      ]
     },
     "execution_count": null,
     "metadata": {},
     "output_type": "execute_result"
    }
   ],
   "source": [
    "# Test\n",
    "waste_time(300)"
   ]
  },
  {
   "cell_type": "code",
   "execution_count": null,
   "metadata": {},
   "outputs": [
    {
     "name": "stdout",
     "output_type": "stream",
     "text": [
      "Elapsed time: 0.44 seconds\n"
     ]
    },
    {
     "data": {
      "text/plain": [
       "4495501000"
      ]
     },
     "execution_count": null,
     "metadata": {},
     "output_type": "execute_result"
    }
   ],
   "source": [
    "waste_time(3000)"
   ]
  },
  {
   "cell_type": "markdown",
   "metadata": {},
   "source": [
    "### Task 2: trace"
   ]
  },
  {
   "cell_type": "code",
   "execution_count": null,
   "metadata": {},
   "outputs": [],
   "source": [
    "#export\n",
    "\n",
    "def get_params(*args, **kwargs):\n",
    "    ars = [repr(a) for a in args]\n",
    "    kws = [f\"{k}={repr(v)}\" for k,v in kwargs.items()]\n",
    "    return ', '.join(ars + kws)\n",
    "\n",
    "def trace(func):\n",
    "    \"\"\"Show the trace of function calls\"\"\"\n",
    "    name = func.__name__\n",
    "    @functools.wraps(func)\n",
    "    def _trace(*args, **kwargs):\n",
    "        print(f\"Calling {name}({get_params(*args,**kwargs)})\")\n",
    "        value = func(*args, **kwargs)\n",
    "        print(f\"{name} returned {value}\")\n",
    "        return value\n",
    "    return _trace\n",
    "\n",
    "GREETINGS = [\"ABC\", \"EHLLO\", \"NO!!!\"]\n",
    "\n",
    "@trace\n",
    "def greet(name, greeting=\"Hello\"):\n",
    "    return f\"{greeting} {name}\"\n",
    "\n",
    "\n",
    "@trace\n",
    "@timer\n",
    "def random_greet(name=\"Emily\"):\n",
    "    greeting = random.choice(GREETINGS)\n",
    "    return greet(name, greeting=greeting)\n",
    "\n",
    "@trace\n",
    "def greet_many(number):\n",
    "    return [random_greet() for _ in range(number)]\n"
   ]
  },
  {
   "cell_type": "code",
   "execution_count": null,
   "metadata": {},
   "outputs": [
    {
     "name": "stdout",
     "output_type": "stream",
     "text": [
      "Calling greet('world')\n",
      "greet returned Hello world\n"
     ]
    },
    {
     "data": {
      "text/plain": [
       "'Hello world'"
      ]
     },
     "execution_count": null,
     "metadata": {},
     "output_type": "execute_result"
    }
   ],
   "source": [
    "greet(\"world\")"
   ]
  },
  {
   "cell_type": "code",
   "execution_count": null,
   "metadata": {},
   "outputs": [
    {
     "name": "stdout",
     "output_type": "stream",
     "text": [
      "Calling greet(name='world', greeting='def')\n",
      "greet returned def world\n"
     ]
    },
    {
     "data": {
      "text/plain": [
       "'def world'"
      ]
     },
     "execution_count": null,
     "metadata": {},
     "output_type": "execute_result"
    }
   ],
   "source": [
    "greet(name=\"world\", greeting=\"def\")"
   ]
  },
  {
   "cell_type": "code",
   "execution_count": null,
   "metadata": {},
   "outputs": [
    {
     "name": "stdout",
     "output_type": "stream",
     "text": [
      "Calling random_greet()\n",
      "Calling greet('Emily', greeting='ABC')\n",
      "greet returned ABC Emily\n",
      "Elapsed time: 0.00 seconds\n",
      "random_greet returned ABC Emily\n"
     ]
    },
    {
     "data": {
      "text/plain": [
       "'ABC Emily'"
      ]
     },
     "execution_count": null,
     "metadata": {},
     "output_type": "execute_result"
    }
   ],
   "source": [
    "random_greet()"
   ]
  },
  {
   "cell_type": "code",
   "execution_count": null,
   "metadata": {},
   "outputs": [
    {
     "name": "stdout",
     "output_type": "stream",
     "text": [
      "Calling greet_many(3)\n",
      "Calling random_greet()\n",
      "Calling greet('Emily', greeting='ABC')\n",
      "greet returned ABC Emily\n",
      "Elapsed time: 0.00 seconds\n",
      "random_greet returned ABC Emily\n",
      "Calling random_greet()\n",
      "Calling greet('Emily', greeting='ABC')\n",
      "greet returned ABC Emily\n",
      "Elapsed time: 0.00 seconds\n",
      "random_greet returned ABC Emily\n",
      "Calling random_greet()\n",
      "Calling greet('Emily', greeting='ABC')\n",
      "greet returned ABC Emily\n",
      "Elapsed time: 0.00 seconds\n",
      "random_greet returned ABC Emily\n",
      "greet_many returned ['ABC Emily', 'ABC Emily', 'ABC Emily']\n"
     ]
    },
    {
     "data": {
      "text/plain": [
       "['ABC Emily', 'ABC Emily', 'ABC Emily']"
      ]
     },
     "execution_count": null,
     "metadata": {},
     "output_type": "execute_result"
    }
   ],
   "source": [
    "greet_many(3)"
   ]
  },
  {
   "cell_type": "code",
   "execution_count": null,
   "metadata": {},
   "outputs": [
    {
     "data": {
      "text/plain": [
       "'random_greet'"
      ]
     },
     "execution_count": null,
     "metadata": {},
     "output_type": "execute_result"
    }
   ],
   "source": [
    "random_greet.__name__"
   ]
  },
  {
   "cell_type": "markdown",
   "metadata": {},
   "source": [
    "### TASK 3: Register"
   ]
  },
  {
   "cell_type": "code",
   "execution_count": null,
   "metadata": {},
   "outputs": [],
   "source": [
    "#export\n",
    "REGISTERED = {}\n",
    "\n",
    "def register(func):\n",
    "    name = func.__name__\n",
    "    if name not in REGISTERED: REGISTERED[name] = func\n",
    "    return func\n",
    "\n",
    "@register\n",
    "def true_or_false(text):\n",
    "    tf_values = {\n",
    "        True: {\"true\", \"on\", \"yes\", \"1\"},\n",
    "        False: {\"false\", \"off\", \"no\", \"0\"}\n",
    "    }\n",
    "    for tf, values in tf_values.items():\n",
    "        if text.lower() in values:\n",
    "            return tf\n",
    "\n",
    "@register\n",
    "def reversed(text):\n",
    "    return text[::-1].capitalize()\n",
    "\n",
    "@register\n",
    "def robber_language(text):\n",
    "    consonants = \"bcdfghlmnpqrstvwxyz\"\n",
    "    return \"\".join(\n",
    "        f\"{c}o{c.lower()}\" if c.lower() in consonants else c\n",
    "        for c in text\n",
    "    )\n",
    "\n",
    "# text = input(\"Please input a text:\")\n",
    "\n",
    "# while True:\n",
    "#     print(f\"Parsers: {', '.join(REGISTERED)}\")\n",
    "#     parser = input(\"Choose a parser: \")\n",
    "#     if parser in REGISTERED: break\n",
    "\n",
    "\n",
    "# parser_func = REGISTERED[parser]\n",
    "# print(parser_func(text))\n",
    "# parser, text, REGISTERED[parser]"
   ]
  },
  {
   "cell_type": "code",
   "execution_count": null,
   "metadata": {},
   "outputs": [
    {
     "data": {
      "text/plain": [
       "'dodecocororatotoror'"
      ]
     },
     "execution_count": null,
     "metadata": {},
     "output_type": "execute_result"
    }
   ],
   "source": [
    "REGISTERED['robber_language'](\"decorator\")"
   ]
  },
  {
   "cell_type": "code",
   "execution_count": null,
   "metadata": {},
   "outputs": [
    {
     "data": {
      "text/plain": [
       "{'m': ['map', 'mid', 'minh'],\n",
       " 'a': ['acb', 'anh'],\n",
       " 'g': ['gqre'],\n",
       " 'h': ['hello']}"
      ]
     },
     "execution_count": null,
     "metadata": {},
     "output_type": "execute_result"
    }
   ],
   "source": [
    "words = ['map', 'mid', 'acb', 'gqre', 'hello', 'anh', 'minh']\n",
    "ls = {}\n",
    "\n",
    "for w in words:\n",
    "    if w[0] not in ls.keys(): ls[w[0]] = [w]\n",
    "    else: ls[w[0]].append(w)\n",
    "ls"
   ]
  },
  {
   "cell_type": "code",
   "execution_count": null,
   "metadata": {},
   "outputs": [],
   "source": [
    "ls2 = {}\n",
    "for w in words:\n",
    "    ls2.setdefault(w[0],[]).append(w)"
   ]
  },
  {
   "cell_type": "code",
   "execution_count": null,
   "metadata": {},
   "outputs": [],
   "source": [
    "def test_eq(x,y):\n",
    "        assert x == y"
   ]
  },
  {
   "cell_type": "code",
   "execution_count": null,
   "metadata": {},
   "outputs": [],
   "source": [
    "test_eq(ls2, ls)"
   ]
  },
  {
   "cell_type": "code",
   "execution_count": null,
   "metadata": {},
   "outputs": [],
   "source": [
    "def get_second(w): return w[1] if len(w) > 1 else w\n"
   ]
  },
  {
   "cell_type": "code",
   "execution_count": null,
   "metadata": {},
   "outputs": [],
   "source": [
    "ls3 = {}\n",
    "for w in words:\n",
    "    ls3.setdefault(get_second(w),[]).append(w)"
   ]
  },
  {
   "cell_type": "code",
   "execution_count": null,
   "metadata": {},
   "outputs": [
    {
     "data": {
      "text/plain": [
       "-5838634506333221685"
      ]
     },
     "execution_count": null,
     "metadata": {},
     "output_type": "execute_result"
    }
   ],
   "source": [
    "a = '1'\n",
    "hash(a)"
   ]
  },
  {
   "cell_type": "code",
   "execution_count": null,
   "metadata": {},
   "outputs": [
    {
     "data": {
      "text/plain": [
       "-6058033488329309327"
      ]
     },
     "execution_count": null,
     "metadata": {},
     "output_type": "execute_result"
    }
   ],
   "source": [
    "hash(tuple(set(dir(dict))))"
   ]
  },
  {
   "cell_type": "code",
   "execution_count": null,
   "metadata": {},
   "outputs": [],
   "source": [
    "\n",
    "def get_dict1(words):\n",
    "    ls2 = {}\n",
    "    for w in words:\n",
    "        ls2.setdefault(w[0],[]).append(w)\n",
    "    return ls2\n",
    "\n",
    "def get_dict2(words):\n",
    "    ls4 = defaultdict(list)\n",
    "    for w in words:\n",
    "        ls4[w[0]].append(w)\n",
    "    return ls4\n",
    "\n",
    "test_eq(get_dict1(words),get_dict2(words))"
   ]
  },
  {
   "cell_type": "code",
   "execution_count": null,
   "metadata": {},
   "outputs": [
    {
     "name": "stdout",
     "output_type": "stream",
     "text": [
      "2.95 µs ± 587 ns per loop (mean ± std. dev. of 7 runs, 100000 loops each)\n"
     ]
    }
   ],
   "source": [
    "%timeit get_dict1(words)"
   ]
  },
  {
   "cell_type": "code",
   "execution_count": null,
   "metadata": {},
   "outputs": [
    {
     "name": "stdout",
     "output_type": "stream",
     "text": [
      "2.85 µs ± 565 ns per loop (mean ± std. dev. of 7 runs, 100000 loops each)\n"
     ]
    }
   ],
   "source": [
    "%timeit get_dict2(words)"
   ]
  },
  {
   "cell_type": "code",
   "execution_count": null,
   "metadata": {},
   "outputs": [],
   "source": [
    "count = defaultdict(lambda : 4)\n",
    "type(count)"
   ]
  },
  {
   "cell_type": "code",
   "execution_count": null,
   "metadata": {},
   "outputs": [],
   "source": [
    "count[2] = 23"
   ]
  },
  {
   "cell_type": "code",
   "execution_count": null,
   "metadata": {},
   "outputs": [
    {
     "data": {
      "text/plain": [
       "defaultdict(<function __main__.<lambda>()>, {2: 23})"
      ]
     },
     "execution_count": null,
     "metadata": {},
     "output_type": "execute_result"
    }
   ],
   "source": [
    "count[3], count"
   ]
  },
  {
   "cell_type": "code",
   "execution_count": null,
   "metadata": {},
   "outputs": [],
   "source": []
  },
  {
   "cell_type": "code",
   "execution_count": null,
   "metadata": {},
   "outputs": [],
   "source": []
  },
  {
   "cell_type": "code",
   "execution_count": null,
   "metadata": {},
   "outputs": [],
   "source": []
  },
  {
   "cell_type": "code",
   "execution_count": null,
   "metadata": {},
   "outputs": [
    {
     "name": "stdout",
     "output_type": "stream",
     "text": [
      "Converted 01_pydecorator.ipynb.\n",
      "Converted 02_pyscraper.ipynb.\n",
      "Converted 03_pyencoding.ipynb.\n",
      "Converted 04_housing_data_collection.ipynb.\n",
      "Converted 05_pytwitter.ipynb.\n",
      "Converted 06_skorch.ipynb.\n",
      "Converted 07_math_optimisation.ipynb.\n",
      "Converted 08_ds_scratch.ipynb.\n",
      "Converted 09_openstreet_map.ipynb.\n",
      "Converted 20_dash_01.ipynb.\n",
      "Converted index.ipynb.\n"
     ]
    }
   ],
   "source": [
    "#hide\n",
    "# Convert to *.py\n",
    "from nbdev.export import notebook2script\n",
    "notebook2script()"
   ]
  }
 ],
 "metadata": {
  "kernelspec": {
   "display_name": "Python 3",
   "language": "python",
   "name": "python3"
  }
 },
 "nbformat": 4,
 "nbformat_minor": 2
}
