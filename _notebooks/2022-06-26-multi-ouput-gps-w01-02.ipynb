{
 "cells": [
  {
   "cell_type": "markdown",
   "metadata": {},
   "source": [
    "# Multi-output Gaussian Processes in PyMC [GSoC Week 01-02]\n",
    "\n",
    "> A personal note on the progress of incoporating Multi-output Gaussian Processes (MOGPs) into PyMC. This work is supported by NumFOCUS and GSoC.\n",
    "- toc: true \n",
    "- badges: true\n",
    "- comments: true\n",
    "- categories: [GP, Gaussian Process]"
   ]
  },
  {
   "cell_type": "markdown",
   "metadata": {},
   "source": [
    "### 1. What have been done?\n",
    "\n",
    "In previous weeks, I focus on the Intrinsic Coregionalization Model (ICM).\n",
    "\n",
    "- For the begining, I've started with a small aim is to run an Intrinsic Coregionalization Model (ICM) in PyMC. The main part of code was already developed in PyMC v3 by Bills (one of my mentor), so I just need to convert the [PyMC v3 notebook](https://github.com/danhphan/gp_experiments/blob/main/experiments/00_mogp_pymc3.ipynb) into a [PyMC v4 notebook](https://github.com/danhphan/gp_experiments/blob/main/experiments/00_mogp_pymc_v4.ipynb). \n",
    "\n",
    "- The next goal is to replicate the Coregionalized Regression Model [example notebook](https://nbviewer.org/github/SheffieldML/notebook/blob/master/GPy/coregionalized_regression_tutorial.ipynb) in GPy. The result is on [this notebook](https://github.com/danhphan/gp_experiments/blob/main/experiments/12_Coregionalized_Regression_Model_GPy_PyMC.ipynb).\n",
    "\n",
    "- What about two or more ouputs with real datasets? Using the data sets [here](https://github.com/GAMES-UChile/mogptk/blob/master/examples/example_gold_oil_NASDAQ_USD.ipynb) with 4 ouputs, it seems work alright in [this notebook](https://github.com/danhphan/gp_experiments/blob/main/experiments/15_multitask_gp_for_gold_oil_nasdaq_usd.ipynb), but still need further improvement."
   ]
  },
  {
   "cell_type": "markdown",
   "metadata": {},
   "source": [
    "### 2. Discussions"
   ]
  },
  {
   "cell_type": "markdown",
   "metadata": {},
   "source": [
    "```\n",
    "with pm.Model() as model:\n",
    "    ell = pm.Gamma(\"ell\", alpha=2, beta=0.5)\n",
    "    eta = pm.Gamma(\"eta\", alpha=2, beta=0.5)\n",
    "    cov = eta**2 * pm.gp.cov.ExpQuad(1, ls=ell, active_dims=[0])\n",
    "    \n",
    "    W = pm.Normal(\"W\", mu=0, sigma=3, shape=(2,2), testval=np.random.randn(2,2))\n",
    "    kappa = pm.Gamma(\"kappa\", alpha=1.5, beta=1, shape=2)\n",
    "    coreg = pm.gp.cov.Coregion(input_dim=2, active_dims=[1], kappa=kappa, W=W)\n",
    "    cov_func = coreg * cov\n",
    "```\n",
    "This `coreg * cov` seems not a Kronecker product?\n",
    "\n",
    "`ValueError: Mass matrix contains zeros on the diagonal.` when input y with shape [n,1]\n",
    "\n"
   ]
  },
  {
   "cell_type": "markdown",
   "metadata": {},
   "source": [
    "### 3. Next steps"
   ]
  },
  {
   "cell_type": "markdown",
   "metadata": {},
   "source": [
    "Next steps"
   ]
  },
  {
   "cell_type": "markdown",
   "metadata": {},
   "source": [
    "Implement the linear model of coregionalization (LMC) in PyMC\n"
   ]
  }
 ],
 "metadata": {
  "kernelspec": {
   "display_name": "Python 3",
   "language": "python",
   "name": "python3"
  },
  "language_info": {
   "codemirror_mode": {
    "name": "ipython",
    "version": 3
   },
   "file_extension": ".py",
   "mimetype": "text/x-python",
   "name": "python",
   "nbconvert_exporter": "python",
   "pygments_lexer": "ipython3",
   "version": "3.8.5"
  }
 },
 "nbformat": 4,
 "nbformat_minor": 4
}
