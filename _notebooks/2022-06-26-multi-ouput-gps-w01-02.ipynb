{
 "cells": [
  {
   "cell_type": "markdown",
   "metadata": {},
   "source": [
    "# Multi-output Gaussian Processes in PyMC [GSoC Week 01-02]\n",
    "\n",
    "> A personal note on the progress of incoporating Multi-output Gaussian Processes (MOGPs) into PyMC. This work is supported by NumFOCUS and GSoC.\n",
    "- toc: true \n",
    "- badges: true\n",
    "- comments: true\n",
    "- categories: [GP, Gaussian Process]"
   ]
  },
  {
   "cell_type": "markdown",
   "metadata": {},
   "source": [
    "### 1. What have been done?\n",
    "\n",
    "- For the begining, I've started with a small aim is to run an Intrinsic Coregionalization Model (ICM) in PyMC. The main part of code was already developed in PyMC v3 by Bills (one of my mentor), so I just need to convert the [PyMC v3 notebook](https://github.com/danhphan/gp_experiments/blob/main/experiments/00_mogp_pymc3.ipynb) into a [PyMC v4 notebook](https://github.com/danhphan/gp_experiments/blob/main/experiments/00_mogp_pymc_v4.ipynb). \n",
    "- The next goal is to replicate the Coregionalized Regression Model [example notebook](https://nbviewer.org/github/SheffieldML/notebook/blob/master/GPy/coregionalized_regression_tutorial.ipynb) in GPy. The result is on [this notebook]()."
   ]
  },
  {
   "cell_type": "markdown",
   "metadata": {},
   "source": [
    "### 2. Discussions"
   ]
  },
  {
   "cell_type": "markdown",
   "metadata": {},
   "source": [
    "Later, to learn more on kernels, "
   ]
  },
  {
   "cell_type": "markdown",
   "metadata": {},
   "source": [
    "### 3. Next steps"
   ]
  },
  {
   "cell_type": "markdown",
   "metadata": {},
   "source": [
    "Next steps"
   ]
  },
  {
   "cell_type": "markdown",
   "metadata": {},
   "source": []
  }
 ],
 "metadata": {
  "kernelspec": {
   "display_name": "Python 3",
   "language": "python",
   "name": "python3"
  },
  "language_info": {
   "codemirror_mode": {
    "name": "ipython",
    "version": 3
   },
   "file_extension": ".py",
   "mimetype": "text/x-python",
   "name": "python",
   "nbconvert_exporter": "python",
   "pygments_lexer": "ipython3",
   "version": "3.8.5"
  }
 },
 "nbformat": 4,
 "nbformat_minor": 4
}
