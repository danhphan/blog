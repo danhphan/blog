{
 "cells": [
  {
   "cell_type": "markdown",
   "metadata": {},
   "source": [
    "# A [maybe] better way to learn Gaussian Process [WIP]\n",
    "\n",
    "> A note on the approach and resources to learn Gaussian Process. This is what my younger self would love to know 6 months ago.\n",
    "\n",
    "- toc: true \n",
    "- badges: true\n",
    "- comments: true\n",
    "- categories: [GP, Gaussian Process]"
   ]
  },
  {
   "cell_type": "markdown",
   "metadata": {},
   "source": [
    "### 1. Pre-knowledge\n",
    "\n",
    "- Before moving to Gaussian Process, a Bayesian non-parametric method, one should be familiar with parametric Bayesian models\n",
    "- Firstly, I will start from Richard McElreath's [Statistical Rethinking](http://xcelab.net/rm/statistical-rethinking/) by watching his lecture on [Youtube](https://www.youtube.com/channel/UCNJK6_DZvcMqNSzQdEkzvzA/playlists), reading the book and doing excercises. The homework solution coded in PyMC is [here](https://github.com/gbosquechacon/statrethink_course_in_pymc3) thanks to Gabriel B.C. I prefer Python and PyMC, so I will use the [PyMC implemetation](https://github.com/pymc-devs/pymc-resources/tree/main/Rethinking) of the book.\n",
    "- Secondly, [Bayesian Analysis with Python](https://www.packtpub.com/big-data-and-business-intelligence/bayesian-analysis-python-second-edition) (second edition) by Osvaldo Martin is a really good book to learn Bayseian data analysis with PyMC.\n",
    "- Thirdly, [Probabilistic Programming and Bayesian Methods for Hackers](https://github.com/CamDavidsonPilon/Probabilistic-Programming-and-Bayesian-Methods-for-Hackers): An introduction to Bayesian methods and probabilistic programming. This one really help to know how Bayesian methods are used in different applications.\n",
    "\n",
    "\n",
    "I also found the PyMCon2020 talk: **My Journey in Learning and Relearning Bayesian Statistics** by [Ali Akbar Septiandri](https://discourse.pymc.io/t/my-journey-in-learning-and-relearning-bayesian-statistics-by-ali-akbar-septiandri/5984) is really helpful."
   ]
  },
  {
   "cell_type": "markdown",
   "metadata": {},
   "source": [
    "### 2. Gaussian Process [Once Gaussian always Gaussian]"
   ]
  },
  {
   "cell_type": "markdown",
   "metadata": {},
   "source": [
    "#### 2.1. Kernels\n",
    "\n",
    "The lecture [video and notes](https://www.cs.cornell.edu/courses/cs4780/2018fa/lectures/lecturenote13.html) on the Machine Learning for Intelligent Systems course at Cornell University is a great introduction on general kernels as as Linear, Polynomial, Radial Basis Function (RBF) (aka Gaussian Kernel), Exponential Kernel, ...\n",
    "\n",
    "https://www.cs.cornell.edu/courses/cs4780/2018fa/lectures/lecturenote14.html\n",
    "\n",
    "Note that not any function K(⋅,⋅) → R can be used as a kernel. Only the matrix K(xi,xj) has to correspond to real inner-products after some transformation x→ϕ(x), and if and only if K is `positive semi-definite`.\n",
    "\n",
    "Later, to learn more on kernels, "
   ]
  },
  {
   "cell_type": "markdown",
   "metadata": {},
   "source": [
    "#### 2.2. Introduction to Gaussian Process\n",
    "\n",
    "`A Primer on Gaussian Processes for Regression Analysis` from Chris Fonnesbeck | PyData NYC 2019, [Youtube link](https://www.youtube.com/watch?v=j7Ruu3Yu-70)\n",
    "Notebooks on [Github link](https://github.com/fonnesbeck/gp_regression) is a great place to start to learn about GP. He introduced with a simple regression problem, then move to a simple Gaussian Process model using PyMC.\n",
    "\n",
    "To understand more on Gaussian Process, I found this lecture on [Gaussian Processes](https://www.cs.cornell.edu/courses/cs4780/2018fa/lectures/lecturenote15.html) of from Cornell Uni is really helpful. Many thanks to Kilian Weinberger to upload his notes as well as lecture videos publiclly."
   ]
  },
  {
   "cell_type": "markdown",
   "metadata": {},
   "source": [
    "#### 2.3. Gaussian Process Summer Schools\n",
    "\n",
    "[Gaussian Process Summer Schools](http://gpss.cc/) is a great place to learn various topics on GPs. The materials and slides can be found on [gpschool github](https://github.com/gpschool), while the records were published on [Youtube](https://www.youtube.com/channel/UCQITXIAgtKlUdfBVhAmTRQA/playlists).\n",
    "\n",
    "I would suggest to start ton the 2017 Gaussian Process Summer Schools, as this year has a comprehensive introduction into GPs, and other topics. However, if you want to check more updated topics on GPs, just watch the recent workshops."
   ]
  },
  {
   "cell_type": "markdown",
   "metadata": {},
   "source": [
    "#### 2.4. Deep dive into GP\n",
    "\n",
    "\n",
    "On kernels:\n",
    "- Chapter 5, Carl Eduard Rasmussen and Christopher K.I. Williams, “Gaussian Processes for Machine Learning”, MIT Press 2006, the PDF version of the book [here](http://gaussianprocess.org/gpml/chapters/RW.pdf)\n",
    "- The Kernel Cookbook: Advice on Covariance functions by David Duvenaud [here](https://www.cs.toronto.edu/~duvenaud/cookbook/)\n",
    "- PyMC examples of GP: https://github.com/pymc-devs/pymc-examples/tree/main/examples/gaussian_processes\n"
   ]
  },
  {
   "cell_type": "markdown",
   "metadata": {},
   "source": [
    "Deep dive into GP by implementing GP from scratch"
   ]
  },
  {
   "cell_type": "markdown",
   "metadata": {},
   "source": [
    "### Small notes\n",
    "\n",
    "At the begining, it is kind of difficult to understand and work with GP. It needs resilient. I have watched and re-watched some videos and played with notebooks several times.\n",
    "\n",
    "Knowning GP helps understanding more on parametric Bayesian models and distributions. Expecially Multivariate Normal distribution.\n",
    "\n",
    "\n"
   ]
  },
  {
   "cell_type": "markdown",
   "metadata": {},
   "source": []
  }
 ],
 "metadata": {
  "kernelspec": {
   "display_name": "Python 3",
   "language": "python",
   "name": "python3"
  },
  "language_info": {
   "codemirror_mode": {
    "name": "ipython",
    "version": 3
   },
   "file_extension": ".py",
   "mimetype": "text/x-python",
   "name": "python",
   "nbconvert_exporter": "python",
   "pygments_lexer": "ipython3",
   "version": "3.8.5"
  }
 },
 "nbformat": 4,
 "nbformat_minor": 4
}
