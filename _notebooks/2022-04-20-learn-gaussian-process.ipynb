{
 "cells": [
  {
   "cell_type": "markdown",
   "source": [
    "# A better way to learn Gaussian Process (once GP, always GP)\n",
    "\n",
    "> A note on the approach and resources to learn Gaussian Process. This is what my younger self would love to know 6 months ago.\n",
    "\n",
    "- toc: true \n",
    "- badges: true\n",
    "- comments: true\n",
    "- categories: [GP, Gaussian Process]"
   ],
   "metadata": {}
  },
  {
   "cell_type": "markdown",
   "source": [
    "### 1. Pre-knowledge\n",
    "\n",
    "- Before moving to Gaussian Process, a Bayesian non-parametric method"
   ],
   "metadata": {}
  }
 ],
 "metadata": {
  "kernelspec": {
   "display_name": "Python 3",
   "language": "python",
   "name": "python3"
  },
  "language_info": {
   "codemirror_mode": {
    "name": "ipython",
    "version": 3
   },
   "file_extension": ".py",
   "mimetype": "text/x-python",
   "name": "python",
   "nbconvert_exporter": "python",
   "pygments_lexer": "ipython3",
   "version": "3.7.9"
  }
 },
 "nbformat": 4,
 "nbformat_minor": 2
}