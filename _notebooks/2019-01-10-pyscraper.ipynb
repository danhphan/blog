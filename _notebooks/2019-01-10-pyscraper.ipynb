{
 "cells": [
  {
   "cell_type": "code",
   "execution_count": null,
   "source": [
    "# default_exp pyscraper"
   ],
   "outputs": [],
   "metadata": {}
  },
  {
   "cell_type": "markdown",
   "source": [
    "# Scraping with Parsel and Selinium \n",
    "\n",
    "> Python scraper"
   ],
   "metadata": {}
  },
  {
   "cell_type": "code",
   "execution_count": null,
   "source": [
    "#hide\n",
    "from nbdev.showdoc import *"
   ],
   "outputs": [],
   "metadata": {}
  },
  {
   "cell_type": "markdown",
   "source": [
    "### Parsel usage"
   ],
   "metadata": {}
  },
  {
   "cell_type": "code",
   "execution_count": null,
   "source": [
    "#export\n",
    "from parsel import Selector\n",
    "from urllib.request import urlopen\n",
    "import requests\n",
    "import pandas as pd\n",
    "import time"
   ],
   "outputs": [],
   "metadata": {}
  },
  {
   "cell_type": "code",
   "execution_count": null,
   "source": [
    "text = u\"<html><body><h1>Hello, Parsel!</h1></body></html>\"\n",
    "sl = Selector(text=text)\n",
    "sl.css('h1')"
   ],
   "outputs": [
    {
     "output_type": "execute_result",
     "data": {
      "text/plain": [
       "[<Selector xpath='descendant-or-self::h1' data='<h1>Hello, Parsel!</h1>'>]"
      ]
     },
     "metadata": {},
     "execution_count": null
    }
   ],
   "metadata": {}
  },
  {
   "cell_type": "code",
   "execution_count": null,
   "source": [
    "sl.xpath('//h1')"
   ],
   "outputs": [
    {
     "output_type": "execute_result",
     "data": {
      "text/plain": [
       "[<Selector xpath='//h1' data='<h1>Hello, Parsel!</h1>'>]"
      ]
     },
     "metadata": {},
     "execution_count": null
    }
   ],
   "metadata": {}
  },
  {
   "cell_type": "code",
   "execution_count": null,
   "source": [
    "sl.css('h1::text').get()"
   ],
   "outputs": [
    {
     "output_type": "execute_result",
     "data": {
      "text/plain": [
       "'Hello, Parsel!'"
      ]
     },
     "metadata": {},
     "execution_count": null
    }
   ],
   "metadata": {}
  },
  {
   "cell_type": "code",
   "execution_count": null,
   "source": [
    "sl.xpath('//h1/text()').getall()"
   ],
   "outputs": [
    {
     "output_type": "execute_result",
     "data": {
      "text/plain": [
       "['Hello, Parsel!']"
      ]
     },
     "metadata": {},
     "execution_count": null
    }
   ],
   "metadata": {}
  },
  {
   "cell_type": "markdown",
   "source": [
    "### A look at CaffeF"
   ],
   "metadata": {}
  },
  {
   "cell_type": "code",
   "execution_count": null,
   "source": [
    "#html = urlopen(url)\n",
    "url = 'https://s.cafef.vn/Lich-su-giao-dich-FPT-1.chn'\n",
    "text = requests.get(url).text"
   ],
   "outputs": [],
   "metadata": {}
  },
  {
   "cell_type": "code",
   "execution_count": null,
   "source": [
    "cf = Selector(text)"
   ],
   "outputs": [],
   "metadata": {}
  },
  {
   "cell_type": "code",
   "execution_count": null,
   "source": [
    "rows = cf.xpath(\"//table[@id='GirdTable2']/tr[@id]\")"
   ],
   "outputs": [],
   "metadata": {}
  },
  {
   "cell_type": "code",
   "execution_count": null,
   "source": [
    "for row in rows:\n",
    "    date = row.xpath(\"td[@class='Item_DateItem']/text()\").get()\n",
    "    pr_scale = row.xpath(\"td[@class='Item_Price10'][1]/text()\").get()\n",
    "    pr_close = row.xpath(\"td[@class='Item_Price10'][2]/text()\").get()\n",
    "    print(date, pr_scale, pr_close)\n",
    "    time.sleep(0.5)"
   ],
   "outputs": [
    {
     "output_type": "stream",
     "name": "stdout",
     "text": [
      "15/01/2021 66.60  66.60 \n",
      "14/01/2021 66.40  66.40 \n",
      "13/01/2021 66.50  66.50 \n",
      "12/01/2021 65.80  65.80 \n",
      "11/01/2021 64.70  64.70 \n",
      "08/01/2021 63.30  63.30 \n",
      "07/01/2021 62.50  62.50 \n",
      "06/01/2021 62.40  62.40 \n",
      "05/01/2021 62.70  62.70 \n",
      "04/01/2021 60.20  60.20 \n",
      "31/12/2020 59.10  59.10 \n",
      "30/12/2020 58.10  58.10 \n",
      "29/12/2020 58.60  58.60 \n",
      "28/12/2020 57.90  57.90 \n",
      "25/12/2020 57.60  57.60 \n",
      "24/12/2020 57.00  57.00 \n",
      "23/12/2020 57.50  57.50 \n",
      "22/12/2020 58.10  58.10 \n",
      "21/12/2020 57.50  57.50 \n",
      "18/12/2020 56.90  56.90 \n"
     ]
    }
   ],
   "metadata": {}
  },
  {
   "cell_type": "markdown",
   "source": [
    "### A look at Vndirect"
   ],
   "metadata": {}
  },
  {
   "cell_type": "code",
   "execution_count": null,
   "source": [
    "url = 'https://dstock.vndirect.com.vn/lich-su-gia/FPT'\n",
    "text = requests.get(url).text\n",
    "vndr = Selector(text)"
   ],
   "outputs": [],
   "metadata": {}
  },
  {
   "cell_type": "code",
   "execution_count": null,
   "source": [
    "vndr"
   ],
   "outputs": [
    {
     "output_type": "execute_result",
     "data": {
      "text/plain": [
       "<Selector xpath=None data='<html><head><meta name=\"viewport\" con...'>"
      ]
     },
     "metadata": {},
     "execution_count": null
    }
   ],
   "metadata": {}
  },
  {
   "cell_type": "code",
   "execution_count": null,
   "source": [
    "tbs = vndr.xpath(\"//table/tbody\")"
   ],
   "outputs": [],
   "metadata": {}
  },
  {
   "cell_type": "code",
   "execution_count": null,
   "source": [
    "tbs"
   ],
   "outputs": [
    {
     "output_type": "execute_result",
     "data": {
      "text/plain": [
       "[<Selector xpath='//table/tbody' data='<tbody></tbody>'>,\n",
       " <Selector xpath='//table/tbody' data='<tbody></tbody>'>]"
      ]
     },
     "metadata": {},
     "execution_count": null
    }
   ],
   "metadata": {}
  },
  {
   "cell_type": "code",
   "execution_count": null,
   "source": [
    "for tb in tbs:\n",
    "    print(tb.xpath(\"/tr\").get())\n",
    "    "
   ],
   "outputs": [
    {
     "output_type": "stream",
     "name": "stdout",
     "text": [
      "None\n",
      "None\n"
     ]
    }
   ],
   "metadata": {}
  },
  {
   "cell_type": "markdown",
   "source": [
    "### A look at BDS VN"
   ],
   "metadata": {}
  },
  {
   "cell_type": "code",
   "execution_count": null,
   "source": [
    "urls = {\n",
    "    'All'    : 'https://batdongsan.com.vn/nha-dat-ban',\n",
    "    'Apartment' : 'https://batdongsan.com.vn/ban-can-ho-chung-cu',\n",
    "    'All House': 'https://batdongsan.com.vn/ban-nha-dat',\n",
    "    'Normal House' : 'https://batdongsan.com.vn/ban-nha-rieng',\n",
    "    'Villa House' : 'https://batdongsan.com.vn/ban-nha-biet-thu-lien-ke',\n",
    "    'Biz House' : 'https://batdongsan.com.vn/ban-nha-mat-pho',\n",
    "    'All Land'   : 'https://batdongsan.com.vn/ban-dat-dat-nen',\n",
    "    'Project Land': 'https://batdongsan.com.vn/ban-dat-nen-du-an',\n",
    "    'Normal Land' : 'https://batdongsan.com.vn/ban-dat',\n",
    "    'Farm'   : 'https://batdongsan.com.vn/ban-trang-trai-khu-nghi-duong',\n",
    "    'Warehouse' : 'https://batdongsan.com.vn/ban-kho-nha-xuong',\n",
    "    'Other' : 'https://batdongsan.com.vn/ban-loai-bat-dong-san-khac' \n",
    "    \n",
    "}"
   ],
   "outputs": [],
   "metadata": {}
  },
  {
   "cell_type": "code",
   "execution_count": null,
   "source": [
    "date"
   ],
   "outputs": [
    {
     "output_type": "execute_result",
     "data": {
      "text/plain": [
       "'18/12/2020'"
      ]
     },
     "metadata": {},
     "execution_count": null
    }
   ],
   "metadata": {}
  },
  {
   "cell_type": "code",
   "execution_count": null,
   "source": [
    "bdses = []\n",
    "for cat, url in urls.items():\n",
    "    bds = Selector(requests.get(url).text)\n",
    "    title = bds.xpath(\"//div/h1/text()\").get()\n",
    "    number = bds.xpath(\"//div/span[@id='count-number']/text()\").get()\n",
    "    bdses.append([cat, title, date, number])\n",
    "    print(cat, title, date, number)\n",
    "    time.sleep(1)"
   ],
   "outputs": [
    {
     "output_type": "stream",
     "name": "stdout",
     "text": [
      "All Mua bán nhà đất toàn quốc 18/12/2020 191,499\n",
      "Apartment Bán căn hộ chung cư tại Việt Nam 18/12/2020 43,442\n",
      "All House Nhà bán tại Việt Nam 18/12/2020 81,289\n",
      "Normal House Bán nhà riêng tại Việt Nam 18/12/2020 44,433\n",
      "Villa House Bán nhà biệt thự, liền kề tại Việt Nam 18/12/2020 14,450\n",
      "Biz House Bán nhà mặt phố tại Việt Nam 18/12/2020 22,400\n",
      "All Land Đất bán tại Việt Nam 18/12/2020 64,971\n",
      "Project Land Bán đất nền dự án tại Việt Nam 18/12/2020 18,763\n",
      "Normal Land Bán đất tại Việt Nam 18/12/2020 46,216\n",
      "Farm Bán trang trại, khu nghỉ dưỡng tại Việt Nam 18/12/2020 424\n",
      "Warehouse Bán kho, nhà xưởng tại Việt Nam 18/12/2020 551\n",
      "Other Bán loại bất động sản khác tại Việt Nam 18/12/2020 830\n"
     ]
    }
   ],
   "metadata": {}
  },
  {
   "cell_type": "code",
   "execution_count": null,
   "source": [
    "df = pd.DataFrame(bdses, columns=['Type','Desc','Date','Count'])\n",
    "df"
   ],
   "outputs": [
    {
     "output_type": "execute_result",
     "data": {
      "text/html": [
       "<div>\n",
       "<style scoped>\n",
       "    .dataframe tbody tr th:only-of-type {\n",
       "        vertical-align: middle;\n",
       "    }\n",
       "\n",
       "    .dataframe tbody tr th {\n",
       "        vertical-align: top;\n",
       "    }\n",
       "\n",
       "    .dataframe thead th {\n",
       "        text-align: right;\n",
       "    }\n",
       "</style>\n",
       "<table border=\"1\" class=\"dataframe\">\n",
       "  <thead>\n",
       "    <tr style=\"text-align: right;\">\n",
       "      <th></th>\n",
       "      <th>Type</th>\n",
       "      <th>Desc</th>\n",
       "      <th>Date</th>\n",
       "      <th>Count</th>\n",
       "    </tr>\n",
       "  </thead>\n",
       "  <tbody>\n",
       "    <tr>\n",
       "      <th>0</th>\n",
       "      <td>All</td>\n",
       "      <td>Mua bán nhà đất toàn quốc</td>\n",
       "      <td>18/12/2020</td>\n",
       "      <td>191,499</td>\n",
       "    </tr>\n",
       "    <tr>\n",
       "      <th>1</th>\n",
       "      <td>Apartment</td>\n",
       "      <td>Bán căn hộ chung cư tại Việt Nam</td>\n",
       "      <td>18/12/2020</td>\n",
       "      <td>43,442</td>\n",
       "    </tr>\n",
       "    <tr>\n",
       "      <th>2</th>\n",
       "      <td>All House</td>\n",
       "      <td>Nhà bán tại Việt Nam</td>\n",
       "      <td>18/12/2020</td>\n",
       "      <td>81,289</td>\n",
       "    </tr>\n",
       "    <tr>\n",
       "      <th>3</th>\n",
       "      <td>Normal House</td>\n",
       "      <td>Bán nhà riêng tại Việt Nam</td>\n",
       "      <td>18/12/2020</td>\n",
       "      <td>44,433</td>\n",
       "    </tr>\n",
       "    <tr>\n",
       "      <th>4</th>\n",
       "      <td>Villa House</td>\n",
       "      <td>Bán nhà biệt thự, liền kề tại Việt Nam</td>\n",
       "      <td>18/12/2020</td>\n",
       "      <td>14,450</td>\n",
       "    </tr>\n",
       "    <tr>\n",
       "      <th>5</th>\n",
       "      <td>Biz House</td>\n",
       "      <td>Bán nhà mặt phố tại Việt Nam</td>\n",
       "      <td>18/12/2020</td>\n",
       "      <td>22,400</td>\n",
       "    </tr>\n",
       "    <tr>\n",
       "      <th>6</th>\n",
       "      <td>All Land</td>\n",
       "      <td>Đất bán tại Việt Nam</td>\n",
       "      <td>18/12/2020</td>\n",
       "      <td>64,971</td>\n",
       "    </tr>\n",
       "    <tr>\n",
       "      <th>7</th>\n",
       "      <td>Project Land</td>\n",
       "      <td>Bán đất nền dự án tại Việt Nam</td>\n",
       "      <td>18/12/2020</td>\n",
       "      <td>18,763</td>\n",
       "    </tr>\n",
       "    <tr>\n",
       "      <th>8</th>\n",
       "      <td>Normal Land</td>\n",
       "      <td>Bán đất tại Việt Nam</td>\n",
       "      <td>18/12/2020</td>\n",
       "      <td>46,216</td>\n",
       "    </tr>\n",
       "    <tr>\n",
       "      <th>9</th>\n",
       "      <td>Farm</td>\n",
       "      <td>Bán trang trại, khu nghỉ dưỡng tại Việt Nam</td>\n",
       "      <td>18/12/2020</td>\n",
       "      <td>424</td>\n",
       "    </tr>\n",
       "    <tr>\n",
       "      <th>10</th>\n",
       "      <td>Warehouse</td>\n",
       "      <td>Bán kho, nhà xưởng tại Việt Nam</td>\n",
       "      <td>18/12/2020</td>\n",
       "      <td>551</td>\n",
       "    </tr>\n",
       "    <tr>\n",
       "      <th>11</th>\n",
       "      <td>Other</td>\n",
       "      <td>Bán loại bất động sản khác tại Việt Nam</td>\n",
       "      <td>18/12/2020</td>\n",
       "      <td>830</td>\n",
       "    </tr>\n",
       "  </tbody>\n",
       "</table>\n",
       "</div>"
      ],
      "text/plain": [
       "            Type                                          Desc        Date  \\\n",
       "0            All                   Mua bán nhà đất toàn quốc  18/12/2020   \n",
       "1      Apartment             Bán căn hộ chung cư tại Việt Nam  18/12/2020   \n",
       "2      All House                         Nhà bán tại Việt Nam  18/12/2020   \n",
       "3   Normal House                   Bán nhà riêng tại Việt Nam  18/12/2020   \n",
       "4    Villa House       Bán nhà biệt thự, liền kề tại Việt Nam  18/12/2020   \n",
       "5      Biz House                 Bán nhà mặt phố tại Việt Nam  18/12/2020   \n",
       "6       All Land                         Đất bán tại Việt Nam  18/12/2020   \n",
       "7   Project Land               Bán đất nền dự án tại Việt Nam  18/12/2020   \n",
       "8    Normal Land                         Bán đất tại Việt Nam  18/12/2020   \n",
       "9           Farm  Bán trang trại, khu nghỉ dưỡng tại Việt Nam  18/12/2020   \n",
       "10     Warehouse              Bán kho, nhà xưởng tại Việt Nam  18/12/2020   \n",
       "11         Other      Bán loại bất động sản khác tại Việt Nam  18/12/2020   \n",
       "\n",
       "      Count  \n",
       "0   191,499  \n",
       "1    43,442  \n",
       "2    81,289  \n",
       "3    44,433  \n",
       "4    14,450  \n",
       "5    22,400  \n",
       "6    64,971  \n",
       "7    18,763  \n",
       "8    46,216  \n",
       "9       424  \n",
       "10      551  \n",
       "11      830  "
      ]
     },
     "metadata": {},
     "execution_count": null
    }
   ],
   "metadata": {}
  },
  {
   "cell_type": "markdown",
   "source": [
    "### Selinium"
   ],
   "metadata": {}
  },
  {
   "cell_type": "code",
   "execution_count": null,
   "source": [
    "from selenium import webdriver\n",
    "from selenium.webdriver import *\n",
    "from selenium.webdriver.chrome.options import Options\n",
    "from selenium.webdriver.common.keys import Keys\n",
    "from selenium.webdriver.common.by import By\n",
    "from selenium.webdriver.support.ui import WebDriverWait\n",
    "from selenium.webdriver.support import expected_conditions as EC\n",
    "import time\n",
    "\n",
    "PATH = '/home/danph/drivers/chromedriver'\n",
    "\n",
    "def get_driver(url):\n",
    "    chrome_options = Options()\n",
    "    chrome_options.add_argument(\"--headless\")\n",
    "    driver = webdriver.Chrome(\n",
    "        executable_path=PATH, \n",
    "        options=chrome_options)\n",
    "    driver.get(url)\n",
    "    return driver\n",
    "\n",
    "def get_driver2(url):\n",
    "    # Use headless option to not open a new browser window\n",
    "    options = webdriver.ChromeOptions()\n",
    "    options.add_argument(\"headless\")\n",
    "    desired_capabilities = options.to_capabilities()\n",
    "    driver = webdriver.Chrome(executable_path=PATH, desired_capabilities=desired_capabilities)\n",
    "    driver.get(url)\n",
    "    return driver\n",
    "\n",
    "def get_table_results(driver):\n",
    "    for row in driver.find_elements_by_xpath(\"//table[contains(@id,'GirdTable')]//tr[@id]\"):\n",
    "        time.sleep(0.5)\n",
    "        print([cell.text for cell in row.find_elements_by_xpath(\"./td[position()<=3]\")])"
   ],
   "outputs": [],
   "metadata": {}
  },
  {
   "cell_type": "code",
   "execution_count": null,
   "source": [
    "import time"
   ],
   "outputs": [],
   "metadata": {}
  },
  {
   "cell_type": "code",
   "execution_count": null,
   "source": [
    "time.strftime('%H:%M:%S'), time.strftime('%Y-%M-%d'), time.strftime('%Y-%M-%d_%H:%M:%S')"
   ],
   "outputs": [
    {
     "output_type": "execute_result",
     "data": {
      "text/plain": [
       "('15:30:42', '2021-30-17', '2021-30-17_15:30:42')"
      ]
     },
     "metadata": {},
     "execution_count": null
    }
   ],
   "metadata": {}
  },
  {
   "cell_type": "code",
   "execution_count": null,
   "source": [
    "URL = 'https://s.cafef.vn/Lich-su-giao-dich-MVB-1.chn'\n",
    "driver = get_driver(URL)"
   ],
   "outputs": [],
   "metadata": {}
  },
  {
   "cell_type": "code",
   "execution_count": null,
   "source": [
    "for row in driver.find_elements_by_xpath(\"//table[contains(@id,'GirdTable')]//tr[@id]\"):\n",
    "    time.sleep(0.5)\n",
    "    print([cell.text for cell in row.find_elements_by_xpath(\"./td[position()<=3]\")])"
   ],
   "outputs": [
    {
     "output_type": "stream",
     "name": "stdout",
     "text": [
      "['15/01/2021', '13.80 ', '13.80 ']\n",
      "['14/01/2021', '12.60 ', '12.60 ']\n",
      "['13/01/2021', '12.50 ', '12.50 ']\n",
      "['12/01/2021', '12.70 ', '12.70 ']\n",
      "['11/01/2021', '12.60 ', '12.60 ']\n",
      "['08/01/2021', '12.90 ', '12.90 ']\n",
      "['07/01/2021', '12.40 ', '12.40 ']\n",
      "['06/01/2021', '12.40 ', '12.40 ']\n",
      "['05/01/2021', '12.40 ', '12.40 ']\n",
      "['04/01/2021', '12.00 ', '12.00 ']\n",
      "['31/12/2020', '12.00 ', '12.00 ']\n",
      "['30/12/2020', '12.00 ', '12.00 ']\n",
      "['29/12/2020', '12.00 ', '12.00 ']\n",
      "['28/12/2020', '12.00 ', '12.00 ']\n",
      "['25/12/2020', '12.00 ', '12.00 ']\n",
      "['24/12/2020', '12.00 ', '12.00 ']\n",
      "['23/12/2020', '12.00 ', '12.00 ']\n",
      "['22/12/2020', '12.00 ', '12.00 ']\n",
      "['21/12/2020', '12.00 ', '12.00 ']\n",
      "['18/12/2020', '11.60 ', '11.60 ']\n"
     ]
    }
   ],
   "metadata": {}
  },
  {
   "cell_type": "code",
   "execution_count": null,
   "source": [
    "while True:\n",
    "    try:\n",
    "        page_number = driver.find_element_by_xpath(\"//table[@class='CafeF_Paging']//td/span\").text\n",
    "        print(\"Page #\" + page_number)\n",
    "        get_table_results(driver)\n",
    "        \n",
    "        next_link = driver.find_element_by_xpath(\"//table[@class='CafeF_Paging']//a[contains(@title,'Next to Page')]\")\n",
    "        next_link.click()\n",
    "        time.sleep(10)\n",
    "        #WebDriverWait(driver, 10).until(EC.presence_of_element_located((By.XPATH,\"//table[@id='GirdTable2']\")))\n",
    "    except Exception:\n",
    "        print(Exception)\n",
    "        break"
   ],
   "outputs": [
    {
     "output_type": "stream",
     "name": "stdout",
     "text": [
      "Page #1\n",
      "['22/12/2020', '29.50 ', '29.50 ']\n",
      "['21/12/2020', '30.20 ', '30.20 ']\n",
      "['18/12/2020', '31.05 ', '31.05 ']\n",
      "['17/12/2020', '30.90 ', '30.90 ']\n",
      "['16/12/2020', '31.20 ', '31.20 ']\n",
      "['15/12/2020', '29.80 ', '29.80 ']\n",
      "['14/12/2020', '29.60 ', '29.60 ']\n",
      "['11/12/2020', '29.50 ', '29.50 ']\n",
      "['10/12/2020', '29.65 ', '29.65 ']\n",
      "['09/12/2020', '30.40 ', '30.40 ']\n",
      "['08/12/2020', '30.30 ', '30.30 ']\n",
      "['07/12/2020', '30.60 ', '30.60 ']\n",
      "['04/12/2020', '30.35 ', '30.35 ']\n",
      "['03/12/2020', '30.80 ', '30.80 ']\n",
      "['02/12/2020', '30.80 ', '30.80 ']\n",
      "['01/12/2020', '30.45 ', '30.45 ']\n",
      "['30/11/2020', '30.30 ', '30.30 ']\n",
      "['27/11/2020', '29.70 ', '29.70 ']\n",
      "['26/11/2020', '29.10 ', '29.10 ']\n",
      "['25/11/2020', '28.60 ', '28.60 ']\n",
      "Page #2\n",
      "['23/11/2020', '28.70 ', '28.70 ']\n",
      "['20/11/2020', '28.60 ', '28.60 ']\n",
      "['19/11/2020', '28.50 ', '28.50 ']\n",
      "['18/11/2020', '28.80 ', '28.80 ']\n",
      "['17/11/2020', '29.00 ', '29.00 ']\n",
      "['16/11/2020', '28.80 ', '28.80 ']\n",
      "['13/11/2020', '29.10 ', '29.10 ']\n",
      "['12/11/2020', '29.10 ', '29.10 ']\n",
      "['11/11/2020', '29.30 ', '29.30 ']\n",
      "['10/11/2020', '29.50 ', '29.50 ']\n",
      "['09/11/2020', '29.60 ', '29.60 ']\n",
      "['06/11/2020', '29.20 ', '29.20 ']\n",
      "['05/11/2020', '29.40 ', '29.40 ']\n",
      "['04/11/2020', '29.45 ', '29.45 ']\n",
      "['03/11/2020', '29.30 ', '29.30 ']\n",
      "['02/11/2020', '28.25 ', '28.25 ']\n",
      "['30/10/2020', '28.10 ', '28.10 ']\n",
      "['29/10/2020', '28.00 ', '28.00 ']\n",
      "['28/10/2020', '28.20 ', '28.20 ']\n",
      "['27/10/2020', '28.70 ', '28.70 ']\n",
      "Page #3\n",
      "['26/10/2020', '29.00 ', '29.00 ']\n",
      "['23/10/2020', '29.30 ', '29.30 ']\n",
      "['22/10/2020', '29.30 ', '29.30 ']\n",
      "['21/10/2020', '29.20 ', '29.20 ']\n",
      "['20/10/2020', '29.20 ', '29.20 ']\n",
      "['19/10/2020', '29.30 ', '29.30 ']\n",
      "['16/10/2020', '29.50 ', '29.50 ']\n",
      "['15/10/2020', '29.90 ', '29.90 ']\n",
      "['14/10/2020', '30.00 ', '30.00 ']\n",
      "['13/10/2020', '30.20 ', '30.20 ']\n",
      "['12/10/2020', '30.00 ', '30.00 ']\n",
      "['09/10/2020', '30.35 ', '30.35 ']\n",
      "['08/10/2020', '30.35 ', '30.35 ']\n",
      "['07/10/2020', '30.25 ', '30.25 ']\n",
      "['06/10/2020', '30.45 ', '30.45 ']\n",
      "['05/10/2020', '30.35 ', '30.35 ']\n",
      "['02/10/2020', '30.05 ', '30.05 ']\n",
      "['01/10/2020', '30.70 ', '30.70 ']\n",
      "['30/09/2020', '29.45 ', '29.45 ']\n",
      "['29/09/2020', '29.50 ', '29.50 ']\n",
      "Page #4\n",
      "['28/09/2020', '29.70 ', '29.70 ']\n",
      "['25/09/2020', '29.75 ', '29.75 ']\n",
      "['24/09/2020', '29.60 ', '29.60 ']\n",
      "['23/09/2020', '29.80 ', '29.80 ']\n",
      "['22/09/2020', '29.55 ', '29.55 ']\n",
      "['21/09/2020', '29.50 ', '29.50 ']\n",
      "['18/09/2020', '29.50 ', '29.50 ']\n",
      "['17/09/2020', '29.25 ', '29.25 ']\n",
      "['16/09/2020', '29.65 ', '29.65 ']\n",
      "['15/09/2020', '29.80 ', '29.80 ']\n",
      "['14/09/2020', '30.05 ', '30.05 ']\n",
      "['11/09/2020', '29.60 ', '29.60 ']\n",
      "['10/09/2020', '29.75 ', '29.75 ']\n",
      "['09/09/2020', '29.50 ', '29.50 ']\n",
      "['08/09/2020', '28.65 ', '28.65 ']\n",
      "['07/09/2020', '28.40 ', '28.40 ']\n",
      "['04/09/2020', '28.25 ', '28.25 ']\n",
      "['03/09/2020', '28.05 ', '28.05 ']\n",
      "['01/09/2020', '28.45 ', '28.45 ']\n",
      "['31/08/2020', '27.85 ', '27.85 ']\n",
      "Page #5\n",
      "['28/08/2020', '28.15 ', '28.15 ']\n",
      "['27/08/2020', '27.15 ', '27.15 ']\n",
      "['26/08/2020', '25.73 ', '28.30 ']\n",
      "['25/08/2020', '25.68 ', '28.25 ']\n",
      "['24/08/2020', '25.86 ', '28.45 ']\n",
      "['21/08/2020', '25.73 ', '28.30 ']\n",
      "['20/08/2020', '25.50 ', '28.05 ']\n",
      "['19/08/2020', '25.64 ', '28.20 ']\n",
      "['18/08/2020', '25.91 ', '28.50 ']\n",
      "['17/08/2020', '25.82 ', '28.40 ']\n",
      "['14/08/2020', '25.91 ', '28.50 ']\n",
      "['13/08/2020', '26.00 ', '28.60 ']\n",
      "['12/08/2020', '25.55 ', '28.10 ']\n",
      "['11/08/2020', '24.91 ', '27.40 ']\n",
      "['10/08/2020', '24.09 ', '26.50 ']\n",
      "['07/08/2020', '24.41 ', '26.85 ']\n",
      "['06/08/2020', '24.36 ', '26.80 ']\n",
      "['05/08/2020', '24.27 ', '26.70 ']\n",
      "['04/08/2020', '24.09 ', '26.50 ']\n",
      "['03/08/2020', '24.09 ', '26.50 ']\n",
      "Page #6\n",
      "['31/07/2020', '24.00 ', '26.40 ']\n",
      "['30/07/2020', '23.91 ', '26.30 ']\n",
      "['29/07/2020', '24.36 ', '26.80 ']\n",
      "['28/07/2020', '23.91 ', '26.30 ']\n",
      "['27/07/2020', '23.64 ', '26.00 ']\n",
      "['24/07/2020', '24.09 ', '26.50 ']\n",
      "['23/07/2020', '24.45 ', '26.90 ']\n",
      "['22/07/2020', '24.36 ', '26.80 ']\n",
      "['21/07/2020', '24.23 ', '26.65 ']\n",
      "['20/07/2020', '24.09 ', '26.50 ']\n",
      "['17/07/2020', '24.18 ', '26.60 ']\n",
      "['16/07/2020', '24.27 ', '26.70 ']\n",
      "['15/07/2020', '24.18 ', '26.60 ']\n",
      "['14/07/2020', '24.00 ', '26.40 ']\n",
      "['13/07/2020', '24.00 ', '26.40 ']\n",
      "['10/07/2020', '24.09 ', '26.50 ']\n",
      "['09/07/2020', '24.27 ', '26.70 ']\n",
      "['08/07/2020', '24.09 ', '26.50 ']\n",
      "['07/07/2020', '24.18 ', '26.60 ']\n",
      "['06/07/2020', '24.55 ', '27.00 ']\n",
      "Page #7\n",
      "['03/07/2020', '24.45 ', '26.90 ']\n",
      "['02/07/2020', '24.73 ', '27.20 ']\n",
      "['01/07/2020', '24.82 ', '27.30 ']\n",
      "['30/06/2020', '24.73 ', '27.20 ']\n",
      "['29/06/2020', '24.73 ', '27.20 ']\n",
      "['26/06/2020', '25.27 ', '27.80 ']\n",
      "['25/06/2020', '25.27 ', '27.80 ']\n",
      "['24/06/2020', '25.55 ', '28.10 ']\n",
      "['23/06/2020', '24.95 ', '27.45 ']\n",
      "['22/06/2020', '24.91 ', '27.40 ']\n",
      "['19/06/2020', '24.91 ', '27.40 ']\n",
      "['18/06/2020', '24.64 ', '27.10 ']\n",
      "['17/06/2020', '24.64 ', '27.10 ']\n",
      "['16/06/2020', '24.64 ', '27.10 ']\n",
      "['15/06/2020', '24.45 ', '26.90 ']\n",
      "['12/06/2020', '24.64 ', '27.10 ']\n",
      "['11/06/2020', '24.64 ', '27.10 ']\n",
      "['10/06/2020', '24.82 ', '27.30 ']\n",
      "['09/06/2020', '24.82 ', '27.30 ']\n",
      "['08/06/2020', '25.00 ', '27.50 ']\n",
      "Page #8\n",
      "['05/06/2020', '24.73 ', '27.20 ']\n",
      "['04/06/2020', '24.64 ', '27.10 ']\n",
      "['03/06/2020', '24.64 ', '27.10 ']\n",
      "['02/06/2020', '24.64 ', '27.10 ']\n",
      "['01/06/2020', '24.73 ', '27.20 ']\n",
      "['29/05/2020', '24.73 ', '27.20 ']\n",
      "['28/05/2020', '24.77 ', '27.25 ']\n",
      "['27/05/2020', '24.64 ', '27.10 ']\n",
      "['26/05/2020', '24.82 ', '27.30 ']\n",
      "['25/05/2020', '24.73 ', '27.20 ']\n",
      "['22/05/2020', '24.73 ', '27.20 ']\n",
      "['21/05/2020', '25.00 ', '27.50 ']\n",
      "['20/05/2020', '24.91 ', '27.40 ']\n",
      "['19/05/2020', '24.91 ', '27.40 ']\n",
      "['18/05/2020', '24.86 ', '27.35 ']\n",
      "['15/05/2020', '24.86 ', '27.35 ']\n",
      "['14/05/2020', '24.82 ', '27.30 ']\n",
      "['13/05/2020', '24.82 ', '27.30 ']\n",
      "['12/05/2020', '24.91 ', '27.40 ']\n",
      "['11/05/2020', '24.91 ', '27.40 ']\n",
      "Page #9\n",
      "['08/05/2020', '24.68 ', '27.15 ']\n",
      "['07/05/2020', '24.64 ', '27.10 ']\n",
      "['06/05/2020', '24.64 ', '27.10 ']\n",
      "['05/05/2020', '24.82 ', '27.30 ']\n",
      "['04/05/2020', '24.82 ', '27.30 ']\n",
      "['29/04/2020', '25.27 ', '27.80 ']\n",
      "['28/04/2020', '23.95 ', '26.35 ']\n",
      "['27/04/2020', '24.09 ', '26.50 ']\n",
      "['24/04/2020', '24.27 ', '26.70 ']\n",
      "['23/04/2020', '24.73 ', '27.20 ']\n",
      "['22/04/2020', '24.91 ', '27.40 ']\n",
      "['21/04/2020', '25.09 ', '27.60 ']\n",
      "['20/04/2020', '25.50 ', '28.05 ']\n",
      "['17/04/2020', '25.64 ', '28.20 ']\n",
      "['16/04/2020', '25.36 ', '27.90 ']\n",
      "['15/04/2020', '26.18 ', '28.80 ']\n",
      "['14/04/2020', '26.36 ', '29.00 ']\n",
      "['13/04/2020', '26.82 ', '29.50 ']\n",
      "['10/04/2020', '25.73 ', '28.30 ']\n",
      "['09/04/2020', '25.91 ', '28.50 ']\n",
      "Page #10\n",
      "['08/04/2020', '26.05 ', '28.65 ']\n",
      "['07/04/2020', '25.82 ', '28.40 ']\n",
      "['06/04/2020', '25.64 ', '28.20 ']\n",
      "['03/04/2020', '25.45 ', '28.00 ']\n",
      "['01/04/2020', '24.09 ', '26.50 ']\n",
      "['31/03/2020', '23.91 ', '26.30 ']\n",
      "['30/03/2020', '23.95 ', '26.35 ']\n",
      "['27/03/2020', '24.41 ', '26.85 ']\n",
      "['26/03/2020', '24.73 ', '27.20 ']\n",
      "['25/03/2020', '24.73 ', '27.20 ']\n",
      "['24/03/2020', '24.09 ', '26.50 ']\n",
      "['23/03/2020', '23.73 ', '26.10 ']\n",
      "['20/03/2020', '24.05 ', '26.45 ']\n",
      "['19/03/2020', '23.73 ', '26.10 ']\n",
      "['18/03/2020', '23.82 ', '26.20 ']\n",
      "['17/03/2020', '23.86 ', '26.25 ']\n",
      "['16/03/2020', '24.18 ', '26.60 ']\n",
      "['13/03/2020', '24.18 ', '26.60 ']\n",
      "['12/03/2020', '24.09 ', '26.50 ']\n",
      "['11/03/2020', '24.14 ', '26.55 ']\n",
      "Page #11\n",
      "['10/03/2020', '24.64 ', '27.10 ']\n",
      "['09/03/2020', '24.59 ', '27.05 ']\n",
      "['06/03/2020', '25.27 ', '27.80 ']\n",
      "['05/03/2020', '25.32 ', '27.85 ']\n",
      "['04/03/2020', '25.45 ', '28.00 ']\n",
      "['03/03/2020', '25.41 ', '27.95 ']\n",
      "['02/03/2020', '25.18 ', '27.70 ']\n",
      "['28/02/2020', '24.95 ', '27.45 ']\n",
      "['27/02/2020', '25.77 ', '28.35 ']\n",
      "['26/02/2020', '25.95 ', '28.55 ']\n",
      "['25/02/2020', '26.14 ', '28.75 ']\n",
      "['24/02/2020', '26.09 ', '28.70 ']\n",
      "['21/02/2020', '26.18 ', '28.80 ']\n",
      "['20/02/2020', '26.18 ', '28.80 ']\n",
      "['19/02/2020', '26.27 ', '28.90 ']\n",
      "['18/02/2020', '26.23 ', '28.85 ']\n",
      "['17/02/2020', '26.36 ', '29.00 ']\n",
      "['14/02/2020', '26.23 ', '28.85 ']\n",
      "['13/02/2020', '26.32 ', '28.95 ']\n",
      "['12/02/2020', '26.41 ', '29.05 ']\n",
      "Page #12\n",
      "['11/02/2020', '26.64 ', '29.30 ']\n",
      "['10/02/2020', '26.86 ', '29.55 ']\n",
      "['07/02/2020', '26.77 ', '29.45 ']\n",
      "['06/02/2020', '26.95 ', '29.65 ']\n",
      "['05/02/2020', '26.91 ', '29.60 ']\n",
      "['04/02/2020', '27.00 ', '29.70 ']\n",
      "['03/02/2020', '26.82 ', '29.50 ']\n",
      "['31/01/2020', '27.05 ', '29.75 ']\n",
      "['30/01/2020', '27.45 ', '30.20 ']\n",
      "['22/01/2020', '27.36 ', '30.10 ']\n",
      "['21/01/2020', '27.09 ', '29.80 ']\n",
      "['20/01/2020', '26.95 ', '29.65 ']\n"
     ]
    },
    {
     "output_type": "stream",
     "name": "stdout",
     "text": [
      "['17/01/2020', '27.00 ', '29.70 ']\n",
      "['16/01/2020', '27.14 ', '29.85 ']\n",
      "['15/01/2020', '26.95 ', '29.65 ']\n",
      "['14/01/2020', '26.82 ', '29.50 ']\n",
      "['13/01/2020', '27.41 ', '30.15 ']\n",
      "['10/01/2020', '27.64 ', '30.40 ']\n",
      "['09/01/2020', '27.27 ', '30.00 ']\n",
      "<class 'Exception'>\n"
     ]
    }
   ],
   "metadata": {}
  }
 ],
 "metadata": {
  "kernelspec": {
   "display_name": "Python 3",
   "language": "python",
   "name": "python3"
  },
  "language_info": {
   "codemirror_mode": {
    "name": "ipython",
    "version": 3
   },
   "file_extension": ".py",
   "mimetype": "text/x-python",
   "name": "python",
   "nbconvert_exporter": "python",
   "pygments_lexer": "ipython3",
   "version": "3.7.9"
  }
 },
 "nbformat": 4,
 "nbformat_minor": 2
}