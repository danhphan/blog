{
 "cells": [
  {
   "cell_type": "code",
   "execution_count": 105,
   "source": [
    "# default_exp pydecorator"
   ],
   "outputs": [],
   "metadata": {}
  },
  {
   "cell_type": "markdown",
   "source": [
    "# Python decorators\n",
    "> Some examples on how to use decorator in Python.\n",
    "\n",
    "- toc: true \n",
    "- badges: true\n",
    "- comments: true\n",
    "- categories: [jupyter, decorator]"
   ],
   "metadata": {}
  },
  {
   "cell_type": "code",
   "execution_count": 42,
   "source": [
    "#hide\n",
    "from nbdev.showdoc import *"
   ],
   "outputs": [],
   "metadata": {}
  },
  {
   "cell_type": "code",
   "execution_count": 43,
   "source": [
    "#export\n",
    "import functools\n",
    "import logging\n",
    "import random\n",
    "import time\n",
    "from collections import defaultdict"
   ],
   "outputs": [],
   "metadata": {}
  },
  {
   "cell_type": "markdown",
   "source": [
    "### Functions are first class objects"
   ],
   "metadata": {}
  },
  {
   "cell_type": "code",
   "execution_count": 44,
   "source": [
    "#export\n",
    "# Function as a parameter\n",
    "def hello(name, logger):\n",
    "    logger(f\"Hello {name}\")\n",
    "    \n",
    "hello(\"world\", logger=print)"
   ],
   "outputs": [
    {
     "output_type": "stream",
     "name": "stdout",
     "text": [
      "Hello world\n"
     ]
    }
   ],
   "metadata": {}
  },
  {
   "cell_type": "code",
   "execution_count": 45,
   "source": [
    "hello(\"First log\",logger=logging.warning)"
   ],
   "outputs": [
    {
     "output_type": "stream",
     "name": "stderr",
     "text": [
      "WARNING:root:Hello First log\n"
     ]
    }
   ],
   "metadata": {}
  },
  {
   "cell_type": "code",
   "execution_count": 46,
   "source": [
    "hello(\"Second log\",logger=logging.info)"
   ],
   "outputs": [],
   "metadata": {}
  },
  {
   "cell_type": "code",
   "execution_count": 47,
   "source": [
    "with open(\"hello.txt\", mode=\"w\") as file:\n",
    "    hello(\"Files\", logger=file.write)\n",
    "!cat hello.txt"
   ],
   "outputs": [
    {
     "output_type": "stream",
     "name": "stdout",
     "text": [
      "Hello Files"
     ]
    }
   ],
   "metadata": {}
  },
  {
   "cell_type": "code",
   "execution_count": 48,
   "source": [
    "def reversed_print(text):\n",
    "    print(text[::-1].capitalize())\n",
    "\n",
    "reversed_print(\"Hi there\")"
   ],
   "outputs": [
    {
     "output_type": "stream",
     "name": "stdout",
     "text": [
      "Ereht ih\n"
     ]
    }
   ],
   "metadata": {}
  },
  {
   "cell_type": "code",
   "execution_count": 49,
   "source": [
    "hello(\"Danh\", logger=reversed_print)"
   ],
   "outputs": [
    {
     "output_type": "stream",
     "name": "stdout",
     "text": [
      "Hnad olleh\n"
     ]
    }
   ],
   "metadata": {}
  },
  {
   "cell_type": "code",
   "execution_count": 50,
   "source": [
    "hello(\"world\", logger=print)"
   ],
   "outputs": [
    {
     "output_type": "stream",
     "name": "stdout",
     "text": [
      "Hello world\n"
     ]
    }
   ],
   "metadata": {}
  },
  {
   "cell_type": "markdown",
   "source": [
    "### Inner functions"
   ],
   "metadata": {}
  },
  {
   "cell_type": "code",
   "execution_count": 51,
   "source": [
    "\n",
    "def outer():\n",
    "    print(\"Hi from the outer\")\n",
    "    y = 2020\n",
    "    def inner():\n",
    "        print(\"Hello from the inner\")\n",
    "        print(f\"This year is {y}\")\n",
    "    inner()\n",
    "    return inner"
   ],
   "outputs": [],
   "metadata": {}
  },
  {
   "cell_type": "code",
   "execution_count": 52,
   "source": [
    "outer()"
   ],
   "outputs": [
    {
     "output_type": "stream",
     "name": "stdout",
     "text": [
      "Hi from the outer\n",
      "Hello from the inner\n",
      "This year is 2020\n"
     ]
    },
    {
     "output_type": "execute_result",
     "data": {
      "text/plain": [
       "<function __main__.outer.<locals>.inner()>"
      ]
     },
     "metadata": {},
     "execution_count": 52
    }
   ],
   "metadata": {}
  },
  {
   "cell_type": "code",
   "execution_count": 53,
   "source": [
    "inside = outer()\n",
    "inside"
   ],
   "outputs": [
    {
     "output_type": "stream",
     "name": "stdout",
     "text": [
      "Hi from the outer\n",
      "Hello from the inner\n",
      "This year is 2020\n"
     ]
    },
    {
     "output_type": "execute_result",
     "data": {
      "text/plain": [
       "<function __main__.outer.<locals>.inner()>"
      ]
     },
     "metadata": {},
     "execution_count": 53
    }
   ],
   "metadata": {}
  },
  {
   "cell_type": "code",
   "execution_count": 54,
   "source": [
    "inside()"
   ],
   "outputs": [
    {
     "output_type": "stream",
     "name": "stdout",
     "text": [
      "Hello from the inner\n",
      "This year is 2020\n"
     ]
    }
   ],
   "metadata": {}
  },
  {
   "cell_type": "markdown",
   "source": [
    "#### Manipulate functions"
   ],
   "metadata": {}
  },
  {
   "cell_type": "code",
   "execution_count": 55,
   "source": [
    "def hi(func):\n",
    "    print(f\"Hello {func.__name__}\")\n",
    "hi(outer)"
   ],
   "outputs": [
    {
     "output_type": "stream",
     "name": "stdout",
     "text": [
      "Hello outer\n"
     ]
    }
   ],
   "metadata": {}
  },
  {
   "cell_type": "code",
   "execution_count": 56,
   "source": [
    "inside"
   ],
   "outputs": [
    {
     "output_type": "execute_result",
     "data": {
      "text/plain": [
       "<function __main__.outer.<locals>.inner()>"
      ]
     },
     "metadata": {},
     "execution_count": 56
    }
   ],
   "metadata": {}
  },
  {
   "cell_type": "code",
   "execution_count": 57,
   "source": [
    "hi(inside)"
   ],
   "outputs": [
    {
     "output_type": "stream",
     "name": "stdout",
     "text": [
      "Hello inner\n"
     ]
    }
   ],
   "metadata": {}
  },
  {
   "cell_type": "code",
   "execution_count": 58,
   "source": [
    "def hi(func):\n",
    "    print(f\"Hello {func.__name__}\")\n",
    "    return func"
   ],
   "outputs": [],
   "metadata": {}
  },
  {
   "cell_type": "code",
   "execution_count": 59,
   "source": [
    "hi(outer)()"
   ],
   "outputs": [
    {
     "output_type": "stream",
     "name": "stdout",
     "text": [
      "Hello outer\n",
      "Hi from the outer\n",
      "Hello from the inner\n",
      "This year is 2020\n"
     ]
    },
    {
     "output_type": "execute_result",
     "data": {
      "text/plain": [
       "<function __main__.outer.<locals>.inner()>"
      ]
     },
     "metadata": {},
     "execution_count": 59
    }
   ],
   "metadata": {}
  },
  {
   "cell_type": "code",
   "execution_count": 60,
   "source": [
    "new_outer = hi(outer)"
   ],
   "outputs": [
    {
     "output_type": "stream",
     "name": "stdout",
     "text": [
      "Hello outer\n"
     ]
    }
   ],
   "metadata": {}
  },
  {
   "cell_type": "code",
   "execution_count": 61,
   "source": [
    "new_outer is outer"
   ],
   "outputs": [
    {
     "output_type": "execute_result",
     "data": {
      "text/plain": [
       "True"
      ]
     },
     "metadata": {},
     "execution_count": 61
    }
   ],
   "metadata": {}
  },
  {
   "cell_type": "code",
   "execution_count": 62,
   "source": [
    "def wrapper(func):\n",
    "    def _wrapper():\n",
    "        print(f\"Before {func.__name__}\")\n",
    "        func()\n",
    "        print(f\"After {func.__name__}\")\n",
    "    return _wrapper\n",
    "\n",
    "wrapper(outer)"
   ],
   "outputs": [
    {
     "output_type": "execute_result",
     "data": {
      "text/plain": [
       "<function __main__.wrapper.<locals>._wrapper()>"
      ]
     },
     "metadata": {},
     "execution_count": 62
    }
   ],
   "metadata": {}
  },
  {
   "cell_type": "code",
   "execution_count": 63,
   "source": [
    "outer()"
   ],
   "outputs": [
    {
     "output_type": "stream",
     "name": "stdout",
     "text": [
      "Hi from the outer\n",
      "Hello from the inner\n",
      "This year is 2020\n"
     ]
    },
    {
     "output_type": "execute_result",
     "data": {
      "text/plain": [
       "<function __main__.outer.<locals>.inner()>"
      ]
     },
     "metadata": {},
     "execution_count": 63
    }
   ],
   "metadata": {}
  },
  {
   "cell_type": "code",
   "execution_count": 64,
   "source": [
    "new_outer = wrapper(outer)\n"
   ],
   "outputs": [],
   "metadata": {}
  },
  {
   "cell_type": "code",
   "execution_count": 65,
   "source": [
    "new_outer()"
   ],
   "outputs": [
    {
     "output_type": "stream",
     "name": "stdout",
     "text": [
      "Before outer\n",
      "Hi from the outer\n",
      "Hello from the inner\n",
      "This year is 2020\n",
      "After outer\n"
     ]
    }
   ],
   "metadata": {}
  },
  {
   "cell_type": "code",
   "execution_count": 66,
   "source": [
    "outer = wrapper(outer)"
   ],
   "outputs": [],
   "metadata": {}
  },
  {
   "cell_type": "code",
   "execution_count": 67,
   "source": [
    "outer"
   ],
   "outputs": [
    {
     "output_type": "execute_result",
     "data": {
      "text/plain": [
       "<function __main__.wrapper.<locals>._wrapper()>"
      ]
     },
     "metadata": {},
     "execution_count": 67
    }
   ],
   "metadata": {}
  },
  {
   "cell_type": "code",
   "execution_count": 68,
   "source": [
    "outer()"
   ],
   "outputs": [
    {
     "output_type": "stream",
     "name": "stdout",
     "text": [
      "Before outer\n",
      "Hi from the outer\n",
      "Hello from the inner\n",
      "This year is 2020\n",
      "After outer\n"
     ]
    }
   ],
   "metadata": {}
  },
  {
   "cell_type": "markdown",
   "source": [
    "#### Sugar syntax"
   ],
   "metadata": {}
  },
  {
   "cell_type": "code",
   "execution_count": 69,
   "source": [
    "# Same as: outer2 = wrapper(outer2)\n",
    "@wrapper\n",
    "def outer2():\n",
    "    print(\"Hi from the outer\")\n",
    "    y = 2020\n",
    "    def inner():\n",
    "        print(\"Hello from the inner\")\n",
    "        print(f\"This year is {y}\")\n",
    "    inner()\n",
    "    return inner"
   ],
   "outputs": [],
   "metadata": {}
  },
  {
   "cell_type": "code",
   "execution_count": 70,
   "source": [
    "outer2()"
   ],
   "outputs": [
    {
     "output_type": "stream",
     "name": "stdout",
     "text": [
      "Before outer2\n",
      "Hi from the outer\n",
      "Hello from the inner\n",
      "This year is 2020\n",
      "After outer2\n"
     ]
    }
   ],
   "metadata": {}
  },
  {
   "cell_type": "code",
   "execution_count": 71,
   "source": [
    "@wrapper\n",
    "def dice_roll():\n",
    "    return random.randint(1,6)"
   ],
   "outputs": [],
   "metadata": {}
  },
  {
   "cell_type": "code",
   "execution_count": 72,
   "source": [
    "dice_roll()"
   ],
   "outputs": [
    {
     "output_type": "stream",
     "name": "stdout",
     "text": [
      "Before dice_roll\n",
      "After dice_roll\n"
     ]
    }
   ],
   "metadata": {}
  },
  {
   "cell_type": "code",
   "execution_count": 73,
   "source": [
    "dice_roll.__name__"
   ],
   "outputs": [
    {
     "output_type": "execute_result",
     "data": {
      "text/plain": [
       "'_wrapper'"
      ]
     },
     "metadata": {},
     "execution_count": 73
    }
   ],
   "metadata": {}
  },
  {
   "cell_type": "code",
   "execution_count": 74,
   "source": [
    "def wrapper(func):\n",
    "    def _wrapper(*args, **kwargs):\n",
    "        print(f\"Before {func.__name__}\")\n",
    "        func(*args, **kwargs)\n",
    "        print(f\"After {func.__name__}\")\n",
    "    return _wrapper\n",
    "\n",
    "@wrapper\n",
    "def hello(name):\n",
    "    print(f\"Hello {name}\")\n",
    "\n",
    "hello(\"world\")"
   ],
   "outputs": [
    {
     "output_type": "stream",
     "name": "stdout",
     "text": [
      "Before hello\n",
      "Hello world\n",
      "After hello\n"
     ]
    }
   ],
   "metadata": {}
  },
  {
   "cell_type": "code",
   "execution_count": 75,
   "source": [
    "def wrapper(func):\n",
    "    @functools.wraps(func)\n",
    "    def _wrapper(*args, **kwargs):\n",
    "        print(f\"Before {func.__name__}\")\n",
    "        value = func(*args, **kwargs)\n",
    "        print(f\"After {func.__name__}\")\n",
    "        return value\n",
    "#    _wrapper.__name__ = func.__name__\n",
    "    return _wrapper\n",
    "\n",
    "@wrapper\n",
    "def dice_roll():\n",
    "    \"\"\" Roll a 6-sided dice\"\"\"\n",
    "    return random.randint(1,6)\n",
    "\n",
    "dice_roll()"
   ],
   "outputs": [
    {
     "output_type": "stream",
     "name": "stdout",
     "text": [
      "Before dice_roll\n",
      "After dice_roll\n"
     ]
    },
    {
     "output_type": "execute_result",
     "data": {
      "text/plain": [
       "5"
      ]
     },
     "metadata": {},
     "execution_count": 75
    }
   ],
   "metadata": {}
  },
  {
   "cell_type": "code",
   "execution_count": 76,
   "source": [
    "dice_roll.__name__"
   ],
   "outputs": [
    {
     "output_type": "execute_result",
     "data": {
      "text/plain": [
       "'dice_roll'"
      ]
     },
     "metadata": {},
     "execution_count": 76
    }
   ],
   "metadata": {}
  },
  {
   "cell_type": "markdown",
   "source": [
    "### Task 1: Time counter"
   ],
   "metadata": {}
  },
  {
   "cell_type": "code",
   "execution_count": 77,
   "source": [
    "#export\n",
    "def wrapper(func):    \n",
    "    @functools.wraps(func)\n",
    "    def _wrapper(*args, **kwargs):\n",
    "        # Before func\n",
    "        value = func(*args, **kwargs)\n",
    "        # After func\n",
    "        return value\n",
    "    return _wrapper"
   ],
   "outputs": [],
   "metadata": {}
  },
  {
   "cell_type": "code",
   "execution_count": 78,
   "source": [
    "#export\n",
    "def timer(func):\n",
    "    @functools.wraps(func)\n",
    "    def _timer(*args, **kwargs):\n",
    "        tic = time.perf_counter()\n",
    "        value = func(*args, **kwargs)\n",
    "        toc = time.perf_counter()\n",
    "        print(f\"Elapsed time: {toc-tic:.2f} seconds\")\n",
    "        return value\n",
    "    return _timer\n",
    "\n",
    "\n",
    "@timer\n",
    "def waste_time(number):\n",
    "    total = 0\n",
    "    for num in range(number):\n",
    "        total += sum(n for n in range(num))\n",
    "    return total"
   ],
   "outputs": [],
   "metadata": {}
  },
  {
   "cell_type": "code",
   "execution_count": 79,
   "source": [
    "# Test\n",
    "waste_time(300)"
   ],
   "outputs": [
    {
     "output_type": "stream",
     "name": "stdout",
     "text": [
      "Elapsed time: 0.00 seconds\n"
     ]
    },
    {
     "output_type": "execute_result",
     "data": {
      "text/plain": [
       "4455100"
      ]
     },
     "metadata": {},
     "execution_count": 79
    }
   ],
   "metadata": {}
  },
  {
   "cell_type": "code",
   "execution_count": 80,
   "source": [
    "waste_time(3000)"
   ],
   "outputs": [
    {
     "output_type": "stream",
     "name": "stdout",
     "text": [
      "Elapsed time: 0.15 seconds\n"
     ]
    },
    {
     "output_type": "execute_result",
     "data": {
      "text/plain": [
       "4495501000"
      ]
     },
     "metadata": {},
     "execution_count": 80
    }
   ],
   "metadata": {}
  },
  {
   "cell_type": "markdown",
   "source": [
    "### Task 2: trace"
   ],
   "metadata": {}
  },
  {
   "cell_type": "code",
   "execution_count": 81,
   "source": [
    "#export\n",
    "\n",
    "def get_params(*args, **kwargs):\n",
    "    ars = [repr(a) for a in args]\n",
    "    kws = [f\"{k}={repr(v)}\" for k,v in kwargs.items()]\n",
    "    return ', '.join(ars + kws)\n",
    "\n",
    "def trace(func):\n",
    "    \"\"\"Show the trace of function calls\"\"\"\n",
    "    name = func.__name__\n",
    "    @functools.wraps(func)\n",
    "    def _trace(*args, **kwargs):\n",
    "        print(f\"Calling {name}({get_params(*args,**kwargs)})\")\n",
    "        value = func(*args, **kwargs)\n",
    "        print(f\"{name} returned {value}\")\n",
    "        return value\n",
    "    return _trace\n",
    "\n",
    "GREETINGS = [\"ABC\", \"EHLLO\", \"NO!!!\"]\n",
    "\n",
    "@trace\n",
    "def greet(name, greeting=\"Hello\"):\n",
    "    return f\"{greeting} {name}\"\n",
    "\n",
    "\n",
    "@trace\n",
    "@timer\n",
    "def random_greet(name=\"Emily\"):\n",
    "    greeting = random.choice(GREETINGS)\n",
    "    return greet(name, greeting=greeting)\n",
    "\n",
    "@trace\n",
    "def greet_many(number):\n",
    "    return [random_greet() for _ in range(number)]\n"
   ],
   "outputs": [],
   "metadata": {}
  },
  {
   "cell_type": "code",
   "execution_count": 82,
   "source": [
    "greet(\"world\")"
   ],
   "outputs": [
    {
     "output_type": "stream",
     "name": "stdout",
     "text": [
      "Calling greet('world')\n",
      "greet returned Hello world\n"
     ]
    },
    {
     "output_type": "execute_result",
     "data": {
      "text/plain": [
       "'Hello world'"
      ]
     },
     "metadata": {},
     "execution_count": 82
    }
   ],
   "metadata": {}
  },
  {
   "cell_type": "code",
   "execution_count": 83,
   "source": [
    "greet(name=\"world\", greeting=\"def\")"
   ],
   "outputs": [
    {
     "output_type": "stream",
     "name": "stdout",
     "text": [
      "Calling greet(name='world', greeting='def')\n",
      "greet returned def world\n"
     ]
    },
    {
     "output_type": "execute_result",
     "data": {
      "text/plain": [
       "'def world'"
      ]
     },
     "metadata": {},
     "execution_count": 83
    }
   ],
   "metadata": {}
  },
  {
   "cell_type": "code",
   "execution_count": 84,
   "source": [
    "random_greet()"
   ],
   "outputs": [
    {
     "output_type": "stream",
     "name": "stdout",
     "text": [
      "Calling random_greet()\n",
      "Calling greet('Emily', greeting='NO!!!')\n",
      "greet returned NO!!! Emily\n",
      "Elapsed time: 0.00 seconds\n",
      "random_greet returned NO!!! Emily\n"
     ]
    },
    {
     "output_type": "execute_result",
     "data": {
      "text/plain": [
       "'NO!!! Emily'"
      ]
     },
     "metadata": {},
     "execution_count": 84
    }
   ],
   "metadata": {}
  },
  {
   "cell_type": "code",
   "execution_count": 85,
   "source": [
    "greet_many(3)"
   ],
   "outputs": [
    {
     "output_type": "stream",
     "name": "stdout",
     "text": [
      "Calling greet_many(3)\n",
      "Calling random_greet()\n",
      "Calling greet('Emily', greeting='ABC')\n",
      "greet returned ABC Emily\n",
      "Elapsed time: 0.00 seconds\n",
      "random_greet returned ABC Emily\n",
      "Calling random_greet()\n",
      "Calling greet('Emily', greeting='EHLLO')\n",
      "greet returned EHLLO Emily\n",
      "Elapsed time: 0.00 seconds\n",
      "random_greet returned EHLLO Emily\n",
      "Calling random_greet()\n",
      "Calling greet('Emily', greeting='NO!!!')\n",
      "greet returned NO!!! Emily\n",
      "Elapsed time: 0.00 seconds\n",
      "random_greet returned NO!!! Emily\n",
      "greet_many returned ['ABC Emily', 'EHLLO Emily', 'NO!!! Emily']\n"
     ]
    },
    {
     "output_type": "execute_result",
     "data": {
      "text/plain": [
       "['ABC Emily', 'EHLLO Emily', 'NO!!! Emily']"
      ]
     },
     "metadata": {},
     "execution_count": 85
    }
   ],
   "metadata": {}
  },
  {
   "cell_type": "code",
   "execution_count": 86,
   "source": [
    "random_greet.__name__"
   ],
   "outputs": [
    {
     "output_type": "execute_result",
     "data": {
      "text/plain": [
       "'random_greet'"
      ]
     },
     "metadata": {},
     "execution_count": 86
    }
   ],
   "metadata": {}
  },
  {
   "cell_type": "markdown",
   "source": [
    "### TASK 3: Register"
   ],
   "metadata": {}
  },
  {
   "cell_type": "code",
   "execution_count": 87,
   "source": [
    "#export\n",
    "REGISTERED = {}\n",
    "\n",
    "def register(func):\n",
    "    name = func.__name__\n",
    "    if name not in REGISTERED: REGISTERED[name] = func\n",
    "    return func\n",
    "\n",
    "@register\n",
    "def true_or_false(text):\n",
    "    tf_values = {\n",
    "        True: {\"true\", \"on\", \"yes\", \"1\"},\n",
    "        False: {\"false\", \"off\", \"no\", \"0\"}\n",
    "    }\n",
    "    for tf, values in tf_values.items():\n",
    "        if text.lower() in values:\n",
    "            return tf\n",
    "\n",
    "@register\n",
    "def reversed(text):\n",
    "    return text[::-1].capitalize()\n",
    "\n",
    "@register\n",
    "def robber_language(text):\n",
    "    consonants = \"bcdfghlmnpqrstvwxyz\"\n",
    "    return \"\".join(\n",
    "        f\"{c}o{c.lower()}\" if c.lower() in consonants else c\n",
    "        for c in text\n",
    "    )\n",
    "\n",
    "# text = input(\"Please input a text:\")\n",
    "\n",
    "# while True:\n",
    "#     print(f\"Parsers: {', '.join(REGISTERED)}\")\n",
    "#     parser = input(\"Choose a parser: \")\n",
    "#     if parser in REGISTERED: break\n",
    "\n",
    "\n",
    "# parser_func = REGISTERED[parser]\n",
    "# print(parser_func(text))\n",
    "# parser, text, REGISTERED[parser]"
   ],
   "outputs": [],
   "metadata": {}
  },
  {
   "cell_type": "code",
   "execution_count": 88,
   "source": [
    "REGISTERED['robber_language'](\"decorator\")"
   ],
   "outputs": [
    {
     "output_type": "execute_result",
     "data": {
      "text/plain": [
       "'dodecocororatotoror'"
      ]
     },
     "metadata": {},
     "execution_count": 88
    }
   ],
   "metadata": {}
  },
  {
   "cell_type": "code",
   "execution_count": 89,
   "source": [
    "words = ['map', 'mid', 'acb', 'gqre', 'hello', 'anh', 'minh']\n",
    "ls = {}\n",
    "\n",
    "for w in words:\n",
    "    if w[0] not in ls.keys(): ls[w[0]] = [w]\n",
    "    else: ls[w[0]].append(w)\n",
    "ls"
   ],
   "outputs": [
    {
     "output_type": "execute_result",
     "data": {
      "text/plain": [
       "{'m': ['map', 'mid', 'minh'],\n",
       " 'a': ['acb', 'anh'],\n",
       " 'g': ['gqre'],\n",
       " 'h': ['hello']}"
      ]
     },
     "metadata": {},
     "execution_count": 89
    }
   ],
   "metadata": {}
  },
  {
   "cell_type": "code",
   "execution_count": 90,
   "source": [
    "ls2 = {}\n",
    "for w in words:\n",
    "    ls2.setdefault(w[0],[]).append(w)"
   ],
   "outputs": [],
   "metadata": {}
  },
  {
   "cell_type": "code",
   "execution_count": 91,
   "source": [
    "def test_eq(x,y):\n",
    "        assert x == y"
   ],
   "outputs": [],
   "metadata": {}
  },
  {
   "cell_type": "code",
   "execution_count": 92,
   "source": [
    "test_eq(ls2, ls)"
   ],
   "outputs": [],
   "metadata": {}
  },
  {
   "cell_type": "code",
   "execution_count": 93,
   "source": [
    "def get_second(w): return w[1] if len(w) > 1 else w\n"
   ],
   "outputs": [],
   "metadata": {}
  },
  {
   "cell_type": "code",
   "execution_count": 94,
   "source": [
    "ls3 = {}\n",
    "for w in words:\n",
    "    ls3.setdefault(get_second(w),[]).append(w)"
   ],
   "outputs": [],
   "metadata": {}
  },
  {
   "cell_type": "code",
   "execution_count": 95,
   "source": [
    "a = '1'\n",
    "hash(a)"
   ],
   "outputs": [
    {
     "output_type": "execute_result",
     "data": {
      "text/plain": [
       "-3231002125019024148"
      ]
     },
     "metadata": {},
     "execution_count": 95
    }
   ],
   "metadata": {}
  },
  {
   "cell_type": "code",
   "execution_count": 96,
   "source": [
    "hash(tuple(set(dir(dict))))"
   ],
   "outputs": [
    {
     "output_type": "execute_result",
     "data": {
      "text/plain": [
       "-7035740553418725506"
      ]
     },
     "metadata": {},
     "execution_count": 96
    }
   ],
   "metadata": {}
  },
  {
   "cell_type": "code",
   "execution_count": 97,
   "source": [
    "\n",
    "def get_dict1(words):\n",
    "    ls2 = {}\n",
    "    for w in words:\n",
    "        ls2.setdefault(w[0],[]).append(w)\n",
    "    return ls2\n",
    "\n",
    "def get_dict2(words):\n",
    "    ls4 = defaultdict(list)\n",
    "    for w in words:\n",
    "        ls4[w[0]].append(w)\n",
    "    return ls4\n",
    "\n",
    "test_eq(get_dict1(words),get_dict2(words))"
   ],
   "outputs": [],
   "metadata": {}
  },
  {
   "cell_type": "code",
   "execution_count": 98,
   "source": [
    "%timeit get_dict1(words)"
   ],
   "outputs": [
    {
     "output_type": "stream",
     "name": "stdout",
     "text": [
      "831 ns ± 16.7 ns per loop (mean ± std. dev. of 7 runs, 1000000 loops each)\n"
     ]
    }
   ],
   "metadata": {}
  },
  {
   "cell_type": "code",
   "execution_count": 99,
   "source": [
    "%timeit get_dict2(words)"
   ],
   "outputs": [
    {
     "output_type": "stream",
     "name": "stdout",
     "text": [
      "1.08 µs ± 23.4 ns per loop (mean ± std. dev. of 7 runs, 1000000 loops each)\n"
     ]
    }
   ],
   "metadata": {}
  },
  {
   "cell_type": "code",
   "execution_count": 100,
   "source": [
    "count = defaultdict(lambda : 4)\n",
    "type(count)"
   ],
   "outputs": [
    {
     "output_type": "execute_result",
     "data": {
      "text/plain": [
       "collections.defaultdict"
      ]
     },
     "metadata": {},
     "execution_count": 100
    }
   ],
   "metadata": {}
  },
  {
   "cell_type": "code",
   "execution_count": 101,
   "source": [
    "count[2] = 23"
   ],
   "outputs": [],
   "metadata": {}
  },
  {
   "cell_type": "code",
   "execution_count": 102,
   "source": [
    "count[3], count"
   ],
   "outputs": [
    {
     "output_type": "execute_result",
     "data": {
      "text/plain": [
       "(4, defaultdict(<function __main__.<lambda>()>, {2: 23, 3: 4}))"
      ]
     },
     "metadata": {},
     "execution_count": 102
    }
   ],
   "metadata": {}
  },
  {
   "cell_type": "markdown",
   "source": [
    "### Reference: \n",
    "Geir Arne Hjelle - Introduction to Decorators: Power Up Your Python Code. Link: https://www.youtube.com/watch?v=T8CQwGIsrx4"
   ],
   "metadata": {}
  },
  {
   "cell_type": "code",
   "execution_count": 104,
   "source": [
    "#hide\n",
    "# Convert to *.py\n",
    "# from nbdev.export import notebook2script\n",
    "# notebook2script()"
   ],
   "outputs": [],
   "metadata": {}
  },
  {
   "cell_type": "code",
   "execution_count": null,
   "source": [],
   "outputs": [],
   "metadata": {}
  }
 ],
 "metadata": {
  "kernelspec": {
   "name": "python3",
   "display_name": "Python 3.8.5 64-bit ('.ml': pyenv)"
  },
  "language_info": {
   "name": "python",
   "version": "3.8.5",
   "mimetype": "text/x-python",
   "codemirror_mode": {
    "name": "ipython",
    "version": 3
   },
   "pygments_lexer": "ipython3",
   "nbconvert_exporter": "python",
   "file_extension": ".py"
  },
  "interpreter": {
   "hash": "47c1052489b2d1867410f973bee6b35b738b1713bae068853f9f327e2db2e637"
  }
 },
 "nbformat": 4,
 "nbformat_minor": 2
}