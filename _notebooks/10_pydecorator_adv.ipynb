{
 "cells": [
  {
   "cell_type": "code",
   "execution_count": null,
   "metadata": {},
   "outputs": [],
   "source": [
    "# default_exp pydecorator_adv"
   ]
  },
  {
   "cell_type": "markdown",
   "metadata": {},
   "source": [
    "# Python advanced decorators\n",
    "\n",
    "> Some more examples of advanced decorators in python"
   ]
  },
  {
   "cell_type": "code",
   "execution_count": null,
   "metadata": {},
   "outputs": [],
   "source": [
    "#hide\n",
    "from nbdev.showdoc import *"
   ]
  },
  {
   "cell_type": "markdown",
   "metadata": {},
   "source": [
    "### Keeping state"
   ]
  },
  {
   "cell_type": "code",
   "execution_count": null,
   "metadata": {},
   "outputs": [],
   "source": [
    "#export\n",
    "import functools\n",
    "def count_calls(func):\n",
    "\n",
    "    \"\"\"Count the number of calls to a function\"\"\"        \n",
    "    @functools.wraps(func)\n",
    "    def _wrapper(*args, **kwargs):\n",
    "        value = func(*args, **kwargs)\n",
    "        _wrapper.num_calls += 1\n",
    "        return value\n",
    "    _wrapper.num_calls = 0\n",
    "    return _wrapper    \n",
    "\n",
    "\n",
    "@count_calls\n",
    "def fibonacci(number):\n",
    "    \"\"\"Calculate Fibonacci numbers fib_n\n",
    "    The Fibonacci numbers are 1, 2, 3, 5 ,8, 12, 21, ...\n",
    "        fib_n = fib_n-1 + fib_n-2\n",
    "    \"\"\"\n",
    "    if number < 2: return 1\n",
    "    return fibonacci(number-1) + fibonacci(number-2)"
   ]
  },
  {
   "cell_type": "code",
   "execution_count": null,
   "metadata": {},
   "outputs": [
    {
     "data": {
      "text/plain": [
       "(8, 15)"
      ]
     },
     "execution_count": null,
     "metadata": {},
     "output_type": "execute_result"
    }
   ],
   "source": [
    "fibonacci(5), fibonacci.num_calls"
   ]
  },
  {
   "cell_type": "markdown",
   "metadata": {},
   "source": [
    "### Decorating classes"
   ]
  },
  {
   "cell_type": "code",
   "execution_count": null,
   "metadata": {},
   "outputs": [],
   "source": [
    "#export\n",
    "# A class can be a decorator if it is callable (or it contains a __call__ function)\n",
    "class CountCalls:\n",
    "    \"\"\"Count a number of calls for a function\"\"\"\n",
    "    \n",
    "    def __init__(self, func):\n",
    "        self.func = func\n",
    "        self.num_calls = 0\n",
    "        functools.update_wrapper(self, func)\n",
    "        \n",
    "    def __call__(self, *args, **kwargs):\n",
    "        ...\n",
    "        self.num_calls += 1\n",
    "        return self.func(*args, **kwargs)\n",
    "        \n",
    "@CountCalls\n",
    "def fibonacci(number):\n",
    "    \"\"\"Calculate Fibonacci numbers fib_n\n",
    "    The Fibonacci numbers are 1, 2, 3, 5 ,8, 12, 21, ...\n",
    "        fib_n = fib_n-1 + fib_n-2\n",
    "    \"\"\"\n",
    "    if number < 2: return 1\n",
    "    return fibonacci(number-1) + fibonacci(number-2)"
   ]
  },
  {
   "cell_type": "code",
   "execution_count": null,
   "metadata": {},
   "outputs": [
    {
     "data": {
      "text/plain": [
       "(1, 1)"
      ]
     },
     "execution_count": null,
     "metadata": {},
     "output_type": "execute_result"
    }
   ],
   "source": [
    "fibonacci(1), fibonacci.num_calls"
   ]
  },
  {
   "cell_type": "markdown",
   "metadata": {},
   "source": [
    "### Adding arguments to a decorator"
   ]
  },
  {
   "cell_type": "code",
   "execution_count": null,
   "metadata": {},
   "outputs": [],
   "source": []
  },
  {
   "cell_type": "markdown",
   "metadata": {},
   "source": [
    "### Optional arguments"
   ]
  },
  {
   "cell_type": "code",
   "execution_count": null,
   "metadata": {},
   "outputs": [],
   "source": []
  }
 ],
 "metadata": {
  "kernelspec": {
   "display_name": "Python 3",
   "language": "python",
   "name": "python3"
  }
 },
 "nbformat": 4,
 "nbformat_minor": 2
}
