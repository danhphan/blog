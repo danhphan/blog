{
 "cells": [
  {
   "cell_type": "markdown",
   "metadata": {},
   "source": [
    "# Multi-output Gaussian Processes in PyMC [GSoC Final Report]\n",
    "\n",
    "> A personal note on the progress of incoporating Multi-output Gaussian Processes (MOGPs) into PyMC. This work is supported by GSoC, NumFOCUS, and PyMC team. Week 01-02 focuses on implementing Intrinsic Coregionalization Model (ICM).\n",
    "- toc: true \n",
    "- badges: true\n",
    "- comments: true\n",
    "- categories: [GP, Gaussian Process]"
   ]
  },
  {
   "cell_type": "markdown",
   "metadata": {},
   "source": [
    "### 1. What has been done?\n",
    "\n",
    "In the previous weeks, I focused on implementing the Intrinsic Coregionalization Model (ICM) in PyMC.\n",
    "\n",
    "- In the beginning, I've started with a small goal, which is to run an Intrinsic Coregionalization Model (ICM) in PyMC. The main part of codes was already developed in PyMC v3 by Bill Engels (one of my mentors), so I just need to convert the [PyMC v3 notebook](https://github.com/danhphan/gp_experiments/blob/main/experiments/00_mogp_pymc3.ipynb) into a [PyMC v4 notebook](https://github.com/danhphan/gp_experiments/blob/main/experiments/00_mogp_pymc_v4.ipynb).\n",
    "\n",
    "- The next goal is replicating the Coregionalized Regression Model [example notebook](https://nbviewer.org/github/SheffieldML/notebook/blob/master/GPy/coregionalized_regression_tutorial.ipynb) in GPy. The result if ICM for this dataset is in [this notebook](https://github.com/danhphan/gp_experiments/blob/main/experiments/12_Coregionalized_Regression_Model_GPy_PyMC.ipynb). In addition, the example from GPytorch also be translated into PyMC [here](https://github.com/danhphan/gp_experiments/blob/main/experiments/05_multitask_gp_regression_pymc4_3outputs.ipynb) with 3 dimensional outputs.\n",
    "\n",
    "- What about two or more outputs with real datasets? Using the data sets [here](https://github.com/GAMES-UChile/mogptk/blob/master/examples/example_gold_oil_NASDAQ_USD.ipynb) with 4 outputs: GOLD, OIL, NASDAQ, and USD. It seems to work alright in [this notebook](https://github.com/danhphan/gp_experiments/blob/main/experiments/15_multitask_gp_for_gold_oil_nasdaq_usd.ipynb), but it still needs further improvement. "
   ]
  },
  {
   "cell_type": "markdown",
   "metadata": {},
   "source": [
    "### 2. Discussions"
   ]
  },
  {
   "cell_type": "markdown",
   "metadata": {},
   "source": [
    "There are several issues that I faced along the way:\n",
    "\n",
    "##### The issue of Mass matrix contains zeros on the diagonal\n",
    "\n",
    "This seems a popular issue: `ValueError: Mass matrix contains zeros on the diagonal.` when input y with shape [n,1]\n",
    "\n",
    "Should we use inputs and outputs as a list similar to GPy: `[x1, x2, x3]` and `[y1, y2, y3]`? The pros is that it can include datasets of different sizes.\n",
    "\n",
    "The output shape was also discussed on [this pull request](https://github.com/pymc-devs/pymc/pull/4764). I will need to look into it in detail.\n",
    "\n",
    "##### How to use a Kronecker product?\n",
    "```\n",
    "with pm.Model() as model:\n",
    "    ell = pm.Gamma(\"ell\", alpha=2, beta=0.5)\n",
    "    eta = pm.Gamma(\"eta\", alpha=2, beta=0.5)\n",
    "    cov = eta**2 * pm.gp.cov.ExpQuad(1, ls=ell, active_dims=[0])\n",
    "    \n",
    "    W = pm.Normal(\"W\", mu=0, sigma=3, shape=(2,2), testval=np.random.randn(2,2))\n",
    "    kappa = pm.Gamma(\"kappa\", alpha=1.5, beta=1, shape=2)\n",
    "    coreg = pm.gp.cov.Coregion(input_dim=2, active_dims=[1], kappa=kappa, W=W)\n",
    "    cov_func = coreg * cov\n",
    "```\n",
    "This `coreg * cov` seems not a Kronecker product?"
   ]
  },
  {
   "cell_type": "markdown",
   "metadata": {},
   "source": [
    "### 3. Next steps"
   ]
  },
  {
   "cell_type": "markdown",
   "metadata": {},
   "source": [
    "Several things that I plan to do:\n",
    "\n",
    "- Implement the linear model of coregionalization (LMC) in PyMC: Use a kronecker product with two or more different kernels\n",
    "- Integrate ICM and LMC into PyMC GP module [Add and/or change several kernels]\n",
    "- Write an example with real data sets. This may extend the example with 4 outputs in Part 1 above."
   ]
  }
 ],
 "metadata": {
  "kernelspec": {
   "display_name": "Python 3",
   "language": "python",
   "name": "python3"
  },
  "language_info": {
   "codemirror_mode": {
    "name": "ipython",
    "version": 3
   },
   "file_extension": ".py",
   "mimetype": "text/x-python",
   "name": "python",
   "nbconvert_exporter": "python",
   "pygments_lexer": "ipython3",
   "version": "3.8.5"
  }
 },
 "nbformat": 4,
 "nbformat_minor": 4
}
