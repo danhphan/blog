{
 "cells": [
  {
   "cell_type": "markdown",
   "metadata": {},
   "source": [
    "# Multi-output Gaussian Processes in PyMC [GSoC Final Report]\n",
    "\n",
    "> This post summarise the project of incoporating Multi-output Gaussian Processes (MOGPs) into PyMC. Work has been done, and work needs to be done.\n",
    "- toc: true \n",
    "- badges: true\n",
    "- comments: true\n",
    "- categories: [GP, Gaussian Process]"
   ]
  },
  {
   "cell_type": "markdown",
   "metadata": {},
   "source": [
    "**This work is supported by GSoC, NumFOCUS, and PyMC team.**"
   ]
  },
  {
   "cell_type": "markdown",
   "metadata": {},
   "source": [
    "### 1. Work has been done?\n",
    "\n",
    "In the last 12 weeks, I focused on implementing the Intrinsic Coregionalization Model (ICM) and Linear Coregionalization Model (LCM) in PyMC. All the experimental codes are published on this [Github repository](https://github.com/danhphan/gp_experiments).\n",
    "\n",
    "- In [Weeks 01-03](https://danhphan.net/blog/gp/gaussian%20process/icm/2022/06/26/multi-ouput-gps-w01-03.html), I've started with a small goal, which is to run an Intrinsic Coregionalization Model (ICM) in PyMC. The main part of codes was already developed in PyMC v3 by Bill Engels (one of my mentors), so I just need to convert the [PyMC v3 notebook](https://github.com/danhphan/gp_experiments/blob/main/experiments/00_mogp_pymc3.ipynb) into a [PyMC v4 notebook](https://github.com/danhphan/gp_experiments/blob/main/experiments/00_mogp_pymc_v4.ipynb).\n",
    "\n",
    "\n",
    "- In [Weeks 04-06](https://danhphan.net/blog/gp/gaussian%20process/2022/07/24/multi-ouput-gps-w04-06.html), I've implemented Linear Coregionalization Model (LCM) in PyMC. This follows by proposing several [API options](https://github.com/danhphan/gp_experiments/blob/main/experiments/16_multitask_gp_regression_pymc4_lcm.ipynb) for ICM and LCM.\n",
    "\n",
    "\n",
    "- [Weeks 07-09](https://danhphan.net/blog/gp/gaussian%20process/hadamard%20product/2022/08/14/multi-ouput-gps-w07-09.html) focus on implementing ICM and LCM using Hadamard (element-wise) product. This Hadamard product can work with same input data or different input data.\n",
    "\n",
    "\n",
    "- [Weeks 10-12](https://danhphan.net/blog/gp/gaussian%20process/kronecker%20product/2022/09/04/multi-ouput-gps-w10-12.html) focus on implementing ICM and LCM using Kronecker product. It is noted that this Kronecker product can ONLY work with same input data. In addition, The kernels for input data need to be stationary.\n",
    "\n",
    "- Create a [PR draft]() on PyMC github repo. This is a work-in-progress (WIP) PR as I still need to try different APIs options for different kinds of input data."
   ]
  },
  {
   "cell_type": "markdown",
   "metadata": {},
   "source": [
    "### 2. Work needs to be done\n",
    "\n",
    "\n",
    "- Finish the draft PR, that includes the implementation of both `MultiOutputGP` for Hadamard product and Kronecker product. \n",
    "- Write tests and documentations for these functions and classes.\n",
    "- Write two notebook example: One for Hadamard product using a baseball dataset (Thanks Chris for this data), and one for Kronecker product using the data sets [here](https://github.com/GAMES-UChile/mogptk/blob/master/examples/example_gold_oil_NASDAQ_USD.ipynb) with 4 outputs: GOLD, OIL, NASDAQ, and USD."
   ]
  },
  {
   "cell_type": "markdown",
   "metadata": {},
   "source": [
    "### 3. Few thoughts on the project"
   ]
  },
  {
   "cell_type": "markdown",
   "metadata": {},
   "source": [
    "The project allows me to learn more on Gaussian Process (GP), its advantages and also limitations. I think GP has a huge potential for spatial and temporal (time-series) data sets.  \n",
    "\n",
    "Besides, implementing GP help me further understand on MultiNormal distribution :) Alghough there are still a lot to learn and do. I'm especially interested in learning more on other methods for time-series data, and a comparison on the performance between these models.\n",
    "\n",
    "Finally, I would like to thank the PyMC devs team, especially my mentors [Chris Fonnesbeck](https://github.com/fonnesbeck), and [Bill Engels](https://github.com/bwengals) for their great guidance and supports. I will definitely not able to perform the project without their helps. "
   ]
  }
 ],
 "metadata": {
  "kernelspec": {
   "display_name": "Python 3 (ipykernel)",
   "language": "python",
   "name": "python3"
  },
  "language_info": {
   "codemirror_mode": {
    "name": "ipython",
    "version": 3
   },
   "file_extension": ".py",
   "mimetype": "text/x-python",
   "name": "python",
   "nbconvert_exporter": "python",
   "pygments_lexer": "ipython3",
   "version": "3.8.5"
  }
 },
 "nbformat": 4,
 "nbformat_minor": 4
}
