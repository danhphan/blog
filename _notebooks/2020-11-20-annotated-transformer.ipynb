{
 "cells": [
  {
   "cell_type": "code",
   "execution_count": 1,
   "source": [
    "# default_exp annotated-transformer"
   ],
   "outputs": [],
   "metadata": {}
  },
  {
   "cell_type": "markdown",
   "source": [
    "# Annotated Transformer explained - How Tranformer work\n",
    "\n",
    "> The implementation of Annotated transformer\n",
    "\n",
    "- toc: true \n",
    "- badges: true\n",
    "- comments: true\n",
    "- categories: [jupyter, transformer]"
   ],
   "metadata": {}
  },
  {
   "cell_type": "code",
   "execution_count": null,
   "source": [
    "#export\n",
    "import numpy as np\n",
    "import torch\n",
    "import torch.nn as nn\n",
    "import torch.nn.functional as F\n",
    "import math, copy\n",
    "from torch.autograd import Variable"
   ],
   "outputs": [],
   "metadata": {
    "colab": {
     "autoexec": {
      "startup": false,
      "wait_interval": 0
     }
    },
    "colab_type": "code",
    "id": "4LTc4HW7UgQI"
   }
  },
  {
   "cell_type": "code",
   "execution_count": null,
   "source": [
    "#export\n",
    "import spacy\n",
    "import torchtext\n",
    "from torchtext import data, datasets\n",
    "print(torch.__version__)\n",
    "print(torchtext.__version__)\n",
    "print(spacy.__version__)"
   ],
   "outputs": [
    {
     "output_type": "stream",
     "name": "stdout",
     "text": [
      "1.2.0\n",
      "0.2.3\n",
      "2.0.10\n"
     ]
    }
   ],
   "metadata": {}
  },
  {
   "cell_type": "code",
   "execution_count": null,
   "source": [
    "torch.cuda.is_available()"
   ],
   "outputs": [
    {
     "data": {
      "text/plain": [
       "True"
      ]
     },
     "metadata": {},
     "output_type": "display_data"
    }
   ],
   "metadata": {}
  },
  {
   "cell_type": "code",
   "execution_count": null,
   "source": [
    "torch.cuda.get_device_name(0)"
   ],
   "outputs": [
    {
     "data": {
      "text/plain": [
       "'GeForce GTX 1660'"
      ]
     },
     "metadata": {},
     "output_type": "display_data"
    }
   ],
   "metadata": {}
  },
  {
   "cell_type": "code",
   "execution_count": null,
   "source": [
    "# For plots\n",
    "%matplotlib inline\n",
    "import matplotlib.pyplot as plt"
   ],
   "outputs": [],
   "metadata": {}
  },
  {
   "cell_type": "markdown",
   "source": [
    "# Model Architecture"
   ],
   "metadata": {
    "colab_type": "text",
    "id": "84vTAA5TUgQM"
   }
  },
  {
   "cell_type": "code",
   "execution_count": null,
   "source": [
    "#export\n",
    "class EncoderDecoder(nn.Module):\n",
    "    \"\"\"\n",
    "    A standard Encoder-Decoder architecture. Base model for this and many \n",
    "    other models.\n",
    "    \"\"\"\n",
    "    def __init__(self, encoder, decoder, src_embed, tgt_embed, generator):\n",
    "        super(EncoderDecoder, self).__init__()\n",
    "        self.encoder = encoder\n",
    "        self.decoder = decoder\n",
    "        self.src_embed = src_embed\n",
    "        self.tgt_embed = tgt_embed\n",
    "        self.generator = generator\n",
    "        \n",
    "    def forward(self, src, tgt, src_mask, tgt_mask):\n",
    "        \"Take in and process masked src and target sequences.\"\n",
    "        memory = self.encoder(self.src_embed(src), src_mask)\n",
    "        output = self.decoder(self.tgt_embed(tgt), memory, src_mask, tgt_mask)\n",
    "        return output"
   ],
   "outputs": [],
   "metadata": {
    "colab": {
     "autoexec": {
      "startup": false,
      "wait_interval": 0
     }
    },
    "colab_type": "code",
    "id": "1AC8KeDJUgQO"
   }
  },
  {
   "cell_type": "markdown",
   "source": [
    "## Encoder and Decoder Stacks   \n",
    "\n",
    "### Encoder"
   ],
   "metadata": {
    "colab_type": "text",
    "id": "euyRXbaMUgQR"
   }
  },
  {
   "cell_type": "code",
   "execution_count": null,
   "source": [
    "#export\n",
    "def clones(module, N):\n",
    "    \"Produce N identical layers.\"\n",
    "    return nn.ModuleList([copy.deepcopy(module) for _ in range(N)])"
   ],
   "outputs": [],
   "metadata": {
    "colab": {
     "autoexec": {
      "startup": false,
      "wait_interval": 0
     }
    },
    "colab_type": "code",
    "id": "6yy7pY85UgQR"
   }
  },
  {
   "cell_type": "code",
   "execution_count": null,
   "source": [
    "#export\n",
    "class Encoder(nn.Module):\n",
    "    \"Core encoder is a stack of N layers\"\n",
    "    def __init__(self, layer, N):\n",
    "        super(Encoder, self).__init__()\n",
    "        self.layers = clones(layer, N)\n",
    "        self.norm = LayerNorm(layer.size)\n",
    "        \n",
    "    def forward(self, x, mask):\n",
    "        \"Pass the input (and mask) through each layer in turn.\"\n",
    "        for layer in self.layers:\n",
    "            x = layer(x, mask)\n",
    "        return self.norm(x)"
   ],
   "outputs": [],
   "metadata": {
    "colab": {
     "autoexec": {
      "startup": false,
      "wait_interval": 0
     }
    },
    "colab_type": "code",
    "id": "psiq5idJUgQT"
   }
  },
  {
   "cell_type": "code",
   "execution_count": null,
   "source": [
    "#export\n",
    "class LayerNorm(nn.Module):\n",
    "    \"Construct a layernorm module (See citation for details).\"\n",
    "    def __init__(self, features, eps=1e-6):\n",
    "        super(LayerNorm, self).__init__()\n",
    "        self.a_2 = nn.Parameter(torch.ones(features))\n",
    "        self.b_2 = nn.Parameter(torch.zeros(features))\n",
    "        self.eps = eps\n",
    "\n",
    "    def forward(self, x):\n",
    "        mean = x.mean(-1, keepdim=True)\n",
    "        std = x.std(-1, keepdim=True)\n",
    "        return self.a_2 * (x - mean) / (std + self.eps) + self.b_2"
   ],
   "outputs": [],
   "metadata": {
    "colab": {
     "autoexec": {
      "startup": false,
      "wait_interval": 0
     }
    },
    "colab_type": "code",
    "id": "sEz9kLClUgQV"
   }
  },
  {
   "cell_type": "code",
   "execution_count": null,
   "source": [
    "#export\n",
    "class SublayerConnection(nn.Module):\n",
    "    \"\"\"\n",
    "    A residual connection followed by a layer norm.\n",
    "    Note for code simplicity we apply the norm first as opposed to last.\n",
    "    \"\"\"\n",
    "    def __init__(self, size, dropout):\n",
    "        super(SublayerConnection, self).__init__()\n",
    "        self.norm = LayerNorm(size)\n",
    "        self.dropout = nn.Dropout(dropout)\n",
    "\n",
    "    def forward(self, x, sublayer):\n",
    "        \"Apply residual connection to any sublayer function that maintains the same size.\"\n",
    "        return x + self.dropout(sublayer(self.norm(x)))"
   ],
   "outputs": [],
   "metadata": {
    "colab": {
     "autoexec": {
      "startup": false,
      "wait_interval": 0
     }
    },
    "colab_type": "code",
    "id": "zx9JBwAcUgQY"
   }
  },
  {
   "cell_type": "code",
   "execution_count": null,
   "source": [
    "#export\n",
    "class EncoderLayer(nn.Module):\n",
    "    \"Encoder is made up of two sublayers, self-attn and feed forward (defined below)\"\n",
    "    def __init__(self, size, self_attn, feed_forward, dropout):\n",
    "        super(EncoderLayer, self).__init__()\n",
    "        self.self_attn = self_attn\n",
    "        self.feed_forward = feed_forward\n",
    "        self.sublayer = clones(SublayerConnection(size, dropout), 2)\n",
    "        self.size = size\n",
    "\n",
    "    def forward(self, x, mask):\n",
    "        \"Follow Figure 1 (left) for connections.\"\n",
    "        x = self.sublayer[0](x, lambda x: self.self_attn(x, x, x, mask))\n",
    "        return self.sublayer[1](x, self.feed_forward)"
   ],
   "outputs": [],
   "metadata": {
    "colab": {
     "autoexec": {
      "startup": false,
      "wait_interval": 0
     }
    },
    "colab_type": "code",
    "id": "0mEBw9tIUgQb"
   }
  },
  {
   "cell_type": "markdown",
   "source": [
    "### Decoder"
   ],
   "metadata": {
    "colab_type": "text",
    "id": "iHOZnpnBUgQd"
   }
  },
  {
   "cell_type": "code",
   "execution_count": null,
   "source": [
    "#export\n",
    "class Decoder(nn.Module):\n",
    "    \"Generic N layer decoder with masking.\"\n",
    "    def __init__(self, layer, N):\n",
    "        super(Decoder, self).__init__()\n",
    "        self.layers = clones(layer, N)\n",
    "        self.norm = LayerNorm(layer.size)\n",
    "        \n",
    "    def forward(self, x, memory, src_mask, tgt_mask):\n",
    "        for layer in self.layers:\n",
    "            x = layer(x, memory, src_mask, tgt_mask)\n",
    "        return self.norm(x)"
   ],
   "outputs": [],
   "metadata": {
    "colab": {
     "autoexec": {
      "startup": false,
      "wait_interval": 0
     }
    },
    "colab_type": "code",
    "id": "3o_ZB42sUgQd"
   }
  },
  {
   "cell_type": "code",
   "execution_count": null,
   "source": [
    "#export\n",
    "class DecoderLayer(nn.Module):\n",
    "    \"Decoder is made up of three sublayers, self-attn, src-attn, and feed forward (defined below)\"\n",
    "    def __init__(self, size, self_attn, src_attn, feed_forward, dropout):\n",
    "        super(DecoderLayer, self).__init__()\n",
    "        self.size = size\n",
    "        self.self_attn = self_attn\n",
    "        self.src_attn = src_attn\n",
    "        self.feed_forward = feed_forward\n",
    "        self.sublayer = clones(SublayerConnection(size, dropout), 3)\n",
    " \n",
    "    def forward(self, x, memory, src_mask, tgt_mask):\n",
    "        \"Follow Figure 1 (right) for connections.\"\n",
    "        m = memory\n",
    "        x = self.sublayer[0](x, lambda x: self.self_attn(x, x, x, tgt_mask))\n",
    "        x = self.sublayer[1](x, lambda x: self.src_attn(x, m, m, src_mask))\n",
    "        return self.sublayer[2](x, self.feed_forward)"
   ],
   "outputs": [],
   "metadata": {
    "colab": {
     "autoexec": {
      "startup": false,
      "wait_interval": 0
     }
    },
    "colab_type": "code",
    "id": "kMm6xHWVUgQg"
   }
  },
  {
   "cell_type": "code",
   "execution_count": null,
   "source": [
    "#export\n",
    "def subsequent_mask(size):\n",
    "    \"Mask out subsequent positions.\"\n",
    "    attn_shape = (1, size, size)\n",
    "    subsequent_mask = np.triu(np.ones(attn_shape), k=1).astype('uint8')\n",
    "    return torch.from_numpy(subsequent_mask) == 0"
   ],
   "outputs": [],
   "metadata": {
    "colab": {
     "autoexec": {
      "startup": false,
      "wait_interval": 0
     }
    },
    "colab_type": "code",
    "id": "RyQKI9AgUgQj"
   }
  },
  {
   "cell_type": "code",
   "execution_count": null,
   "source": [
    "#export\n",
    "# The attention mask shows the position each tgt word (row) is allowed to look at (column).\n",
    "# Words are blocked for attending to future words during training. \n",
    "plt.figure(figsize=(5,5))\n",
    "plt.imshow(subsequent_mask(20)[0])"
   ],
   "outputs": [
    {
     "data": {
      "text/plain": [
       "<matplotlib.image.AxesImage at 0x7f2f916512b0>"
      ]
     },
     "metadata": {},
     "output_type": "display_data"
    },
    {
     "data": {
      "image/png": "[encoded data removed]",
      "text/plain": [
       "<Figure size 360x360 with 1 Axes>"
      ]
     },
     "metadata": {},
     "output_type": "display_data"
    }
   ],
   "metadata": {
    "colab": {
     "autoexec": {
      "startup": false,
      "wait_interval": 0
     },
     "base_uri": "https://localhost:8080/",
     "height": 339,
     "output_extras": [
      {
       "item_id": 1
      },
      {
       "item_id": 2
      }
     ]
    },
    "colab_type": "code",
    "executionInfo": {
     "elapsed": 569,
     "status": "ok",
     "timestamp": 1522639012913,
     "user": {
      "displayName": "Sasha Rush",
      "photoUrl": "https://lh3.googleusercontent.com/a/default-user=s128",
      "userId": "112736061112454937688"
     },
     "user_tz": 240
    },
    "id": "fgQMtvM-UgQl",
    "outputId": "07611646-88f8-4410-8bd9-77bbe59b86cd"
   }
  },
  {
   "cell_type": "code",
   "execution_count": null,
   "source": [
    "#export\n",
    "def attention(query, key, value, mask=None, dropout=0.0):\n",
    "    \"Compute 'Scaled Dot Product Attention'\"\n",
    "    d_k = query.size(-1)\n",
    "    scores = torch.matmul(query, key.transpose(-2, -1)) \\\n",
    "             / math.sqrt(d_k)\n",
    "    if mask is not None:\n",
    "        scores = scores.masked_fill(mask == 0, -1e9)\n",
    "    p_attn = F.softmax(scores, dim = -1)\n",
    "    # (Dropout described below)\n",
    "    p_attn = F.dropout(p_attn, p=dropout)\n",
    "    return torch.matmul(p_attn, value), p_attn"
   ],
   "outputs": [],
   "metadata": {
    "colab": {
     "autoexec": {
      "startup": false,
      "wait_interval": 0
     }
    },
    "colab_type": "code",
    "id": "wlZ8zw9PUgQr"
   }
  },
  {
   "cell_type": "markdown",
   "source": [
    " "
   ],
   "metadata": {
    "colab_type": "text",
    "id": "OV7kNMbKUgQt"
   }
  },
  {
   "cell_type": "code",
   "execution_count": null,
   "source": [
    "#export\n",
    "class MultiHeadedAttention(nn.Module):\n",
    "    def __init__(self, h, d_model, dropout=0.1):\n",
    "        \"Take in model size and number of heads.\"\n",
    "        super(MultiHeadedAttention, self).__init__()\n",
    "        assert d_model % h == 0\n",
    "        # We assume d_v always equals d_k\n",
    "        self.d_k = d_model // h\n",
    "        self.h = h\n",
    "        self.p = dropout\n",
    "        self.linears = clones(nn.Linear(d_model, d_model), 4)\n",
    "        self.attn = None\n",
    "        \n",
    "    def forward(self, query, key, value, mask=None):\n",
    "        \"Implements Figure 2\"\n",
    "        if mask is not None:\n",
    "            # Same mask applied to all h heads.\n",
    "            mask = mask.unsqueeze(1)\n",
    "        nbatches = query.size(0)\n",
    "        \n",
    "        # 1) Do all the linear projections in batch from d_model => h x d_k \n",
    "        query, key, value = [l(x).view(nbatches, -1, self.h, self.d_k).transpose(1, 2)\n",
    "                             for l, x in zip(self.linears, (query, key, value))]\n",
    "        \n",
    "        # 2) Apply attention on all the projected vectors in batch. \n",
    "        x, self.attn = attention(query, key, value, mask=mask, dropout=self.p)\n",
    "        \n",
    "        # 3) \"Concat\" using a view and apply a final linear. \n",
    "        x = x.transpose(1, 2).contiguous().view(nbatches, -1, self.h * self.d_k)\n",
    "        return self.linears[-1](x)"
   ],
   "outputs": [],
   "metadata": {
    "colab": {
     "autoexec": {
      "startup": false,
      "wait_interval": 0
     }
    },
    "colab_type": "code",
    "id": "_ea0UrEgUgQt"
   }
  },
  {
   "cell_type": "code",
   "execution_count": null,
   "source": [
    "#export\n",
    "class PositionwiseFeedForward(nn.Module):\n",
    "    \"Implements FFN equation.\"\n",
    "    def __init__(self, d_model, d_ff, dropout=0.1):\n",
    "        super(PositionwiseFeedForward, self).__init__()\n",
    "        # Torch linears have a `b` by default. \n",
    "        self.w_1 = nn.Linear(d_model, d_ff)\n",
    "        self.w_2 = nn.Linear(d_ff, d_model)\n",
    "        self.dropout = nn.Dropout(dropout)\n",
    "\n",
    "    def forward(self, x):\n",
    "        return self.w_2(self.dropout(F.relu(self.w_1(x))))"
   ],
   "outputs": [],
   "metadata": {
    "colab": {
     "autoexec": {
      "startup": false,
      "wait_interval": 0
     }
    },
    "colab_type": "code",
    "id": "HuDPthO2UgQx"
   }
  },
  {
   "cell_type": "code",
   "execution_count": null,
   "source": [
    "#export\n",
    "class Embeddings(nn.Module):\n",
    "    def __init__(self, d_model, vocab):\n",
    "        super(Embeddings, self).__init__()\n",
    "        self.lut = nn.Embedding(vocab, d_model)\n",
    "        self.d_model = d_model\n",
    "\n",
    "    def forward(self, x):\n",
    "        return self.lut(x) * math.sqrt(self.d_model)"
   ],
   "outputs": [],
   "metadata": {
    "colab": {
     "autoexec": {
      "startup": false,
      "wait_interval": 0
     }
    },
    "colab_type": "code",
    "id": "sl5JzPeGUgQz"
   }
  },
  {
   "cell_type": "code",
   "execution_count": null,
   "source": [
    "#export\n",
    "class PositionalEncoding(nn.Module):\n",
    "    \"Implement the PE function.\"\n",
    "    def __init__(self, d_model, dropout, max_len=5000):\n",
    "        super(PositionalEncoding, self).__init__()\n",
    "        self.dropout = nn.Dropout(p=dropout)\n",
    "        \n",
    "        # Compute the positional encodings once in log space.\n",
    "        pe = torch.zeros(max_len, d_model)\n",
    "        position = torch.arange(0., max_len).unsqueeze(1)\n",
    "        div_term = torch.exp(torch.arange(0., d_model, 2) *\n",
    "                             -(math.log(10000.0) / d_model))\n",
    "        pe[:, 0::2] = torch.sin(position * div_term)\n",
    "        pe[:, 1::2] = torch.cos(position * div_term)\n",
    "        pe = pe.unsqueeze(0)\n",
    "        self.register_buffer('pe', pe)\n",
    "        \n",
    "    def forward(self, x):\n",
    "        x = x + Variable(self.pe[:, :x.size(1)], requires_grad=False)\n",
    "        return self.dropout(x)"
   ],
   "outputs": [],
   "metadata": {
    "colab": {
     "autoexec": {
      "startup": false,
      "wait_interval": 0
     }
    },
    "colab_type": "code",
    "id": "MVsjhp6uUgQ1"
   }
  },
  {
   "cell_type": "code",
   "execution_count": null,
   "source": [
    "#export\n",
    "# The positional encoding will add in a sine wave based on position.\n",
    "# The frequency and offset of the wave is different for each dimension.\n",
    "plt.figure(figsize=(15, 5))\n",
    "pe = PositionalEncoding(20, 0)\n",
    "y = pe.forward(Variable(torch.zeros(1, 100, 20)))\n",
    "plt.plot(np.arange(100), y[0, :, 4:8].data.numpy())\n",
    "plt.legend([\"dim %d\"%p for p in [4,5,6,7]])\n",
    "None"
   ],
   "outputs": [
    {
     "data": {
      "image/png": "[encoded data removed]",
      "text/plain": [
       "<Figure size 1080x360 with 1 Axes>"
      ]
     },
     "metadata": {},
     "output_type": "display_data"
    }
   ],
   "metadata": {
    "colab": {
     "autoexec": {
      "startup": false,
      "wait_interval": 0
     },
     "base_uri": "https://localhost:8080/",
     "height": 321,
     "output_extras": [
      {
       "item_id": 1
      }
     ]
    },
    "colab_type": "code",
    "executionInfo": {
     "elapsed": 541,
     "status": "ok",
     "timestamp": 1522639038891,
     "user": {
      "displayName": "Sasha Rush",
      "photoUrl": "https://lh3.googleusercontent.com/a/default-user=s128",
      "userId": "112736061112454937688"
     },
     "user_tz": 240
    },
    "id": "qMsBRCuLUgQ3",
    "outputId": "0ba52f87-93d6-441b-b6c6-b724981758db"
   }
  },
  {
   "cell_type": "code",
   "execution_count": null,
   "source": [
    "#export\n",
    "class Generator(nn.Module):\n",
    "    \"Standard generation step. (Not described in the paper.)\"\n",
    "    def __init__(self, d_model, vocab):\n",
    "        super(Generator, self).__init__()\n",
    "        self.proj = nn.Linear(d_model, vocab)\n",
    "\n",
    "    def forward(self, x):\n",
    "        return F.log_softmax(self.proj(x), dim=-1)"
   ],
   "outputs": [],
   "metadata": {
    "colab": {
     "autoexec": {
      "startup": false,
      "wait_interval": 0
     }
    },
    "colab_type": "code",
    "id": "heaKRIaZUgQ6"
   }
  },
  {
   "cell_type": "markdown",
   "source": [
    "## Full Model"
   ],
   "metadata": {
    "colab_type": "text",
    "id": "dd3lP9fTUgQ9"
   }
  },
  {
   "cell_type": "code",
   "execution_count": null,
   "source": [
    "#export\n",
    "def make_model(src_vocab, tgt_vocab, N=6, d_model=512, d_ff=2048, h=8, dropout=0.1):\n",
    "    \"Construct a model object based on hyperparameters.\"\n",
    "    c = copy.deepcopy\n",
    "    attn = MultiHeadedAttention(h, d_model, dropout)\n",
    "    ff = PositionwiseFeedForward(d_model, d_ff, dropout)\n",
    "    position = PositionalEncoding(d_model, dropout)\n",
    "    model = EncoderDecoder(\n",
    "        Encoder(EncoderLayer(d_model, c(attn), c(ff), dropout), N),\n",
    "        Decoder(DecoderLayer(d_model, c(attn), c(attn), c(ff), dropout), N),\n",
    "        nn.Sequential(Embeddings(d_model, src_vocab), c(position)),\n",
    "        nn.Sequential(Embeddings(d_model, tgt_vocab), c(position)),\n",
    "        Generator(d_model, tgt_vocab))\n",
    "    \n",
    "    # This was important from their code. Initialize parameters with Glorot or fan_avg.\n",
    "    for p in model.parameters():\n",
    "        if p.dim() > 1:\n",
    "            nn.init.xavier_uniform(p)\n",
    "    return model"
   ],
   "outputs": [],
   "metadata": {
    "colab": {
     "autoexec": {
      "startup": false,
      "wait_interval": 0
     }
    },
    "colab_type": "code",
    "id": "b-LDhRoaUgQ-"
   }
  },
  {
   "cell_type": "code",
   "execution_count": null,
   "source": [
    "# Small example model.\n",
    "# tmp_model = make_model(10, 10, 2)\n",
    "# tmp_model"
   ],
   "outputs": [],
   "metadata": {
    "colab": {
     "autoexec": {
      "startup": false,
      "wait_interval": 0
     },
     "base_uri": "https://localhost:8080/",
     "height": 3023,
     "output_extras": [
      {
       "item_id": 1
      }
     ]
    },
    "colab_type": "code",
    "executionInfo": {
     "elapsed": 738,
     "status": "ok",
     "timestamp": 1522639051120,
     "user": {
      "displayName": "Sasha Rush",
      "photoUrl": "https://lh3.googleusercontent.com/a/default-user=s128",
      "userId": "112736061112454937688"
     },
     "user_tz": 240
    },
    "id": "qP-g4KfhUgQ_",
    "outputId": "e5d671a2-a9d4-461b-f08c-bf5b7a4ddb73"
   }
  },
  {
   "cell_type": "markdown",
   "source": [
    "## Training"
   ],
   "metadata": {}
  },
  {
   "cell_type": "code",
   "execution_count": null,
   "source": [
    "#export\n",
    "# Note: This part is incredibly important. \n",
    "# Need to train with this setup of the model is very unstable.\n",
    "class NoamOpt:\n",
    "    \"Optim wrapper that implements rate.\"\n",
    "    def __init__(self, model_size, factor, warmup, optimizer):\n",
    "        self.optimizer = optimizer\n",
    "        self._step = 0\n",
    "        self.warmup = warmup\n",
    "        self.factor = factor\n",
    "        self.model_size = model_size\n",
    "        self._rate = 0\n",
    "        \n",
    "    def step(self):\n",
    "        \"Update parameters and rate\"\n",
    "        self._step += 1\n",
    "        rate = self.rate()\n",
    "        for p in self.optimizer.param_groups:\n",
    "            p['lr'] = rate\n",
    "        self._rate = rate\n",
    "        self.optimizer.step()\n",
    "        \n",
    "    def rate(self, step = None):\n",
    "        \"Implement `lrate` above\"\n",
    "        if step is None:\n",
    "            step = self._step\n",
    "        return self.factor * \\\n",
    "            (self.model_size ** (-0.5) *\n",
    "            min(step ** (-0.5), step * self.warmup**(-1.5)))\n",
    "        \n",
    "def get_std_opt(model):\n",
    "    return NoamOpt(model.src_embed[0].d_model, 2, 4000,\n",
    "            torch.optim.Adam(model.parameters(), lr=0, betas=(0.9, 0.98), eps=1e-9))"
   ],
   "outputs": [],
   "metadata": {
    "colab": {
     "autoexec": {
      "startup": false,
      "wait_interval": 0
     }
    },
    "colab_type": "code",
    "id": "Q5yV0f2QUgRL"
   }
  },
  {
   "cell_type": "code",
   "execution_count": null,
   "source": [
    "#export\n",
    "# Three settings of the lrate hyperparameters.\n",
    "opts = [NoamOpt(512, 1, 4000, None), \n",
    "        NoamOpt(512, 1, 8000, None),\n",
    "        NoamOpt(256, 1, 4000, None)]\n",
    "plt.plot(np.arange(1, 20000), [[opt.rate(i) for opt in opts] for i in range(1, 20000)])\n",
    "plt.legend([\"512:4000\", \"512:8000\", \"256:4000\"])\n",
    "None"
   ],
   "outputs": [
    {
     "data": {
      "image/png": "[encoded data removed]",
      "text/plain": [
       "<Figure size 432x288 with 1 Axes>"
      ]
     },
     "metadata": {},
     "output_type": "display_data"
    }
   ],
   "metadata": {
    "colab": {
     "autoexec": {
      "startup": false,
      "wait_interval": 0
     },
     "base_uri": "https://localhost:8080/",
     "height": 266,
     "output_extras": [
      {
       "item_id": 1
      }
     ]
    },
    "colab_type": "code",
    "executionInfo": {
     "elapsed": 754,
     "status": "ok",
     "timestamp": 1522639068090,
     "user": {
      "displayName": "Sasha Rush",
      "photoUrl": "https://lh3.googleusercontent.com/a/default-user=s128",
      "userId": "112736061112454937688"
     },
     "user_tz": 240
    },
    "id": "PC2wCVEFUgRO",
    "outputId": "b3fc5e15-3be4-4e1b-fb3b-fd722207a9a9"
   }
  },
  {
   "cell_type": "markdown",
   "source": [
    "## Regularization                              \n",
    "### Label Smoothing"
   ],
   "metadata": {
    "colab_type": "text",
    "id": "8tkzxQYKUgRQ"
   }
  },
  {
   "cell_type": "code",
   "execution_count": null,
   "source": [
    "#export\n",
    "class LabelSmoothing(nn.Module):\n",
    "    \"Implement label smoothing.\"\n",
    "    def __init__(self, size, padding_idx, smoothing=0.0):\n",
    "        super(LabelSmoothing, self).__init__()\n",
    "        self.criterion = nn.KLDivLoss(size_average=False)\n",
    "        self.padding_idx = padding_idx\n",
    "        self.confidence = 1.0 - smoothing\n",
    "        self.smoothing = smoothing\n",
    "        self.size = size\n",
    "        self.true_dist = None\n",
    "        \n",
    "    def forward(self, x, target):\n",
    "        assert x.size(1) == self.size\n",
    "        true_dist = x.data.clone()\n",
    "        true_dist.fill_(self.smoothing / (self.size - 2))\n",
    "        true_dist.scatter_(1, target.data.unsqueeze(1), self.confidence)\n",
    "        true_dist[:, self.padding_idx] = 0\n",
    "        mask = torch.nonzero(target.data == self.padding_idx)\n",
    "        if mask.dim() > 0:\n",
    "            true_dist.index_fill_(0, mask.squeeze(), 0.0)\n",
    "        self.true_dist = true_dist\n",
    "        return self.criterion(x, Variable(true_dist, requires_grad=False))"
   ],
   "outputs": [],
   "metadata": {
    "colab": {
     "autoexec": {
      "startup": false,
      "wait_interval": 0
     }
    },
    "colab_type": "code",
    "id": "IVWDJLXrUgRQ"
   }
  },
  {
   "cell_type": "code",
   "execution_count": null,
   "source": [
    "#export\n",
    "#Example\n",
    "crit = LabelSmoothing(5, 0, 0.5)\n",
    "predict = torch.FloatTensor([[0, 0.2, 0.7, 0.1, 0],\n",
    "                             [0, 0.2, 0.7, 0.1, 0], \n",
    "                             [0, 0.2, 0.7, 0.1, 0]])\n",
    "v = crit(Variable(predict.log()), \n",
    "         Variable(torch.LongTensor([2, 1, 0])))\n",
    "\n",
    "# Show the target distributions expected by the system.\n",
    "plt.imshow(crit.true_dist)\n",
    "None"
   ],
   "outputs": [
    {
     "output_type": "stream",
     "name": "stderr",
     "text": [
      "/usr/local/lib/python3.6/dist-packages/torch/nn/_reduction.py:43: UserWarning: size_average and reduce args will be deprecated, please use reduction='sum' instead.\n",
      "  warnings.warn(warning.format(ret))\n"
     ]
    },
    {
     "data": {
      "image/png": "[encoded data removed]",
      "text/plain": [
       "<Figure size 432x288 with 1 Axes>"
      ]
     },
     "metadata": {},
     "output_type": "display_data"
    }
   ],
   "metadata": {
    "colab": {
     "autoexec": {
      "startup": false,
      "wait_interval": 0
     },
     "base_uri": "https://localhost:8080/",
     "height": 254,
     "output_extras": [
      {
       "item_id": 1
      }
     ]
    },
    "colab_type": "code",
    "executionInfo": {
     "elapsed": 377,
     "status": "ok",
     "timestamp": 1522639096676,
     "user": {
      "displayName": "Sasha Rush",
      "photoUrl": "https://lh3.googleusercontent.com/a/default-user=s128",
      "userId": "112736061112454937688"
     },
     "user_tz": 240
    },
    "id": "_gXwt5HVUgRT",
    "outputId": "3ea1a660-0bc7-4b1e-ba8e-7d3fbf560640"
   }
  },
  {
   "cell_type": "code",
   "execution_count": null,
   "source": [
    "crit = LabelSmoothing(5, 0, 0.2)"
   ],
   "outputs": [],
   "metadata": {}
  },
  {
   "cell_type": "code",
   "execution_count": null,
   "source": [
    "#export\n",
    "Variable(torch.LongTensor([1])), Variable(predict.log())"
   ],
   "outputs": [
    {
     "data": {
      "text/plain": [
       "(tensor([1]),\n",
       " tensor([[   -inf, -1.6094, -0.3567, -2.3026,    -inf],\n",
       "         [   -inf, -1.6094, -0.3567, -2.3026,    -inf],\n",
       "         [   -inf, -1.6094, -0.3567, -2.3026,    -inf]]))"
      ]
     },
     "metadata": {},
     "output_type": "display_data"
    }
   ],
   "metadata": {}
  },
  {
   "cell_type": "code",
   "execution_count": null,
   "source": [
    "#Example\n",
    "crit = LabelSmoothing(5, 0, 0.5)\n",
    "predict = torch.FloatTensor([[0, 0.2, 0.7, 0.1, 0],\n",
    "                             [0, 0.2, 0.7, 0.1, 0], \n",
    "                             [0, 0.2, 0.7, 0.1, 0]])\n",
    "v = crit(Variable(predict.log()), \n",
    "         Variable(torch.LongTensor([2, 1, 0])))\n",
    "\n",
    "# Show the target distributions expected by the system.\n",
    "plt.imshow(crit.true_dist)\n",
    "None"
   ],
   "outputs": [
    {
     "data": {
      "image/png": "[encoded data removed]",
      "text/plain": [
       "<Figure size 432x288 with 1 Axes>"
      ]
     },
     "metadata": {},
     "output_type": "display_data"
    }
   ],
   "metadata": {}
  },
  {
   "cell_type": "code",
   "execution_count": null,
   "source": [
    "#export\n",
    "# Label smoothing starts to penalize the model \n",
    "# if it gets very confident about a given choice\n",
    "crit = LabelSmoothing(5, 0, 0.2)\n",
    "def loss(x):\n",
    "    d = x + 3 * 1\n",
    "    predict = torch.FloatTensor([[0, x / d, 1 / d, 1 / d, 1 / d],])\n",
    "    #print(predict)\n",
    "    return crit(Variable(predict.log()),\n",
    "                 Variable(torch.LongTensor([1]))).item()\n",
    "plt.plot(np.arange(1, 100), [loss(x) for x in range(1, 100)])"
   ],
   "outputs": [
    {
     "data": {
      "text/plain": [
       "[<matplotlib.lines.Line2D at 0x7f2f842c9eb8>]"
      ]
     },
     "metadata": {},
     "output_type": "display_data"
    },
    {
     "data": {
      "image/png": "[encoded data removed]",
      "text/plain": [
       "<Figure size 432x288 with 1 Axes>"
      ]
     },
     "metadata": {},
     "output_type": "display_data"
    }
   ],
   "metadata": {
    "colab": {
     "autoexec": {
      "startup": false,
      "wait_interval": 0
     },
     "base_uri": "https://localhost:8080/",
     "height": 288,
     "output_extras": [
      {
       "item_id": 1
      },
      {
       "item_id": 2
      }
     ]
    },
    "colab_type": "code",
    "executionInfo": {
     "elapsed": 438,
     "status": "ok",
     "timestamp": 1522639115760,
     "user": {
      "displayName": "Sasha Rush",
      "photoUrl": "https://lh3.googleusercontent.com/a/default-user=s128",
      "userId": "112736061112454937688"
     },
     "user_tz": 240
    },
    "id": "sHBHTwmjUgRU",
    "outputId": "4086db46-2dd9-4566-804e-8e5f80641a69"
   }
  },
  {
   "cell_type": "markdown",
   "source": [
    "### Memory Optimization"
   ],
   "metadata": {
    "colab_type": "text",
    "id": "XoyfFgLoUgRW"
   }
  },
  {
   "cell_type": "code",
   "execution_count": null,
   "source": [
    "#export\n",
    "def loss_backprop(generator, criterion, out, targets, normalize):\n",
    "    \"\"\"\n",
    "    Memory optmization. Compute each timestep separately and sum grads.\n",
    "    \"\"\"\n",
    "    assert out.size(1) == targets.size(1)\n",
    "    total = 0.0\n",
    "    out_grad = []\n",
    "    for i in range(out.size(1)):\n",
    "        out_column = Variable(out[:, i].data, requires_grad=True)\n",
    "        gen = generator(out_column)\n",
    "        loss = criterion(gen, targets[:, i]) / normalize\n",
    "        total += loss.item()\n",
    "        loss.backward()\n",
    "        out_grad.append(out_column.grad.data.clone())\n",
    "    out_grad = torch.stack(out_grad, dim=1)\n",
    "    out.backward(gradient=out_grad)\n",
    "    return total"
   ],
   "outputs": [],
   "metadata": {
    "colab": {
     "autoexec": {
      "startup": false,
      "wait_interval": 0
     }
    },
    "colab_type": "code",
    "id": "yVKyONFsUgRW"
   }
  },
  {
   "cell_type": "code",
   "execution_count": null,
   "source": [
    "#export\n",
    "def make_std_mask(src, tgt, pad):\n",
    "    src_mask = (src != pad).unsqueeze(-2)\n",
    "    tgt_mask = (tgt != pad).unsqueeze(-2)\n",
    "    tgt_mask = tgt_mask & Variable(subsequent_mask(tgt.size(-1)).type_as(tgt_mask.data))\n",
    "    return src_mask, tgt_mask"
   ],
   "outputs": [],
   "metadata": {
    "colab": {
     "autoexec": {
      "startup": false,
      "wait_interval": 0
     }
    },
    "colab_type": "code",
    "id": "LiTlbMq2UgRY"
   }
  },
  {
   "cell_type": "code",
   "execution_count": null,
   "source": [
    "#export\n",
    "def train_epoch(train_iter, model, criterion, model_opt, transpose=False):\n",
    "    model.train()\n",
    "    for i, batch in enumerate(train_iter):\n",
    "        src, trg, src_mask, trg_mask = \\\n",
    "            batch.src, batch.trg, batch.src_mask, batch.trg_mask\n",
    "        out = model.forward(src, trg[:, :-1], src_mask, trg_mask[:, :-1, :-1])\n",
    "        loss = loss_backprop(model.generator, criterion, out, trg[:, 1:], batch.ntokens) \n",
    "        \n",
    "        model_opt.step()\n",
    "        model_opt.optimizer.zero_grad()\n",
    "             \n",
    "        if i % 100 == 1:\n",
    "            print(out.shape, trg[:,1:].shape)\n",
    "            print(src.shape, trg[:, :-1].shape, \"batch ntokens\", batch.ntokens.item())\n",
    "            print(i, \"loss\", loss, \"model_opt rate\", model_opt._rate)\n",
    "            \n",
    "            \n",
    "def valid_epoch(valid_iter, model, criterion, transpose=False):\n",
    "    model.eval()\n",
    "    total = 0\n",
    "    for i, batch in enumerate(valid_iter):\n",
    "        src, trg, src_mask, trg_mask = \\\n",
    "            batch.src, batch.trg, batch.src_mask, batch.trg_mask\n",
    "        out = model.forward(src, trg[:, :-1], src_mask, trg_mask[:, :-1, :-1])\n",
    "        loss = loss_backprop(model.generator, criterion, out, trg[:, 1:], batch.ntokens)\n",
    "        if i % 10 == 1:\n",
    "            print(i, \"validation loss\", loss)"
   ],
   "outputs": [],
   "metadata": {
    "colab": {
     "autoexec": {
      "startup": false,
      "wait_interval": 0
     }
    },
    "colab_type": "code",
    "id": "sSF9AaKJUgRZ"
   }
  },
  {
   "cell_type": "code",
   "execution_count": null,
   "source": [
    "#export\n",
    "class Batch:\n",
    "    \"Object for holding a batch of data with mask during training.\"\n",
    "    def __init__(self, src, trg=None, pad=0):\n",
    "        self.src = src\n",
    "        self.src_mask = (src != pad).unsqueeze(-2)\n",
    "        if trg is not None:\n",
    "            self.trg = trg[:, :-1]\n",
    "            self.trg_y = trg[:, 1:]\n",
    "            self.trg_mask = \\\n",
    "                self.make_std_mask(self.trg, pad)\n",
    "            self.ntokens = (self.trg_y != pad).data.sum()\n",
    "    \n",
    "    @staticmethod\n",
    "    def make_std_mask(tgt, pad):\n",
    "        \"Create a mask to hide padding and future words.\"\n",
    "        tgt_mask = (tgt != pad).unsqueeze(-2)\n",
    "        tgt_mask = tgt_mask & Variable(\n",
    "            subsequent_mask(tgt.size(-1)).type_as(tgt_mask.data))\n",
    "        return tgt_mask\n",
    "    \n",
    "def data_gen(V, batch, nbatches):\n",
    "    \"Generate random data for a src-tgt copy task.\"\n",
    "    for i in range(nbatches):\n",
    "        data = torch.from_numpy(np.random.randint(1, V, size=(batch, 10)))\n",
    "        data[:, 0] = 1\n",
    "        src = Variable(data, requires_grad=False)\n",
    "        tgt = Variable(data, requires_grad=False)\n",
    "        yield Batch(src, tgt, 0)"
   ],
   "outputs": [],
   "metadata": {
    "colab": {
     "autoexec": {
      "startup": false,
      "wait_interval": 0
     }
    },
    "colab_type": "code",
    "id": "uJo5AZasUgRd"
   }
  },
  {
   "cell_type": "code",
   "execution_count": null,
   "source": [
    "#export\n",
    "V = 11\n",
    "criterion = LabelSmoothing(size=V, padding_idx=0, smoothing=0.0)\n",
    "model = make_model(V, V, N=2)\n",
    "model_opt = get_std_opt(model)\n",
    "for epoch in range(2):\n",
    "    train_epoch(data_gen(V, 30, 20), model, criterion, model_opt)"
   ],
   "outputs": [
    {
     "output_type": "stream",
     "name": "stderr",
     "text": [
      "/usr/local/lib/python3.6/dist-packages/torch/nn/_reduction.py:43: UserWarning: size_average and reduce args will be deprecated, please use reduction='sum' instead.\n",
      "  warnings.warn(warning.format(ret))\n",
      "/usr/local/lib/python3.6/dist-packages/ipykernel_launcher.py:18: UserWarning: nn.init.xavier_uniform is now deprecated in favor of nn.init.xavier_uniform_.\n"
     ]
    },
    {
     "output_type": "stream",
     "name": "stdout",
     "text": [
      "torch.Size([30, 8, 512]) torch.Size([30, 8])\n",
      "torch.Size([30, 10]) torch.Size([30, 8]) batch ntokens 270\n",
      "1 loss 2.755080610513687 model_opt rate 6.987712429686844e-07\n",
      "torch.Size([30, 8, 512]) torch.Size([30, 8])\n",
      "torch.Size([30, 10]) torch.Size([30, 8]) batch ntokens 270\n",
      "1 loss 2.396752566099167 model_opt rate 7.686483672655528e-06\n"
     ]
    }
   ],
   "metadata": {
    "colab": {
     "autoexec": {
      "startup": false,
      "wait_interval": 0
     },
     "base_uri": "https://localhost:8080/",
     "height": 604,
     "output_extras": [
      {
       "item_id": 1
      },
      {
       "item_id": 2
      }
     ]
    },
    "colab_type": "code",
    "executionInfo": {
     "elapsed": 10550,
     "status": "error",
     "timestamp": 1522639142280,
     "user": {
      "displayName": "Sasha Rush",
      "photoUrl": "https://lh3.googleusercontent.com/a/default-user=s128",
      "userId": "112736061112454937688"
     },
     "user_tz": 240
    },
    "id": "vrpU5b2sUgRe",
    "outputId": "00871f60-2fcb-4235-c0ab-8de02a0c069c"
   }
  },
  {
   "cell_type": "markdown",
   "source": [
    "# A Real World Example"
   ],
   "metadata": {
    "colab_type": "text",
    "id": "5S2BcIoOUgRg"
   }
  },
  {
   "cell_type": "code",
   "execution_count": null,
   "source": [
    "#export\n",
    "# Load words from IWSLT\n",
    "!python3 -m spacy download en\n",
    "!python3 -m spacy download de"
   ],
   "outputs": [
    {
     "output_type": "stream",
     "name": "stdout",
     "text": [
      "Collecting https://github.com/explosion/spacy-models/releases/download/en_core_web_sm-2.0.0/en_core_web_sm-2.0.0.tar.gz\n",
      "  Downloading https://github.com/explosion/spacy-models/releases/download/en_core_web_sm-2.0.0/en_core_web_sm-2.0.0.tar.gz (37.4MB)\n",
      "\u001b[K    100% |████████████████████████████████| 37.4MB 7.1MB/s ta 0:00:01\n",
      "\u001b[?25hInstalling collected packages: en-core-web-sm\n",
      "  Running setup.py install for en-core-web-sm ... \u001b[?25ldone\n",
      "\u001b[?25hSuccessfully installed en-core-web-sm-2.0.0\n",
      "\n",
      "\u001b[93m    Linking successful\u001b[0m\n",
      "    /usr/local/lib/python3.6/dist-packages/en_core_web_sm -->\n",
      "    /usr/local/lib/python3.6/dist-packages/spacy/data/en\n",
      "\n",
      "    You can now load the model via spacy.load('en')\n",
      "\n",
      "Collecting https://github.com/explosion/spacy-models/releases/download/de_core_news_sm-2.0.0/de_core_news_sm-2.0.0.tar.gz\n",
      "  Downloading https://github.com/explosion/spacy-models/releases/download/de_core_news_sm-2.0.0/de_core_news_sm-2.0.0.tar.gz (38.2MB)\n",
      "\u001b[K    100% |████████████████████████████████| 38.2MB 7.0MB/s ta 0:00:01\n",
      "\u001b[?25hInstalling collected packages: de-core-news-sm\n",
      "  Running setup.py install for de-core-news-sm ... \u001b[?25ldone\n",
      "\u001b[?25hSuccessfully installed de-core-news-sm-2.0.0\n",
      "\n",
      "\u001b[93m    Linking successful\u001b[0m\n",
      "    /usr/local/lib/python3.6/dist-packages/de_core_news_sm -->\n",
      "    /usr/local/lib/python3.6/dist-packages/spacy/data/de\n",
      "\n",
      "    You can now load the model via spacy.load('de')\n",
      "\n"
     ]
    }
   ],
   "metadata": {}
  },
  {
   "cell_type": "code",
   "execution_count": null,
   "source": [
    "#export\n",
    "# For data loading.\n",
    "spacy_de = spacy.load('de')\n",
    "spacy_en = spacy.load('en')\n",
    "\n",
    "def tokenize_de(text):\n",
    "    return [tok.text for tok in spacy_de.tokenizer(text)]\n",
    "\n",
    "from torchtext import data, datasets\n",
    "\n",
    "def tokenize_en(text):\n",
    "    return [tok.text for tok in spacy_en.tokenizer(text)]\n",
    "\n",
    "BOS_WORD = '<s>'\n",
    "EOS_WORD = '</s>'\n",
    "BLANK_WORD = \"<blank>\"\n",
    "SRC = data.Field(tokenize=tokenize_de, pad_token=BLANK_WORD)\n",
    "TGT = data.Field(tokenize=tokenize_en, init_token = BOS_WORD, \n",
    "                 eos_token = EOS_WORD, pad_token=BLANK_WORD)"
   ],
   "outputs": [],
   "metadata": {}
  },
  {
   "cell_type": "code",
   "execution_count": null,
   "source": [
    "#export\n",
    "MIN_LEN = 50\n",
    "MAX_LEN = 90\n",
    "train, val, test = datasets.IWSLT.splits(exts=('.de', '.en'), fields=(SRC, TGT), root='.data',\n",
    "                                         filter_pred=lambda x: len(vars(x)['src']) <= MAX_LEN and \n",
    "                                         len(vars(x)['src']) >= MIN_LEN and\n",
    "                                         len(vars(x)['trg']) <= MAX_LEN and \n",
    "                            \n",
    "                                         len(vars(x)['trg']) >= MIN_LEN)\n",
    "\n",
    "MIN_FREQ = 1\n",
    "SRC.build_vocab(train.src, min_freq=MIN_FREQ)\n",
    "TGT.build_vocab(train.trg, min_freq=MIN_FREQ)"
   ],
   "outputs": [
    {
     "output_type": "stream",
     "name": "stdout",
     "text": [
      ".data/iwslt/de-en/IWSLT16.TED.tst2013.de-en.en.xml\n",
      ".data/iwslt/de-en/IWSLT16.TED.tst2012.de-en.en.xml\n",
      ".data/iwslt/de-en/IWSLT16.TEDX.tst2014.de-en.en.xml\n",
      ".data/iwslt/de-en/IWSLT16.TEDX.dev2012.de-en.en.xml\n",
      ".data/iwslt/de-en/IWSLT16.TED.tst2010.de-en.de.xml\n",
      ".data/iwslt/de-en/IWSLT16.TED.tst2013.de-en.de.xml\n",
      ".data/iwslt/de-en/IWSLT16.TEDX.dev2012.de-en.de.xml\n",
      ".data/iwslt/de-en/IWSLT16.TED.tst2012.de-en.de.xml\n",
      ".data/iwslt/de-en/IWSLT16.TED.dev2010.de-en.de.xml\n",
      ".data/iwslt/de-en/IWSLT16.TEDX.tst2013.de-en.en.xml\n",
      ".data/iwslt/de-en/IWSLT16.TEDX.tst2013.de-en.de.xml\n",
      ".data/iwslt/de-en/IWSLT16.TED.tst2011.de-en.de.xml\n",
      ".data/iwslt/de-en/IWSLT16.TED.tst2011.de-en.en.xml\n",
      ".data/iwslt/de-en/IWSLT16.TED.tst2014.de-en.de.xml\n",
      ".data/iwslt/de-en/IWSLT16.TED.tst2014.de-en.en.xml\n",
      ".data/iwslt/de-en/IWSLT16.TED.tst2010.de-en.en.xml\n",
      ".data/iwslt/de-en/IWSLT16.TED.dev2010.de-en.en.xml\n",
      ".data/iwslt/de-en/IWSLT16.TEDX.tst2014.de-en.de.xml\n",
      ".data/iwslt/de-en/train.tags.de-en.en\n",
      ".data/iwslt/de-en/train.tags.de-en.de\n"
     ]
    }
   ],
   "metadata": {}
  },
  {
   "cell_type": "code",
   "execution_count": null,
   "source": [
    "len(train), len(val), len(test)"
   ],
   "outputs": [
    {
     "data": {
      "text/plain": [
       "(4672, 31, 26)"
      ]
     },
     "metadata": {},
     "output_type": "display_data"
    }
   ],
   "metadata": {}
  },
  {
   "cell_type": "code",
   "execution_count": null,
   "source": [
    "type(train),type(val),type(test)"
   ],
   "outputs": [
    {
     "data": {
      "text/plain": [
       "(torchtext.datasets.translation.IWSLT,\n",
       " torchtext.datasets.translation.IWSLT,\n",
       " torchtext.datasets.translation.IWSLT)"
      ]
     },
     "metadata": {},
     "output_type": "display_data"
    }
   ],
   "metadata": {}
  },
  {
   "cell_type": "code",
   "execution_count": null,
   "source": [
    "#export\n",
    "# Detail. Batching seems to matter quite a bit. \n",
    "# This is temporary code for dynamic batching based on number of tokens.\n",
    "# This code should all go away once things get merged in this library.\n",
    "\n",
    "BATCH_SIZE = 64 #4096\n",
    "global max_src_in_batch, max_tgt_in_batch\n",
    "def batch_size_fn(new, count, sofar):\n",
    "    \"Keep augmenting batch and calculate total number of tokens + padding.\"\n",
    "    global max_src_in_batch, max_tgt_in_batch\n",
    "    if count == 1:\n",
    "        max_src_in_batch = 0\n",
    "        max_tgt_in_batch = 0\n",
    "    max_src_in_batch = max(max_src_in_batch,  len(new.src))\n",
    "    max_tgt_in_batch = max(max_tgt_in_batch,  len(new.trg) + 2)\n",
    "    src_elements = count * max_src_in_batch\n",
    "    tgt_elements = count * max_tgt_in_batch\n",
    "    return max(src_elements, tgt_elements)\n",
    "\n",
    "\n",
    "class MyIterator(data.Iterator):\n",
    "    def create_batches(self):\n",
    "        if self.train:\n",
    "            def pool(d, random_shuffler):\n",
    "                for p in data.batch(d, self.batch_size * 100):\n",
    "                    p_batch = data.batch(\n",
    "                        sorted(p, key=self.sort_key),\n",
    "                        self.batch_size, self.batch_size_fn)\n",
    "                    for b in random_shuffler(list(p_batch)):\n",
    "                        yield b\n",
    "            self.batches = pool(self.data(), self.random_shuffler)\n",
    "            \n",
    "        else:\n",
    "            self.batches = []\n",
    "            for b in data.batch(self.data(), self.batch_size,\n",
    "                                          self.batch_size_fn):\n",
    "                self.batches.append(sorted(b, key=self.sort_key))\n",
    "\n",
    "def rebatch(pad_idx, batch):\n",
    "    \"Fix order in torchtext to match ours\"\n",
    "    src, trg = batch.src.transpose(0, 1), batch.trg.transpose(0, 1)\n",
    "    return Batch(src, trg, pad_idx)\n",
    "\n",
    "\n",
    "train_iter = MyIterator(train, batch_size=BATCH_SIZE, device=0,\n",
    "                        repeat=False, sort_key=lambda x: (len(x.src), len(x.trg)),\n",
    "                        batch_size_fn=batch_size_fn, train=True)\n",
    "valid_iter = MyIterator(val, batch_size=BATCH_SIZE, device=0,\n",
    "                        repeat=False, sort_key=lambda x: (len(x.src), len(x.trg)),\n",
    "                        batch_size_fn=batch_size_fn, train=False)"
   ],
   "outputs": [],
   "metadata": {
    "colab": {
     "autoexec": {
      "startup": false,
      "wait_interval": 0
     },
     "base_uri": "https://localhost:8080/",
     "height": 244,
     "output_extras": [
      {
       "item_id": 1
      }
     ]
    },
    "colab_type": "code",
    "executionInfo": {
     "elapsed": 566,
     "status": "error",
     "timestamp": 1522639569474,
     "user": {
      "displayName": "Sasha Rush",
      "photoUrl": "https://lh3.googleusercontent.com/a/default-user=s128",
      "userId": "112736061112454937688"
     },
     "user_tz": 240
    },
    "id": "F8MTIJTWUgRl",
    "outputId": "bd6c163a-14a2-4f8c-b0d5-01a033f278c4"
   }
  },
  {
   "cell_type": "code",
   "execution_count": null,
   "source": [
    "#export\n",
    "torch.cuda.empty_cache()\n",
    "# Create the model an load it onto our GPU.\n",
    "pad_idx = TGT.vocab.stoi[\"<blank>\"]\n",
    "model = make_model(len(SRC.vocab), len(TGT.vocab), N=6)\n",
    "#model_opt = get_std_opt(model)\n",
    "\n",
    "model_opt = NoamOpt(model.src_embed[0].d_model, 1, 2000,\n",
    "            torch.optim.Adam(model.parameters(), lr=0.001, betas=(0.9, 0.98), eps=1e-9))\n",
    "model.cuda()\n",
    "\n",
    "criterion = LabelSmoothing(size=len(TGT.vocab), padding_idx=pad_idx, smoothing=0.1)\n",
    "criterion.cuda()\n",
    "for epoch in range(1):\n",
    "    train_epoch((rebatch(pad_idx, b) for b in train_iter), model, criterion, model_opt)\n",
    "    valid_epoch((rebatch(pad_idx, b) for b in valid_iter), model, criterion)"
   ],
   "outputs": [
    {
     "output_type": "stream",
     "name": "stderr",
     "text": [
      "/usr/local/lib/python3.6/dist-packages/ipykernel_launcher.py:18: UserWarning: nn.init.xavier_uniform is now deprecated in favor of nn.init.xavier_uniform_.\n"
     ]
    },
    {
     "output_type": "stream",
     "name": "stdout",
     "text": [
      "torch.Size([1, 75, 512]) torch.Size([1, 75])\n",
      "torch.Size([1, 61]) torch.Size([1, 75]) batch ntokens 76\n",
      "1 loss 8.402619332075119 model_opt rate 9.882117688026186e-07\n",
      "torch.Size([1, 81, 512]) torch.Size([1, 81])\n",
      "torch.Size([1, 82]) torch.Size([1, 81]) batch ntokens 82\n",
      "101 loss 7.150368750095367 model_opt rate 5.0398800208933554e-05\n",
      "torch.Size([1, 68, 512]) torch.Size([1, 68])\n",
      "torch.Size([1, 55]) torch.Size([1, 68]) batch ntokens 69\n",
      "201 loss 5.468293115496635 model_opt rate 9.980938864906449e-05\n",
      "torch.Size([1, 54, 512]) torch.Size([1, 54])\n",
      "torch.Size([1, 54]) torch.Size([1, 54]) batch ntokens 55\n",
      "301 loss 5.423916473984718 model_opt rate 0.0001492199770891954\n",
      "torch.Size([1, 66, 512]) torch.Size([1, 66])\n",
      "torch.Size([1, 61]) torch.Size([1, 66]) batch ntokens 67\n",
      "401 loss 5.517276173457503 model_opt rate 0.00019863056552932634\n",
      "torch.Size([1, 79, 512]) torch.Size([1, 79])\n",
      "torch.Size([1, 76]) torch.Size([1, 79]) batch ntokens 80\n",
      "501 loss 5.434048965573311 model_opt rate 0.0002480411539694573\n",
      "torch.Size([1, 79, 512]) torch.Size([1, 79])\n",
      "torch.Size([1, 72]) torch.Size([1, 79]) batch ntokens 80\n",
      "601 loss 5.231096133589745 model_opt rate 0.0002974517424095882\n",
      "torch.Size([1, 70, 512]) torch.Size([1, 70])\n",
      "torch.Size([1, 73]) torch.Size([1, 70]) batch ntokens 71\n",
      "701 loss 4.851310348138213 model_opt rate 0.0003468623308497191\n",
      "torch.Size([1, 58, 512]) torch.Size([1, 58])\n",
      "torch.Size([1, 51]) torch.Size([1, 58]) batch ntokens 59\n",
      "801 loss 4.954332705587149 model_opt rate 0.00039627291928985006\n",
      "torch.Size([1, 50, 512]) torch.Size([1, 50])\n",
      "torch.Size([1, 51]) torch.Size([1, 50]) batch ntokens 51\n",
      "901 loss 4.327415918931365 model_opt rate 0.00044568350772998105\n",
      "torch.Size([1, 54, 512]) torch.Size([1, 54])\n",
      "torch.Size([1, 53]) torch.Size([1, 54]) batch ntokens 55\n",
      "1001 loss 5.660787891596556 model_opt rate 0.0004950940961701119\n",
      "torch.Size([1, 59, 512]) torch.Size([1, 59])\n",
      "torch.Size([1, 54]) torch.Size([1, 59]) batch ntokens 60\n",
      "1101 loss 5.523985030129552 model_opt rate 0.0005445046846102429\n",
      "torch.Size([1, 52, 512]) torch.Size([1, 52])\n",
      "torch.Size([1, 52]) torch.Size([1, 52]) batch ntokens 53\n",
      "1201 loss 6.14827486872673 model_opt rate 0.0005939152730503739\n",
      "torch.Size([1, 69, 512]) torch.Size([1, 69])\n",
      "torch.Size([1, 73]) torch.Size([1, 69]) batch ntokens 70\n",
      "1301 loss 4.603690907359123 model_opt rate 0.0006433258614905047\n",
      "torch.Size([1, 67, 512]) torch.Size([1, 67])\n",
      "torch.Size([1, 54]) torch.Size([1, 67]) batch ntokens 68\n",
      "1401 loss 5.260843897238374 model_opt rate 0.0006927364499306357\n",
      "torch.Size([1, 61, 512]) torch.Size([1, 61])\n",
      "torch.Size([1, 52]) torch.Size([1, 61]) batch ntokens 62\n",
      "1501 loss 5.344027055427432 model_opt rate 0.0007421470383707667\n",
      "torch.Size([1, 63, 512]) torch.Size([1, 63])\n",
      "torch.Size([1, 51]) torch.Size([1, 63]) batch ntokens 64\n",
      "1601 loss 5.064880274236202 model_opt rate 0.0007915576268108975\n",
      "torch.Size([1, 58, 512]) torch.Size([1, 58])\n",
      "torch.Size([1, 72]) torch.Size([1, 58]) batch ntokens 59\n",
      "1701 loss 5.057258358225226 model_opt rate 0.0008409682152510285\n",
      "torch.Size([1, 51, 512]) torch.Size([1, 51])\n",
      "torch.Size([1, 56]) torch.Size([1, 51]) batch ntokens 52\n",
      "1801 loss 5.3923620991408825 model_opt rate 0.0008903788036911594\n",
      "torch.Size([1, 68, 512]) torch.Size([1, 68])\n",
      "torch.Size([1, 67]) torch.Size([1, 68]) batch ntokens 69\n",
      "1901 loss 5.707161791622639 model_opt rate 0.0009397893921312903\n",
      "torch.Size([1, 53, 512]) torch.Size([1, 53])\n",
      "torch.Size([1, 50]) torch.Size([1, 53]) batch ntokens 54\n",
      "2001 loss 5.270883213728666 model_opt rate 0.0009877180331890844\n",
      "torch.Size([1, 57, 512]) torch.Size([1, 57])\n",
      "torch.Size([1, 54]) torch.Size([1, 57]) batch ntokens 58\n",
      "2101 loss 5.483396176248789 model_opt rate 0.000963937028868181\n",
      "torch.Size([1, 59, 512]) torch.Size([1, 59])\n",
      "torch.Size([1, 53]) torch.Size([1, 59]) batch ntokens 60\n",
      "2201 loss 5.37376494705677 model_opt rate 0.0009417949604358004\n",
      "torch.Size([1, 55, 512]) torch.Size([1, 55])\n",
      "torch.Size([1, 58]) torch.Size([1, 55]) batch ntokens 56\n",
      "2301 loss 6.178659967146814 model_opt rate 0.0009211118295877159\n",
      "torch.Size([1, 50, 512]) torch.Size([1, 50])\n",
      "torch.Size([1, 51]) torch.Size([1, 50]) batch ntokens 51\n",
      "2401 loss 5.091018283739686 model_opt rate 0.0009017341512886895\n",
      "torch.Size([1, 55, 512]) torch.Size([1, 55])\n",
      "torch.Size([1, 59]) torch.Size([1, 55]) batch ntokens 56\n",
      "2501 loss 5.057306382805109 model_opt rate 0.0008835301350833032\n",
      "torch.Size([1, 77, 512]) torch.Size([1, 77])\n",
      "torch.Size([1, 71]) torch.Size([1, 77]) batch ntokens 78\n",
      "2601 loss 5.225629720836878 model_opt rate 0.0008663858953147308\n",
      "torch.Size([1, 60, 512]) torch.Size([1, 60])\n",
      "torch.Size([1, 57]) torch.Size([1, 60]) batch ntokens 61\n",
      "2701 loss 4.597279079258442 model_opt rate 0.0008502024402983488\n",
      "torch.Size([1, 63, 512]) torch.Size([1, 63])\n",
      "torch.Size([1, 70]) torch.Size([1, 63]) batch ntokens 64\n",
      "2801 loss 4.284754856489599 model_opt rate 0.0008348932580394765\n",
      "torch.Size([1, 64, 512]) torch.Size([1, 64])\n",
      "torch.Size([1, 55]) torch.Size([1, 64]) batch ntokens 65\n",
      "2901 loss 5.053527113981545 model_opt rate 0.0008203823636604459\n",
      "torch.Size([1, 67, 512]) torch.Size([1, 67])\n",
      "torch.Size([1, 68]) torch.Size([1, 67]) batch ntokens 68\n",
      "3001 loss 5.927818764001131 model_opt rate 0.0008066027076869802\n",
      "torch.Size([1, 62, 512]) torch.Size([1, 62])\n",
      "torch.Size([1, 63]) torch.Size([1, 62]) batch ntokens 63\n",
      "3101 loss 5.306142695248127 model_opt rate 0.0007934948689359775\n",
      "torch.Size([1, 51, 512]) torch.Size([1, 51])\n",
      "torch.Size([1, 50]) torch.Size([1, 51]) batch ntokens 52\n",
      "3201 loss 4.4757257997989655 model_opt rate 0.0007810059737563459\n",
      "torch.Size([1, 90, 512]) torch.Size([1, 90])\n",
      "torch.Size([1, 90]) torch.Size([1, 90]) batch ntokens 91\n",
      "3301 loss 5.9943962106481194 model_opt rate 0.0007690887967107073\n",
      "torch.Size([1, 63, 512]) torch.Size([1, 63])\n",
      "torch.Size([1, 63]) torch.Size([1, 63]) batch ntokens 64\n",
      "3401 loss 5.013489539735019 model_opt rate 0.0007577010077638625\n",
      "torch.Size([1, 78, 512]) torch.Size([1, 78])\n",
      "torch.Size([1, 72]) torch.Size([1, 78]) batch ntokens 79\n",
      "3501 loss 5.2333696857094765 model_opt rate 0.000746804538581799\n",
      "torch.Size([1, 58, 512]) torch.Size([1, 58])\n",
      "torch.Size([1, 53]) torch.Size([1, 58]) batch ntokens 59\n",
      "3601 loss 5.188572250306606 model_opt rate 0.0007363650462910516\n",
      "torch.Size([1, 65, 512]) torch.Size([1, 65])\n",
      "torch.Size([1, 57]) torch.Size([1, 65]) batch ntokens 66\n",
      "3701 loss 4.909946660511196 model_opt rate 0.0007263514574655239\n",
      "torch.Size([1, 57, 512]) torch.Size([1, 57])\n",
      "torch.Size([1, 50]) torch.Size([1, 57]) batch ntokens 58\n",
      "3801 loss 5.968114126473665 model_opt rate 0.0007167355785307615\n",
      "torch.Size([1, 76, 512]) torch.Size([1, 76])\n",
      "torch.Size([1, 63]) torch.Size([1, 76]) batch ntokens 77\n",
      "3901 loss 5.984023685567081 model_opt rate 0.0007074917614479042\n",
      "torch.Size([1, 56, 512]) torch.Size([1, 56])\n",
      "torch.Size([1, 52]) torch.Size([1, 56]) batch ntokens 57\n",
      "4001 loss 4.942840728908777 model_opt rate 0.0006985966156404623\n",
      "torch.Size([1, 64, 512]) torch.Size([1, 64])\n",
      "torch.Size([1, 59]) torch.Size([1, 64]) batch ntokens 65\n",
      "4101 loss 5.620517214760184 model_opt rate 0.000690028758789874\n",
      "torch.Size([1, 56, 512]) torch.Size([1, 56])\n",
      "torch.Size([1, 54]) torch.Size([1, 56]) batch ntokens 57\n",
      "4201 loss 5.252798993140459 model_opt rate 0.0006817686004501333\n",
      "torch.Size([1, 61, 512]) torch.Size([1, 61])\n",
      "torch.Size([1, 58]) torch.Size([1, 61]) batch ntokens 62\n",
      "4301 loss 5.207015132531524 model_opt rate 0.0006737981534928655\n",
      "torch.Size([1, 51, 512]) torch.Size([1, 51])\n",
      "torch.Size([1, 50]) torch.Size([1, 51]) batch ntokens 52\n",
      "4401 loss 5.04387286119163 model_opt rate 0.0006661008692491993\n",
      "torch.Size([1, 69, 512]) torch.Size([1, 69])\n",
      "torch.Size([1, 72]) torch.Size([1, 69]) batch ntokens 70\n",
      "4501 loss 4.8437658762559295 model_opt rate 0.0006586614929074\n",
      "torch.Size([1, 64, 512]) torch.Size([1, 64])\n",
      "torch.Size([1, 50]) torch.Size([1, 64]) batch ntokens 65\n",
      "4601 loss 5.202173730358481 model_opt rate 0.0006514659362891926\n"
     ]
    },
    {
     "output_type": "stream",
     "name": "stderr",
     "text": [
      "/usr/local/lib/python3.6/dist-packages/torchtext/data/field.py:322: UserWarning: volatile was removed and now has no effect. Use `with torch.no_grad():` instead.\n",
      "  return Variable(arr, volatile=not train)\n"
     ]
    },
    {
     "output_type": "stream",
     "name": "stdout",
     "text": [
      "1 validation loss 4.435821019113064\n",
      "11 validation loss 4.859912347048521\n",
      "21 validation loss 6.126227201893926\n"
     ]
    }
   ],
   "metadata": {
    "colab": {
     "autoexec": {
      "startup": false,
      "wait_interval": 0
     },
     "output_extras": [
      {}
     ]
    },
    "colab_type": "code",
    "id": "SStCCZoiUgRp",
    "outputId": "a551e444-2fe5-4cd5-f46a-3de3505a2545",
    "scrolled": false
   }
  },
  {
   "cell_type": "markdown",
   "source": [
    "#export\n",
    "### References:\n",
    "* http://nlp.seas.harvard.edu/2018/04/03/attention.html\n",
    "* http://jalammar.github.io/illustrated-transformer/"
   ],
   "metadata": {}
  }
 ],
 "metadata": {
  "kernelspec": {
   "display_name": "Python 3",
   "language": "python",
   "name": "python3"
  },
  "language_info": {
   "codemirror_mode": {
    "name": "ipython",
    "version": 3
   },
   "file_extension": ".py",
   "mimetype": "text/x-python",
   "name": "python",
   "nbconvert_exporter": "python",
   "pygments_lexer": "ipython3",
   "version": "3.8.5"
  }
 },
 "nbformat": 4,
 "nbformat_minor": 2
}